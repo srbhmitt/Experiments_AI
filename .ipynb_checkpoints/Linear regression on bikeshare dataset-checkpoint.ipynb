{
 "cells": [
  {
   "cell_type": "markdown",
   "metadata": {},
   "source": [
    "In this notebook we will first analyze the bike share dataset using pandas and then build a linear regression model from scratch to forecast the demand for the last 30 days"
   ]
  },
  {
   "cell_type": "code",
   "execution_count": 80,
   "metadata": {},
   "outputs": [
    {
     "name": "stdout",
     "output_type": "stream",
     "text": [
      "   instant      dteday  season  yr  mnth  hr  holiday  weekday  workingday  \\\n",
      "0        1  2011-01-01       1   0     1   0        0        6           0   \n",
      "1        2  2011-01-01       1   0     1   1        0        6           0   \n",
      "2        3  2011-01-01       1   0     1   2        0        6           0   \n",
      "3        4  2011-01-01       1   0     1   3        0        6           0   \n",
      "4        5  2011-01-01       1   0     1   4        0        6           0   \n",
      "\n",
      "   weathersit  temp   atemp   hum  windspeed  casual  registered  cnt  \n",
      "0           1  0.24  0.2879  0.81        0.0       3          13   16  \n",
      "1           1  0.22  0.2727  0.80        0.0       8          32   40  \n",
      "2           1  0.22  0.2727  0.80        0.0       5          27   32  \n",
      "3           1  0.24  0.2879  0.75        0.0       3          10   13  \n",
      "4           1  0.24  0.2879  0.75        0.0       0           1    1  \n",
      "          instant        season            yr          mnth            hr  \\\n",
      "count  17379.0000  17379.000000  17379.000000  17379.000000  17379.000000   \n",
      "mean    8690.0000      2.501640      0.502561      6.537775     11.546752   \n",
      "std     5017.0295      1.106918      0.500008      3.438776      6.914405   \n",
      "min        1.0000      1.000000      0.000000      1.000000      0.000000   \n",
      "25%     4345.5000      2.000000      0.000000      4.000000      6.000000   \n",
      "50%     8690.0000      3.000000      1.000000      7.000000     12.000000   \n",
      "75%    13034.5000      3.000000      1.000000     10.000000     18.000000   \n",
      "max    17379.0000      4.000000      1.000000     12.000000     23.000000   \n",
      "\n",
      "            holiday       weekday    workingday    weathersit          temp  \\\n",
      "count  17379.000000  17379.000000  17379.000000  17379.000000  17379.000000   \n",
      "mean       0.028770      3.003683      0.682721      1.425283      0.496987   \n",
      "std        0.167165      2.005771      0.465431      0.639357      0.192556   \n",
      "min        0.000000      0.000000      0.000000      1.000000      0.020000   \n",
      "25%        0.000000      1.000000      0.000000      1.000000      0.340000   \n",
      "50%        0.000000      3.000000      1.000000      1.000000      0.500000   \n",
      "75%        0.000000      5.000000      1.000000      2.000000      0.660000   \n",
      "max        1.000000      6.000000      1.000000      4.000000      1.000000   \n",
      "\n",
      "              atemp           hum     windspeed        casual    registered  \\\n",
      "count  17379.000000  17379.000000  17379.000000  17379.000000  17379.000000   \n",
      "mean       0.475775      0.627229      0.190098     35.676218    153.786869   \n",
      "std        0.171850      0.192930      0.122340     49.305030    151.357286   \n",
      "min        0.000000      0.000000      0.000000      0.000000      0.000000   \n",
      "25%        0.333300      0.480000      0.104500      4.000000     34.000000   \n",
      "50%        0.484800      0.630000      0.194000     17.000000    115.000000   \n",
      "75%        0.621200      0.780000      0.253700     48.000000    220.000000   \n",
      "max        1.000000      1.000000      0.850700    367.000000    886.000000   \n",
      "\n",
      "                cnt  \n",
      "count  17379.000000  \n",
      "mean     189.463088  \n",
      "std      181.387599  \n",
      "min        1.000000  \n",
      "25%       40.000000  \n",
      "50%      142.000000  \n",
      "75%      281.000000  \n",
      "max      977.000000  \n",
      "(17379, 17)\n",
      "instant       0\n",
      "dteday        0\n",
      "season        0\n",
      "yr            0\n",
      "mnth          0\n",
      "hr            0\n",
      "holiday       0\n",
      "weekday       0\n",
      "workingday    0\n",
      "weathersit    0\n",
      "temp          0\n",
      "atemp         0\n",
      "hum           0\n",
      "windspeed     0\n",
      "casual        0\n",
      "registered    0\n",
      "cnt           0\n",
      "dtype: int64\n"
     ]
    }
   ],
   "source": [
    "#importing the libraries\n",
    "import pandas as pd\n",
    "import numpy as np\n",
    "import matplotlib.pyplot as plt\n",
    "%matplotlib inline\n",
    "bikeshare_df = pd.read_csv('bikeshare_hour.csv')\n",
    "\n",
    "print (bikeshare_df.head())\n",
    "print (bikeshare_df.describe())\n",
    "print (bikeshare_df.shape)\n",
    "print (bikeshare_df.isnull().sum(axis = 0))"
   ]
  },
  {
   "cell_type": "markdown",
   "metadata": {},
   "source": [
    "So we can see that there are no null values and total number of rows is 17379. Below is the desc of the dataset\n",
    "\n",
    "\t- instant: record index\n",
    "\t- dteday : date\n",
    "\t- season : season (1:springer, 2:summer, 3:fall, 4:winter)\n",
    "\t- yr : year (0: 2011, 1:2012)\n",
    "\t- mnth : month ( 1 to 12)\n",
    "\t- hr : hour (0 to 23)\n",
    "\t- holiday : weather day is holiday or not (extracted from http://dchr.dc.gov/page/holiday-schedule)\n",
    "\t- weekday : day of the week\n",
    "\t- workingday : if day is neither weekend nor holiday is 1, otherwise is 0.\n",
    "\t+ weathersit : \n",
    "\t\t- 1: Clear, Few clouds, Partly cloudy, Partly cloudy\n",
    "\t\t- 2: Mist + Cloudy, Mist + Broken clouds, Mist + Few clouds, Mist\n",
    "\t\t- 3: Light Snow, Light Rain + Thunderstorm + Scattered clouds, Light Rain + Scattered clouds\n",
    "\t\t- 4: Heavy Rain + Ice Pallets + Thunderstorm + Mist, Snow + Fog\n",
    "\t- temp : Normalized temperature in Celsius. The values are divided to 41 (max)\n",
    "\t- atemp: Normalized feeling temperature in Celsius. The values are divided to 50 (max)\n",
    "\t- hum: Normalized humidity. The values are divided to 100 (max)\n",
    "\t- windspeed: Normalized wind speed. The values are divided to 67 (max)\n",
    "\t- casual: count of casual users\n",
    "\t- registered: count of registered users\n",
    "\t- cnt: count of total rental bikes including both casual and registered\n",
    "\t"
   ]
  },
  {
   "cell_type": "code",
   "execution_count": 81,
   "metadata": {},
   "outputs": [],
   "source": [
    "def define_seasons(x):\n",
    "    if x == 1:\n",
    "        return 'Spring'\n",
    "    elif x ==2:\n",
    "        return 'Summer'\n",
    "    elif x ==3:\n",
    "        return 'Fall'\n",
    "    elif x ==4:\n",
    "        return 'Winter'\n",
    "\n",
    "bikeshare_df['seasons_defined'] = bikeshare_df['season'].apply(define_seasons)"
   ]
  },
  {
   "cell_type": "code",
   "execution_count": 82,
   "metadata": {},
   "outputs": [
    {
     "data": {
      "text/plain": [
       "<matplotlib.axes._subplots.AxesSubplot at 0x1118ab2e8>"
      ]
     },
     "execution_count": 82,
     "metadata": {},
     "output_type": "execute_result"
    },
    {
     "data": {
      "image/png": "[encoded data removed]",
      "text/plain": [
       "<Figure size 432x288 with 1 Axes>"
      ]
     },
     "metadata": {},
     "output_type": "display_data"
    }
   ],
   "source": [
    "#first let's look at the rentals by weather. So the hourly average is highest in Fall\n",
    "bikeshare_df.groupby(['holiday','seasons_defined']).mean()['cnt'].unstack().plot.bar()"
   ]
  },
  {
   "cell_type": "code",
   "execution_count": 83,
   "metadata": {},
   "outputs": [
    {
     "data": {
      "text/plain": [
       "<matplotlib.axes._subplots.AxesSubplot at 0x111866898>"
      ]
     },
     "execution_count": 83,
     "metadata": {},
     "output_type": "execute_result"
    },
    {
     "data": {
      "image/png": "[encoded data removed]",
      "text/plain": [
       "<Figure size 432x288 with 1 Axes>"
      ]
     },
     "metadata": {},
     "output_type": "display_data"
    }
   ],
   "source": [
    "#Now lets look at which time of the day is the busiest by season\n",
    "bikeshare_df.groupby(['hr','seasons_defined']).mean()[['cnt']].unstack().plot.line()\n"
   ]
  },
  {
   "cell_type": "code",
   "execution_count": 84,
   "metadata": {},
   "outputs": [],
   "source": [
    "def weather_sit(x):\n",
    "    if x == 1:\n",
    "        return 'Clear'\n",
    "    elif x ==2:\n",
    "        return 'Mist'\n",
    "    elif x ==3:\n",
    "        return 'Light Snow and rain'\n",
    "    elif x ==4:\n",
    "        return 'Heavey rain and snow'\n",
    "\n",
    "bikeshare_df['weather_sit_define'] = bikeshare_df['weathersit'].apply(weather_sit)"
   ]
  },
  {
   "cell_type": "code",
   "execution_count": 85,
   "metadata": {},
   "outputs": [
    {
     "data": {
      "text/plain": [
       "<matplotlib.axes._subplots.AxesSubplot at 0x10bb2d5f8>"
      ]
     },
     "execution_count": 85,
     "metadata": {},
     "output_type": "execute_result"
    },
    {
     "data": {
      "image/png": "[encoded data removed]",
      "text/plain": [
       "<Figure size 432x288 with 1 Axes>"
      ]
     },
     "metadata": {},
     "output_type": "display_data"
    }
   ],
   "source": [
    "bikeshare_df['actual_temp'] = (bikeshare_df['atemp']*50).round().astype(int)\n",
    "\n",
    "bikeshare_df.groupby(['actual_temp','weather_sit_define']).mean()[['cnt']].unstack().plot.line()"
   ]
  },
  {
   "cell_type": "code",
   "execution_count": 86,
   "metadata": {},
   "outputs": [
    {
     "data": {
      "text/plain": [
       "<matplotlib.axes._subplots.AxesSubplot at 0x10bab0b38>"
      ]
     },
     "execution_count": 86,
     "metadata": {},
     "output_type": "execute_result"
    },
    {
     "data": {
      "image/png": "[encoded data removed]",
      "text/plain": [
       "<Figure size 432x288 with 1 Axes>"
      ]
     },
     "metadata": {},
     "output_type": "display_data"
    }
   ],
   "source": [
    "#Let's plot the total number of rentals and see how is looks like\n",
    "\n",
    "bikeshare_df[['dteday','cnt']].plot(x = 'dteday', y = 'cnt',rot=90)"
   ]
  },
  {
   "cell_type": "code",
   "execution_count": 87,
   "metadata": {},
   "outputs": [
    {
     "data": {
      "text/plain": [
       "<matplotlib.axes._subplots.AxesSubplot at 0x1111e06a0>"
      ]
     },
     "execution_count": 87,
     "metadata": {},
     "output_type": "execute_result"
    },
    {
     "data": {
      "image/png": "[encoded data removed]",
      "text/plain": [
       "<Figure size 432x288 with 1 Axes>"
      ]
     },
     "metadata": {},
     "output_type": "display_data"
    }
   ],
   "source": [
    "#same graph on a daily basis\n",
    "bikeshare_df.groupby('dteday').sum()['cnt'].plot(rot=90)"
   ]
  },
  {
   "cell_type": "code",
   "execution_count": 88,
   "metadata": {},
   "outputs": [
    {
     "name": "stdout",
     "output_type": "stream",
     "text": [
      "731\n",
      "2011-01-01\n",
      "2012-12-31\n"
     ]
    }
   ],
   "source": [
    "print (bikeshare_df['dteday'].nunique())\n",
    "print (bikeshare_df['dteday'].min())\n",
    "print (bikeshare_df['dteday'].max())\n"
   ]
  },
  {
   "cell_type": "code",
   "execution_count": 89,
   "metadata": {},
   "outputs": [
    {
     "name": "stdout",
     "output_type": "stream",
     "text": [
      "731\n",
      "2011-01-01\n",
      "2012-12-31\n"
     ]
    }
   ],
   "source": [
    "#Now we will be building a model to predict the number of rentals for the month of Dec 2012\n",
    "#We will be using the daily dataset for this model\n",
    "bikeshare_daily_df = pd.read_csv('bikeshare_day.csv')\n",
    "print (bikeshare_daily_df['dteday'].nunique())\n",
    "print (bikeshare_daily_df['dteday'].min())\n",
    "print (bikeshare_daily_df['dteday'].max())\n"
   ]
  },
  {
   "cell_type": "code",
   "execution_count": 90,
   "metadata": {},
   "outputs": [
    {
     "data": {
      "text/plain": [
       "<matplotlib.axes._subplots.AxesSubplot at 0x111884860>"
      ]
     },
     "execution_count": 90,
     "metadata": {},
     "output_type": "execute_result"
    },
    {
     "data": {
      "image/png": "[encoded data removed]",
      "text/plain": [
       "<Figure size 432x288 with 1 Axes>"
      ]
     },
     "metadata": {},
     "output_type": "display_data"
    }
   ],
   "source": [
    "bikeshare_daily_df[bikeshare_daily_df['dteday']>='2012-09-01'][['dteday','cnt']].plot(x = 'dteday', y ='cnt', rot=90)"
   ]
  },
  {
   "cell_type": "markdown",
   "metadata": {},
   "source": [
    "First let's do some feature engineering. The features we will be using are:\n",
    "- Day of week (dummy)\n",
    "- Season (dummy)\n",
    "- Temperature\n",
    "- Humidity\n",
    "- Weather type (dummy)\n",
    "- Holiday Flag\n",
    "- Windspeed\n",
    "- 1,3,7,14,30,60 and 140 days mean, median, min, max, std\n",
    "- 1,3,7,14,30,60 and 140 days mean, median, min, max, std of difference\n",
    "- DOW average for the last 4 weeks and 20 weeks\n",
    "- count on the same day a year ago\n",
    "\n",
    "The evaluation metric is root mean square errors"
   ]
  },
  {
   "cell_type": "code",
   "execution_count": 91,
   "metadata": {},
   "outputs": [],
   "source": [
    "#Let's create the dummy variables first\n",
    "dummies_day_week = pd.get_dummies(bikeshare_daily_df['weekday']).rename(columns=lambda x: 'weekday_' + str(x))"
   ]
  },
  {
   "cell_type": "code",
   "execution_count": 92,
   "metadata": {},
   "outputs": [],
   "source": [
    "bikeshare_daily_df = pd.concat([bikeshare_daily_df, dummies_day_week], axis=1)"
   ]
  },
  {
   "cell_type": "code",
   "execution_count": 93,
   "metadata": {},
   "outputs": [],
   "source": [
    "dummies_season = pd.get_dummies(bikeshare_daily_df['season']).rename(columns=lambda x: 'season_' + str(x))"
   ]
  },
  {
   "cell_type": "code",
   "execution_count": 94,
   "metadata": {},
   "outputs": [],
   "source": [
    "bikeshare_daily_df = pd.concat([bikeshare_daily_df, dummies_season], axis=1)"
   ]
  },
  {
   "cell_type": "code",
   "execution_count": 95,
   "metadata": {},
   "outputs": [],
   "source": [
    "dummies_weather = pd.get_dummies(bikeshare_daily_df['weathersit']).rename(columns=lambda x: 'weather_' + str(x))"
   ]
  },
  {
   "cell_type": "code",
   "execution_count": 96,
   "metadata": {},
   "outputs": [
    {
     "data": {
      "text/plain": [
       "<matplotlib.axes._subplots.AxesSubplot at 0x1111f7cf8>"
      ]
     },
     "execution_count": 96,
     "metadata": {},
     "output_type": "execute_result"
    },
    {
     "data": {
      "image/png": "[encoded data removed]",
      "text/plain": [
       "<Figure size 432x288 with 1 Axes>"
      ]
     },
     "metadata": {},
     "output_type": "display_data"
    }
   ],
   "source": [
    "bikeshare_daily_df.groupby('weathersit').mean()['cnt'].plot.bar()"
   ]
  },
  {
   "cell_type": "code",
   "execution_count": 97,
   "metadata": {},
   "outputs": [],
   "source": [
    "bikeshare_daily_df = pd.concat([bikeshare_daily_df, dummies_weather], axis=1)"
   ]
  },
  {
   "cell_type": "code",
   "execution_count": 98,
   "metadata": {},
   "outputs": [],
   "source": [
    "\n",
    "bikeshare_daily_df['mnth'] = pd.to_datetime(bikeshare_daily_df['dteday'], errors='coerce').dt.month\n",
    "bikeshare_daily_df['week_num'] = pd.to_datetime(bikeshare_daily_df['dteday'], errors='coerce').dt.week+1"
   ]
  },
  {
   "cell_type": "code",
   "execution_count": 99,
   "metadata": {},
   "outputs": [],
   "source": [
    "dummies_mnth = pd.get_dummies(bikeshare_daily_df['mnth']).rename(columns=lambda x: 'mnth_' + str(x))"
   ]
  },
  {
   "cell_type": "code",
   "execution_count": 100,
   "metadata": {},
   "outputs": [],
   "source": [
    "bikeshare_daily_df = pd.concat([bikeshare_daily_df, dummies_mnth], axis=1)"
   ]
  },
  {
   "cell_type": "code",
   "execution_count": 101,
   "metadata": {},
   "outputs": [],
   "source": [
    "#Now creating the mean, median, min, max and std. features using the rolling function\n",
    "#We are going 30 days back as we want to forecast 30 days ahead\n",
    "for i in (1,3,7,14,30,60,140):\n",
    "    bikeshare_daily_df['cnt_mean{}'.format(i)] = bikeshare_daily_df['cnt'].shift(30).rolling(i).mean()\n",
    "    bikeshare_daily_df['cnt_median{}'.format(i)] = bikeshare_daily_df['cnt'].shift(30).rolling(i).median()\n",
    "    bikeshare_daily_df['cnt_min{}'.format(i)] = bikeshare_daily_df['cnt'].shift(30).rolling(i).min()\n",
    "    bikeshare_daily_df['cnt_max{}'.format(i)] = bikeshare_daily_df['cnt'].shift(30).rolling(i).max()\n",
    "    bikeshare_daily_df['cnt_std{}'.format(i)] = bikeshare_daily_df['cnt'].shift(30).rolling(i).std()\n"
   ]
  },
  {
   "cell_type": "code",
   "execution_count": 102,
   "metadata": {},
   "outputs": [],
   "source": [
    "#Now creating the difference dataset\n",
    "#We are going 30 days back as we want to forecast 30 days ahead\n",
    "bikeshare_daily_df['cnt_diff'] = bikeshare_daily_df['cnt']-bikeshare_daily_df.cnt.shift(1)\n",
    "for i in (1,3,7,14,30,60,140):\n",
    "    bikeshare_daily_df['diff_mean{}'.format(i)] = bikeshare_daily_df['cnt_diff'].shift(30).rolling(i).mean()\n",
    "    bikeshare_daily_df['diff_median{}'.format(i)] = bikeshare_daily_df['cnt_diff'].shift(30).rolling(i).median()\n",
    "    bikeshare_daily_df['diff_min{}'.format(i)] = bikeshare_daily_df['cnt_diff'].shift(30).rolling(i).min()\n",
    "    bikeshare_daily_df['diff_max{}'.format(i)] = bikeshare_daily_df['cnt_diff'].shift(30).rolling(i).max()\n",
    "    bikeshare_daily_df['diff_std{}'.format(i)] = bikeshare_daily_df['cnt_diff'].shift(30).rolling(i).std()\n",
    "bikeshare_daily_df.drop(['cnt_std1','diff_std1'], axis=1,inplace=True)"
   ]
  },
  {
   "cell_type": "code",
   "execution_count": 103,
   "metadata": {},
   "outputs": [],
   "source": [
    "#creating dow of week average\n",
    "k = 0\n",
    "for i in range(4):\n",
    "    k = bikeshare_daily_df['cnt'].shift(35+7*i)+k\n",
    "bikeshare_daily_df['mean_4_dow'] = k"
   ]
  },
  {
   "cell_type": "code",
   "execution_count": 104,
   "metadata": {},
   "outputs": [],
   "source": [
    "k = 0\n",
    "for i in range(15):\n",
    "    k = bikeshare_daily_df['cnt'].shift(35+7*i)+k\n",
    "bikeshare_daily_df['mean_15_dow'] = k"
   ]
  },
  {
   "cell_type": "code",
   "execution_count": 105,
   "metadata": {},
   "outputs": [],
   "source": [
    "bikeshare_daily_df['cnt_1_year_back'] = bikeshare_daily_df.cnt.shift(366)"
   ]
  },
  {
   "cell_type": "code",
   "execution_count": 106,
   "metadata": {},
   "outputs": [
    {
     "data": {
      "text/plain": [
       "['instant',\n",
       " 'dteday',\n",
       " 'season',\n",
       " 'yr',\n",
       " 'mnth',\n",
       " 'holiday',\n",
       " 'weekday',\n",
       " 'workingday',\n",
       " 'weathersit',\n",
       " 'temp',\n",
       " 'atemp',\n",
       " 'hum',\n",
       " 'windspeed',\n",
       " 'casual',\n",
       " 'registered',\n",
       " 'cnt',\n",
       " 'weekday_0',\n",
       " 'weekday_1',\n",
       " 'weekday_2',\n",
       " 'weekday_3',\n",
       " 'weekday_4',\n",
       " 'weekday_5',\n",
       " 'weekday_6',\n",
       " 'season_1',\n",
       " 'season_2',\n",
       " 'season_3',\n",
       " 'season_4',\n",
       " 'weather_1',\n",
       " 'weather_2',\n",
       " 'weather_3',\n",
       " 'week_num',\n",
       " 'mnth_1',\n",
       " 'mnth_2',\n",
       " 'mnth_3',\n",
       " 'mnth_4',\n",
       " 'mnth_5',\n",
       " 'mnth_6',\n",
       " 'mnth_7',\n",
       " 'mnth_8',\n",
       " 'mnth_9',\n",
       " 'mnth_10',\n",
       " 'mnth_11',\n",
       " 'mnth_12',\n",
       " 'cnt_mean1',\n",
       " 'cnt_median1',\n",
       " 'cnt_min1',\n",
       " 'cnt_max1',\n",
       " 'cnt_mean3',\n",
       " 'cnt_median3',\n",
       " 'cnt_min3',\n",
       " 'cnt_max3',\n",
       " 'cnt_std3',\n",
       " 'cnt_mean7',\n",
       " 'cnt_median7',\n",
       " 'cnt_min7',\n",
       " 'cnt_max7',\n",
       " 'cnt_std7',\n",
       " 'cnt_mean14',\n",
       " 'cnt_median14',\n",
       " 'cnt_min14',\n",
       " 'cnt_max14',\n",
       " 'cnt_std14',\n",
       " 'cnt_mean30',\n",
       " 'cnt_median30',\n",
       " 'cnt_min30',\n",
       " 'cnt_max30',\n",
       " 'cnt_std30',\n",
       " 'cnt_mean60',\n",
       " 'cnt_median60',\n",
       " 'cnt_min60',\n",
       " 'cnt_max60',\n",
       " 'cnt_std60',\n",
       " 'cnt_mean140',\n",
       " 'cnt_median140',\n",
       " 'cnt_min140',\n",
       " 'cnt_max140',\n",
       " 'cnt_std140',\n",
       " 'cnt_diff',\n",
       " 'diff_mean1',\n",
       " 'diff_median1',\n",
       " 'diff_min1',\n",
       " 'diff_max1',\n",
       " 'diff_mean3',\n",
       " 'diff_median3',\n",
       " 'diff_min3',\n",
       " 'diff_max3',\n",
       " 'diff_std3',\n",
       " 'diff_mean7',\n",
       " 'diff_median7',\n",
       " 'diff_min7',\n",
       " 'diff_max7',\n",
       " 'diff_std7',\n",
       " 'diff_mean14',\n",
       " 'diff_median14',\n",
       " 'diff_min14',\n",
       " 'diff_max14',\n",
       " 'diff_std14',\n",
       " 'diff_mean30',\n",
       " 'diff_median30',\n",
       " 'diff_min30',\n",
       " 'diff_max30',\n",
       " 'diff_std30',\n",
       " 'diff_mean60',\n",
       " 'diff_median60',\n",
       " 'diff_min60',\n",
       " 'diff_max60',\n",
       " 'diff_std60',\n",
       " 'diff_mean140',\n",
       " 'diff_median140',\n",
       " 'diff_min140',\n",
       " 'diff_max140',\n",
       " 'diff_std140',\n",
       " 'mean_4_dow',\n",
       " 'mean_15_dow',\n",
       " 'cnt_1_year_back']"
      ]
     },
     "execution_count": 106,
     "metadata": {},
     "output_type": "execute_result"
    }
   ],
   "source": [
    "list(bikeshare_daily_df.columns.values)"
   ]
  },
  {
   "cell_type": "code",
   "execution_count": 107,
   "metadata": {},
   "outputs": [
    {
     "name": "stdout",
     "output_type": "stream",
     "text": [
      "[4220.43103583 5654.7190038  5127.25671293 5007.20580127 3458.22094958\n",
      " 3702.13646222 3493.73900634 2817.04349658 3569.49851001 3434.60289036\n",
      " 3711.5637406  4655.27578032 4024.14586065 4539.08787287 3447.64737641\n",
      " 3647.68881125 3908.46645977 4066.0610129  3408.45106524 2366.08262021\n",
      " 3195.80031271 3471.12759139]\n",
      "[4649 6234 6606 5729 5375 5008 5582 3228 5170 5501 5319 5532 5611 5047\n",
      " 3786 4585 5557 5267 4128 3623 1749 1787]\n",
      "['2012-12-02' '2012-12-03' '2012-12-04' '2012-12-05' '2012-12-06'\n",
      " '2012-12-07' '2012-12-08' '2012-12-09' '2012-12-10' '2012-12-11'\n",
      " '2012-12-12' '2012-12-13' '2012-12-14' '2012-12-15' '2012-12-16'\n",
      " '2012-12-17' '2012-12-18' '2012-12-19' '2012-12-20' '2012-12-21'\n",
      " '2012-12-22' '2012-12-23']\n"
     ]
    }
   ],
   "source": [
    "#Now we will be using linear regression on this dataset\n",
    "from sklearn.linear_model import LinearRegression\n",
    "feature_columns_to_use = [ 'workingday', 'atemp', \n",
    "                           'hum', 'windspeed', \n",
    "                           'weekday_0', 'weekday_1', 'weekday_2', 'weekday_3', \n",
    "                           'weekday_4', 'weekday_5', 'season_1', \n",
    "                           'season_2', 'season_3', 'weather_1', 'weather_2', 'cnt_mean1', \n",
    "                           'cnt_mean3', 'cnt_median3', 'cnt_min3', 'cnt_max3',\n",
    "                           'cnt_std3', 'cnt_mean7', 'cnt_median7', 'cnt_min7', 'cnt_max7',\n",
    "                           'cnt_std7', 'cnt_mean14', 'cnt_median14', 'cnt_min14', 'cnt_max14',\n",
    "                           'cnt_std14', 'cnt_mean30', 'cnt_median30', 'cnt_min30', 'cnt_max30',\n",
    "                           'cnt_std30', 'cnt_mean60', 'cnt_median60', 'cnt_min60', 'cnt_max60',\n",
    "                           'cnt_std60', 'cnt_mean140', 'cnt_median140', 'cnt_min140', \n",
    "                           'cnt_max140', 'cnt_std140',  'diff_mean1', \n",
    "                           'diff_mean3', 'diff_median3', 'diff_min3', 'diff_max3', \n",
    "                           'diff_std3', 'diff_mean7', 'diff_median7', 'diff_min7', \n",
    "                           'diff_max7', 'diff_std7', 'diff_mean14', 'diff_median14', \n",
    "                           'diff_min14', 'diff_max14', 'diff_std14', 'diff_mean30', \n",
    "                           'diff_median30', 'diff_min30', 'diff_max30', 'diff_std30', \n",
    "                           'diff_mean60', 'diff_median60', 'diff_min60', 'diff_max60', \n",
    "                           'diff_std60', 'diff_mean140', 'diff_median140', 'diff_min140', \n",
    "                           'diff_max140', 'diff_std140','mean_15_dow',\n",
    "                            'week_num',\n",
    "                           'mnth_1',\n",
    " 'mnth_2',\n",
    " 'mnth_3',\n",
    " 'mnth_4',\n",
    " 'mnth_5',\n",
    " 'mnth_6',\n",
    " 'mnth_7',\n",
    " 'mnth_8',\n",
    " 'mnth_9',\n",
    " 'mnth_10',\n",
    " 'mnth_11'\n",
    "     \n",
    "                         ]\n",
    "    \n",
    "new_train_df = bikeshare_daily_df[(bikeshare_daily_df['dteday']<'2012-12-02') & (bikeshare_daily_df['dteday']>='2011-07-01') ]\n",
    "new_test_df = bikeshare_daily_df[(bikeshare_daily_df['dteday']>='2012-12-02') & (bikeshare_daily_df['dteday']<='2012-12-23')]\n",
    "model = LinearRegression()\n",
    "model.fit(new_train_df[feature_columns_to_use],new_train_df['cnt'])\n",
    "print (model.predict(new_test_df[feature_columns_to_use]))\n",
    "print (new_test_df['cnt'].values)\n",
    "print (new_test_df['dteday'].values)"
   ]
  },
  {
   "cell_type": "code",
   "execution_count": 108,
   "metadata": {},
   "outputs": [
    {
     "name": "stdout",
     "output_type": "stream",
     "text": [
      "[4220.43103583 5654.7190038  5127.25671293 5007.20580127 3458.22094958\n",
      " 3702.13646222 3493.73900634 2817.04349658 3569.49851001 3434.60289036\n",
      " 3711.5637406  4655.27578032 4024.14586065 4539.08787287 3447.64737641\n",
      " 3647.68881125 3908.46645977 4066.0610129  3408.45106524 2366.08262021\n",
      " 3195.80031271 3471.12759139]\n"
     ]
    }
   ],
   "source": [
    "from matplotlib import pyplot as plt\n",
    "print (model.predict(new_test_df[feature_columns_to_use]))"
   ]
  },
  {
   "cell_type": "code",
   "execution_count": 109,
   "metadata": {},
   "outputs": [
    {
     "data": {
      "image/png": "[encoded data removed]",
      "text/plain": [
       "<Figure size 432x288 with 1 Axes>"
      ]
     },
     "metadata": {},
     "output_type": "display_data"
    }
   ],
   "source": [
    "plt.plot(new_test_df['dteday'].values, new_test_df['cnt'].values, label = \"Actual\") \n",
    "plt.plot(new_test_df['dteday'].values, model.predict(new_test_df[feature_columns_to_use]), label = \"Forecast\") \n",
    "plt.legend() \n",
    "plt.show() "
   ]
  },
  {
   "cell_type": "code",
   "execution_count": 110,
   "metadata": {},
   "outputs": [
    {
     "data": {
      "text/plain": [
       "0.28601976410664814"
      ]
     },
     "execution_count": 110,
     "metadata": {},
     "output_type": "execute_result"
    }
   ],
   "source": [
    "#Calculating the error\n",
    "np.mean(np.sqrt(np.square((new_test_df['cnt'].values-model.predict(new_test_df[feature_columns_to_use]))/new_test_df['cnt'].values)))"
   ]
  },
  {
   "cell_type": "code",
   "execution_count": 111,
   "metadata": {},
   "outputs": [
    {
     "name": "stdout",
     "output_type": "stream",
     "text": [
      "[ 5.88124827e+02  5.01589218e+03 -2.42699810e+03 -3.00192827e+03\n",
      " -3.60795191e+02 -6.28712736e+02 -5.38234953e+02 -4.67294868e+02\n",
      " -5.23903347e+02 -5.73120687e+02 -4.00236366e+02  6.94646293e+02\n",
      " -3.21010740e+01  1.89954708e+03  1.53038213e+03 -1.07264919e-01\n",
      " -6.00467268e-03  2.67636775e-01  3.06505432e-01 -5.92156087e-01\n",
      "  8.20112656e-01  4.28123063e-01  2.40045728e-02  9.44732353e-02\n",
      " -5.12957887e-01  1.00026303e+00 -5.54825219e-01  1.61323031e-01\n",
      "  3.54595597e-01 -4.11486232e-01  7.80121395e-01  1.73301476e+00\n",
      " -1.11050717e-01 -3.11818794e-02  1.34556263e-01 -8.78991281e-01\n",
      "  3.39197933e-01 -1.92790163e+00  1.06986840e-01 -1.18100236e+00\n",
      " -1.83010879e-02  1.53812432e+00 -4.87819004e-01 -1.97203431e-01\n",
      "  8.60947035e-01 -1.37995461e-01  5.49014067e-02  1.55727564e-02\n",
      " -8.38234889e-02  5.40779904e-01 -4.10238139e-01  8.63963796e-01\n",
      " -2.13376617e-01  1.42202142e-02  1.17649647e-01 -2.70437788e-01\n",
      "  2.90699326e-01 -1.22351761e-02  2.21120165e-01  9.46278417e-02\n",
      " -1.87466893e-02  8.09972014e-01 -1.07005493e+00 -4.06478851e-01\n",
      " -3.46256515e-02 -1.11378476e-01  7.85806712e-01  2.74588803e+00\n",
      "  3.55211742e+00  2.98308173e-01 -1.36798704e-01  3.27955788e+00\n",
      "  1.25245439e+01 -8.46262150e+00  2.50837019e-01  1.16442989e+00\n",
      " -1.77424102e-01  8.25831840e-03 -2.49688982e+01 -6.95238976e+01\n",
      "  3.53682783e+02  1.20516097e+03  1.26257256e+03  6.33399119e+02\n",
      "  2.31805995e+03  8.74143606e+02  1.34630065e+03  1.63753490e+03\n",
      "  1.06974623e+03  1.67608461e+02]\n"
     ]
    }
   ],
   "source": [
    "print(model.coef_)  "
   ]
  },
  {
   "cell_type": "code",
   "execution_count": 112,
   "metadata": {},
   "outputs": [],
   "source": [
    "import statsmodels.api as sm"
   ]
  },
  {
   "cell_type": "code",
   "execution_count": 113,
   "metadata": {},
   "outputs": [],
   "source": [
    "model = sm.OLS(new_train_df['cnt'],new_train_df[feature_columns_to_use]).fit()"
   ]
  },
  {
   "cell_type": "code",
   "execution_count": 114,
   "metadata": {},
   "outputs": [
    {
     "data": {
      "text/html": [
       "<table class=\"simpletable\">\n",
       "<caption>OLS Regression Results</caption>\n",
       "<tr>\n",
       "  <th>Dep. Variable:</th>           <td>cnt</td>       <th>  R-squared:         </th> <td>   0.983</td>\n",
       "</tr>\n",
       "<tr>\n",
       "  <th>Model:</th>                   <td>OLS</td>       <th>  Adj. R-squared:    </th> <td>   0.980</td>\n",
       "</tr>\n",
       "<tr>\n",
       "  <th>Method:</th>             <td>Least Squares</td>  <th>  F-statistic:       </th> <td>   285.1</td>\n",
       "</tr>\n",
       "<tr>\n",
       "  <th>Date:</th>             <td>Sun, 24 Feb 2019</td> <th>  Prob (F-statistic):</th>  <td>  0.00</td> \n",
       "</tr>\n",
       "<tr>\n",
       "  <th>Time:</th>                 <td>17:38:35</td>     <th>  Log-Likelihood:    </th> <td> -4145.2</td>\n",
       "</tr>\n",
       "<tr>\n",
       "  <th>No. Observations:</th>      <td>   520</td>      <th>  AIC:               </th> <td>   8466.</td>\n",
       "</tr>\n",
       "<tr>\n",
       "  <th>Df Residuals:</th>          <td>   432</td>      <th>  BIC:               </th> <td>   8841.</td>\n",
       "</tr>\n",
       "<tr>\n",
       "  <th>Df Model:</th>              <td>    88</td>      <th>                     </th>     <td> </td>   \n",
       "</tr>\n",
       "<tr>\n",
       "  <th>Covariance Type:</th>      <td>nonrobust</td>    <th>                     </th>     <td> </td>   \n",
       "</tr>\n",
       "</table>\n",
       "<table class=\"simpletable\">\n",
       "<tr>\n",
       "         <td></td>           <th>coef</th>     <th>std err</th>      <th>t</th>      <th>P>|t|</th>  <th>[0.025</th>    <th>0.975]</th>  \n",
       "</tr>\n",
       "<tr>\n",
       "  <th>workingday</th>     <td>  585.6906</td> <td>  223.009</td> <td>    2.626</td> <td> 0.009</td> <td>  147.373</td> <td> 1024.009</td>\n",
       "</tr>\n",
       "<tr>\n",
       "  <th>atemp</th>          <td> 4908.1071</td> <td>  649.774</td> <td>    7.554</td> <td> 0.000</td> <td> 3630.996</td> <td> 6185.218</td>\n",
       "</tr>\n",
       "<tr>\n",
       "  <th>hum</th>            <td>-2543.2852</td> <td>  423.157</td> <td>   -6.010</td> <td> 0.000</td> <td>-3374.988</td> <td>-1711.583</td>\n",
       "</tr>\n",
       "<tr>\n",
       "  <th>windspeed</th>      <td>-3164.2735</td> <td>  528.301</td> <td>   -5.990</td> <td> 0.000</td> <td>-4202.634</td> <td>-2125.913</td>\n",
       "</tr>\n",
       "<tr>\n",
       "  <th>weekday_0</th>      <td> -356.2379</td> <td>  135.694</td> <td>   -2.625</td> <td> 0.009</td> <td> -622.940</td> <td>  -89.536</td>\n",
       "</tr>\n",
       "<tr>\n",
       "  <th>weekday_1</th>      <td> -618.1888</td> <td>  229.783</td> <td>   -2.690</td> <td> 0.007</td> <td>-1069.820</td> <td> -166.557</td>\n",
       "</tr>\n",
       "<tr>\n",
       "  <th>weekday_2</th>      <td> -533.3751</td> <td>  263.793</td> <td>   -2.022</td> <td> 0.044</td> <td>-1051.852</td> <td>  -14.899</td>\n",
       "</tr>\n",
       "<tr>\n",
       "  <th>weekday_3</th>      <td> -463.2334</td> <td>  259.632</td> <td>   -1.784</td> <td> 0.075</td> <td> -973.533</td> <td>   47.066</td>\n",
       "</tr>\n",
       "<tr>\n",
       "  <th>weekday_4</th>      <td> -521.6040</td> <td>  255.407</td> <td>   -2.042</td> <td> 0.042</td> <td>-1023.599</td> <td>  -19.609</td>\n",
       "</tr>\n",
       "<tr>\n",
       "  <th>weekday_5</th>      <td> -571.9791</td> <td>  253.782</td> <td>   -2.254</td> <td> 0.025</td> <td>-1070.780</td> <td>  -73.178</td>\n",
       "</tr>\n",
       "<tr>\n",
       "  <th>season_1</th>       <td> -266.7355</td> <td>  350.747</td> <td>   -0.760</td> <td> 0.447</td> <td> -956.119</td> <td>  422.648</td>\n",
       "</tr>\n",
       "<tr>\n",
       "  <th>season_2</th>       <td>  738.4505</td> <td>  439.435</td> <td>    1.680</td> <td> 0.094</td> <td> -125.247</td> <td> 1602.148</td>\n",
       "</tr>\n",
       "<tr>\n",
       "  <th>season_3</th>       <td>  -56.8950</td> <td>  326.713</td> <td>   -0.174</td> <td> 0.862</td> <td> -699.041</td> <td>  585.251</td>\n",
       "</tr>\n",
       "<tr>\n",
       "  <th>weather_1</th>      <td> 1812.6112</td> <td>  255.834</td> <td>    7.085</td> <td> 0.000</td> <td> 1309.777</td> <td> 2315.446</td>\n",
       "</tr>\n",
       "<tr>\n",
       "  <th>weather_2</th>      <td> 1452.4753</td> <td>  236.997</td> <td>    6.129</td> <td> 0.000</td> <td>  986.665</td> <td> 1918.286</td>\n",
       "</tr>\n",
       "<tr>\n",
       "  <th>cnt_mean1</th>      <td>   -0.0961</td> <td>    0.158</td> <td>   -0.610</td> <td> 0.542</td> <td>   -0.406</td> <td>    0.214</td>\n",
       "</tr>\n",
       "<tr>\n",
       "  <th>cnt_mean3</th>      <td>   -0.0082</td> <td>    0.037</td> <td>   -0.225</td> <td> 0.822</td> <td>   -0.080</td> <td>    0.064</td>\n",
       "</tr>\n",
       "<tr>\n",
       "  <th>cnt_median3</th>    <td>    0.2437</td> <td>    0.126</td> <td>    1.934</td> <td> 0.054</td> <td>   -0.004</td> <td>    0.491</td>\n",
       "</tr>\n",
       "<tr>\n",
       "  <th>cnt_min3</th>       <td>    0.3034</td> <td>    0.672</td> <td>    0.452</td> <td> 0.652</td> <td>   -1.017</td> <td>    1.624</td>\n",
       "</tr>\n",
       "<tr>\n",
       "  <th>cnt_max3</th>       <td>   -0.5719</td> <td>    0.624</td> <td>   -0.916</td> <td> 0.360</td> <td>   -1.799</td> <td>    0.655</td>\n",
       "</tr>\n",
       "<tr>\n",
       "  <th>cnt_std3</th>       <td>    0.8115</td> <td>    1.256</td> <td>    0.646</td> <td> 0.518</td> <td>   -1.656</td> <td>    3.279</td>\n",
       "</tr>\n",
       "<tr>\n",
       "  <th>cnt_mean7</th>      <td>    0.4330</td> <td>    0.552</td> <td>    0.784</td> <td> 0.433</td> <td>   -0.652</td> <td>    1.518</td>\n",
       "</tr>\n",
       "<tr>\n",
       "  <th>cnt_median7</th>    <td>   -0.0043</td> <td>    0.289</td> <td>   -0.015</td> <td> 0.988</td> <td>   -0.573</td> <td>    0.564</td>\n",
       "</tr>\n",
       "<tr>\n",
       "  <th>cnt_min7</th>       <td>    0.0524</td> <td>    0.258</td> <td>    0.203</td> <td> 0.839</td> <td>   -0.454</td> <td>    0.559</td>\n",
       "</tr>\n",
       "<tr>\n",
       "  <th>cnt_max7</th>       <td>   -0.4219</td> <td>    0.339</td> <td>   -1.243</td> <td> 0.215</td> <td>   -1.089</td> <td>    0.245</td>\n",
       "</tr>\n",
       "<tr>\n",
       "  <th>cnt_std7</th>       <td>    0.8150</td> <td>    0.784</td> <td>    1.039</td> <td> 0.299</td> <td>   -0.726</td> <td>    2.356</td>\n",
       "</tr>\n",
       "<tr>\n",
       "  <th>cnt_mean14</th>     <td>   -0.4785</td> <td>    0.685</td> <td>   -0.699</td> <td> 0.485</td> <td>   -1.825</td> <td>    0.868</td>\n",
       "</tr>\n",
       "<tr>\n",
       "  <th>cnt_median14</th>   <td>    0.1602</td> <td>    0.475</td> <td>    0.337</td> <td> 0.736</td> <td>   -0.774</td> <td>    1.094</td>\n",
       "</tr>\n",
       "<tr>\n",
       "  <th>cnt_min14</th>      <td>    0.3954</td> <td>    0.203</td> <td>    1.946</td> <td> 0.052</td> <td>   -0.004</td> <td>    0.795</td>\n",
       "</tr>\n",
       "<tr>\n",
       "  <th>cnt_max14</th>      <td>   -0.4573</td> <td>    0.292</td> <td>   -1.564</td> <td> 0.118</td> <td>   -1.032</td> <td>    0.117</td>\n",
       "</tr>\n",
       "<tr>\n",
       "  <th>cnt_std14</th>      <td>    0.9904</td> <td>    0.856</td> <td>    1.158</td> <td> 0.248</td> <td>   -0.691</td> <td>    2.672</td>\n",
       "</tr>\n",
       "<tr>\n",
       "  <th>cnt_mean30</th>     <td>    2.0611</td> <td>    1.097</td> <td>    1.879</td> <td> 0.061</td> <td>   -0.095</td> <td>    4.217</td>\n",
       "</tr>\n",
       "<tr>\n",
       "  <th>cnt_median30</th>   <td>   -0.1999</td> <td>    0.745</td> <td>   -0.268</td> <td> 0.788</td> <td>   -1.663</td> <td>    1.264</td>\n",
       "</tr>\n",
       "<tr>\n",
       "  <th>cnt_min30</th>      <td>    0.0246</td> <td>    0.194</td> <td>    0.126</td> <td> 0.899</td> <td>   -0.358</td> <td>    0.407</td>\n",
       "</tr>\n",
       "<tr>\n",
       "  <th>cnt_max30</th>      <td>    0.0393</td> <td>    0.303</td> <td>    0.130</td> <td> 0.897</td> <td>   -0.557</td> <td>    0.635</td>\n",
       "</tr>\n",
       "<tr>\n",
       "  <th>cnt_std30</th>      <td>   -0.1362</td> <td>    0.985</td> <td>   -0.138</td> <td> 0.890</td> <td>   -2.073</td> <td>    1.801</td>\n",
       "</tr>\n",
       "<tr>\n",
       "  <th>cnt_mean60</th>     <td>    0.4836</td> <td>    1.451</td> <td>    0.333</td> <td> 0.739</td> <td>   -2.368</td> <td>    3.335</td>\n",
       "</tr>\n",
       "<tr>\n",
       "  <th>cnt_median60</th>   <td>   -1.6308</td> <td>    0.932</td> <td>   -1.750</td> <td> 0.081</td> <td>   -3.462</td> <td>    0.200</td>\n",
       "</tr>\n",
       "<tr>\n",
       "  <th>cnt_min60</th>      <td>    0.0862</td> <td>    0.236</td> <td>    0.365</td> <td> 0.715</td> <td>   -0.378</td> <td>    0.550</td>\n",
       "</tr>\n",
       "<tr>\n",
       "  <th>cnt_max60</th>      <td>   -1.2907</td> <td>    0.607</td> <td>   -2.126</td> <td> 0.034</td> <td>   -2.484</td> <td>   -0.098</td>\n",
       "</tr>\n",
       "<tr>\n",
       "  <th>cnt_std60</th>      <td>    0.2913</td> <td>    1.577</td> <td>    0.185</td> <td> 0.854</td> <td>   -2.809</td> <td>    3.391</td>\n",
       "</tr>\n",
       "<tr>\n",
       "  <th>cnt_mean140</th>    <td>    0.4411</td> <td>    1.385</td> <td>    0.318</td> <td> 0.750</td> <td>   -2.281</td> <td>    3.164</td>\n",
       "</tr>\n",
       "<tr>\n",
       "  <th>cnt_median140</th>  <td>   -0.1017</td> <td>    0.710</td> <td>   -0.143</td> <td> 0.886</td> <td>   -1.497</td> <td>    1.293</td>\n",
       "</tr>\n",
       "<tr>\n",
       "  <th>cnt_min140</th>     <td>   -0.2026</td> <td>    0.221</td> <td>   -0.917</td> <td> 0.360</td> <td>   -0.637</td> <td>    0.232</td>\n",
       "</tr>\n",
       "<tr>\n",
       "  <th>cnt_max140</th>     <td>    0.9042</td> <td>    0.545</td> <td>    1.659</td> <td> 0.098</td> <td>   -0.167</td> <td>    1.976</td>\n",
       "</tr>\n",
       "<tr>\n",
       "  <th>cnt_std140</th>     <td>   -1.6346</td> <td>    1.626</td> <td>   -1.005</td> <td> 0.315</td> <td>   -4.831</td> <td>    1.562</td>\n",
       "</tr>\n",
       "<tr>\n",
       "  <th>diff_mean1</th>     <td>    0.0478</td> <td>    0.071</td> <td>    0.677</td> <td> 0.499</td> <td>   -0.091</td> <td>    0.186</td>\n",
       "</tr>\n",
       "<tr>\n",
       "  <th>diff_mean3</th>     <td>    0.0170</td> <td>    0.037</td> <td>    0.461</td> <td> 0.645</td> <td>   -0.056</td> <td>    0.090</td>\n",
       "</tr>\n",
       "<tr>\n",
       "  <th>diff_median3</th>   <td>   -0.0819</td> <td>    0.085</td> <td>   -0.962</td> <td> 0.336</td> <td>   -0.249</td> <td>    0.085</td>\n",
       "</tr>\n",
       "<tr>\n",
       "  <th>diff_min3</th>      <td>    0.4730</td> <td>    0.399</td> <td>    1.186</td> <td> 0.236</td> <td>   -0.311</td> <td>    1.257</td>\n",
       "</tr>\n",
       "<tr>\n",
       "  <th>diff_max3</th>      <td>   -0.3402</td> <td>    0.393</td> <td>   -0.865</td> <td> 0.387</td> <td>   -1.113</td> <td>    0.432</td>\n",
       "</tr>\n",
       "<tr>\n",
       "  <th>diff_std3</th>      <td>    0.7435</td> <td>    0.746</td> <td>    0.997</td> <td> 0.319</td> <td>   -0.722</td> <td>    2.209</td>\n",
       "</tr>\n",
       "<tr>\n",
       "  <th>diff_mean7</th>     <td>   -0.2129</td> <td>    0.521</td> <td>   -0.409</td> <td> 0.683</td> <td>   -1.236</td> <td>    0.810</td>\n",
       "</tr>\n",
       "<tr>\n",
       "  <th>diff_median7</th>   <td>    0.0037</td> <td>    0.259</td> <td>    0.014</td> <td> 0.989</td> <td>   -0.506</td> <td>    0.514</td>\n",
       "</tr>\n",
       "<tr>\n",
       "  <th>diff_min7</th>      <td>    0.1035</td> <td>    0.217</td> <td>    0.476</td> <td> 0.634</td> <td>   -0.324</td> <td>    0.531</td>\n",
       "</tr>\n",
       "<tr>\n",
       "  <th>diff_max7</th>      <td>   -0.2659</td> <td>    0.201</td> <td>   -1.320</td> <td> 0.188</td> <td>   -0.662</td> <td>    0.130</td>\n",
       "</tr>\n",
       "<tr>\n",
       "  <th>diff_std7</th>      <td>    0.3078</td> <td>    0.638</td> <td>    0.482</td> <td> 0.630</td> <td>   -0.947</td> <td>    1.562</td>\n",
       "</tr>\n",
       "<tr>\n",
       "  <th>diff_mean14</th>    <td>   -0.1616</td> <td>    0.735</td> <td>   -0.220</td> <td> 0.826</td> <td>   -1.607</td> <td>    1.284</td>\n",
       "</tr>\n",
       "<tr>\n",
       "  <th>diff_median14</th>  <td>    0.2851</td> <td>    0.547</td> <td>    0.521</td> <td> 0.603</td> <td>   -0.790</td> <td>    1.360</td>\n",
       "</tr>\n",
       "<tr>\n",
       "  <th>diff_min14</th>     <td>    0.0842</td> <td>    0.182</td> <td>    0.463</td> <td> 0.644</td> <td>   -0.273</td> <td>    0.442</td>\n",
       "</tr>\n",
       "<tr>\n",
       "  <th>diff_max14</th>     <td>   -0.0110</td> <td>    0.165</td> <td>   -0.067</td> <td> 0.947</td> <td>   -0.335</td> <td>    0.313</td>\n",
       "</tr>\n",
       "<tr>\n",
       "  <th>diff_std14</th>     <td>    0.7268</td> <td>    0.713</td> <td>    1.020</td> <td> 0.308</td> <td>   -0.674</td> <td>    2.128</td>\n",
       "</tr>\n",
       "<tr>\n",
       "  <th>diff_mean30</th>    <td>   -1.0239</td> <td>    1.450</td> <td>   -0.706</td> <td> 0.480</td> <td>   -3.874</td> <td>    1.826</td>\n",
       "</tr>\n",
       "<tr>\n",
       "  <th>diff_median30</th>  <td>   -0.5240</td> <td>    0.873</td> <td>   -0.600</td> <td> 0.549</td> <td>   -2.241</td> <td>    1.193</td>\n",
       "</tr>\n",
       "<tr>\n",
       "  <th>diff_min30</th>     <td>   -0.0158</td> <td>    0.218</td> <td>   -0.073</td> <td> 0.942</td> <td>   -0.444</td> <td>    0.413</td>\n",
       "</tr>\n",
       "<tr>\n",
       "  <th>diff_max30</th>     <td>   -0.0977</td> <td>    0.177</td> <td>   -0.553</td> <td> 0.581</td> <td>   -0.445</td> <td>    0.250</td>\n",
       "</tr>\n",
       "<tr>\n",
       "  <th>diff_std30</th>     <td>    0.6212</td> <td>    1.212</td> <td>    0.512</td> <td> 0.609</td> <td>   -1.762</td> <td>    3.004</td>\n",
       "</tr>\n",
       "<tr>\n",
       "  <th>diff_mean60</th>    <td>    2.9525</td> <td>    2.853</td> <td>    1.035</td> <td> 0.301</td> <td>   -2.655</td> <td>    8.560</td>\n",
       "</tr>\n",
       "<tr>\n",
       "  <th>diff_median60</th>  <td>    3.8411</td> <td>    1.693</td> <td>    2.269</td> <td> 0.024</td> <td>    0.514</td> <td>    7.168</td>\n",
       "</tr>\n",
       "<tr>\n",
       "  <th>diff_min60</th>     <td>    0.2256</td> <td>    0.191</td> <td>    1.179</td> <td> 0.239</td> <td>   -0.151</td> <td>    0.602</td>\n",
       "</tr>\n",
       "<tr>\n",
       "  <th>diff_max60</th>     <td>   -0.0827</td> <td>    0.254</td> <td>   -0.326</td> <td> 0.745</td> <td>   -0.582</td> <td>    0.417</td>\n",
       "</tr>\n",
       "<tr>\n",
       "  <th>diff_std60</th>     <td>    2.3738</td> <td>    1.415</td> <td>    1.678</td> <td> 0.094</td> <td>   -0.406</td> <td>    5.154</td>\n",
       "</tr>\n",
       "<tr>\n",
       "  <th>diff_mean140</th>   <td>   14.5910</td> <td>    7.061</td> <td>    2.067</td> <td> 0.039</td> <td>    0.713</td> <td>   28.469</td>\n",
       "</tr>\n",
       "<tr>\n",
       "  <th>diff_median140</th> <td>   -9.7040</td> <td>    3.293</td> <td>   -2.947</td> <td> 0.003</td> <td>  -16.176</td> <td>   -3.232</td>\n",
       "</tr>\n",
       "<tr>\n",
       "  <th>diff_min140</th>    <td>    0.2503</td> <td>    0.218</td> <td>    1.147</td> <td> 0.252</td> <td>   -0.179</td> <td>    0.679</td>\n",
       "</tr>\n",
       "<tr>\n",
       "  <th>diff_max140</th>    <td>    0.5469</td> <td>    0.493</td> <td>    1.110</td> <td> 0.268</td> <td>   -0.421</td> <td>    1.515</td>\n",
       "</tr>\n",
       "<tr>\n",
       "  <th>diff_std140</th>    <td>    1.6021</td> <td>    2.182</td> <td>    0.734</td> <td> 0.463</td> <td>   -2.686</td> <td>    5.890</td>\n",
       "</tr>\n",
       "<tr>\n",
       "  <th>mean_15_dow</th>    <td>    0.0102</td> <td>    0.011</td> <td>    0.969</td> <td> 0.333</td> <td>   -0.010</td> <td>    0.031</td>\n",
       "</tr>\n",
       "<tr>\n",
       "  <th>week_num</th>       <td>  -40.7986</td> <td>   12.727</td> <td>   -3.206</td> <td> 0.001</td> <td>  -65.813</td> <td>  -15.784</td>\n",
       "</tr>\n",
       "<tr>\n",
       "  <th>mnth_1</th>         <td> -792.5484</td> <td>  656.809</td> <td>   -1.207</td> <td> 0.228</td> <td>-2083.487</td> <td>  498.390</td>\n",
       "</tr>\n",
       "<tr>\n",
       "  <th>mnth_2</th>         <td> -282.8693</td> <td>  749.748</td> <td>   -0.377</td> <td> 0.706</td> <td>-1756.477</td> <td> 1190.738</td>\n",
       "</tr>\n",
       "<tr>\n",
       "  <th>mnth_3</th>         <td>  255.2574</td> <td>  660.557</td> <td>    0.386</td> <td> 0.699</td> <td>-1043.048</td> <td> 1553.562</td>\n",
       "</tr>\n",
       "<tr>\n",
       "  <th>mnth_4</th>         <td>  325.6431</td> <td>  653.868</td> <td>    0.498</td> <td> 0.619</td> <td> -959.515</td> <td> 1610.801</td>\n",
       "</tr>\n",
       "<tr>\n",
       "  <th>mnth_5</th>         <td>   12.2575</td> <td>  736.860</td> <td>    0.017</td> <td> 0.987</td> <td>-1436.019</td> <td> 1460.534</td>\n",
       "</tr>\n",
       "<tr>\n",
       "  <th>mnth_6</th>         <td> 1807.1585</td> <td>  741.195</td> <td>    2.438</td> <td> 0.015</td> <td>  350.362</td> <td> 3263.955</td>\n",
       "</tr>\n",
       "<tr>\n",
       "  <th>mnth_7</th>         <td>  457.0754</td> <td>  681.635</td> <td>    0.671</td> <td> 0.503</td> <td> -882.657</td> <td> 1796.808</td>\n",
       "</tr>\n",
       "<tr>\n",
       "  <th>mnth_8</th>         <td>  861.8162</td> <td>  568.856</td> <td>    1.515</td> <td> 0.131</td> <td> -256.254</td> <td> 1979.886</td>\n",
       "</tr>\n",
       "<tr>\n",
       "  <th>mnth_9</th>         <td> 1274.8844</td> <td>  466.222</td> <td>    2.735</td> <td> 0.007</td> <td>  358.539</td> <td> 2191.230</td>\n",
       "</tr>\n",
       "<tr>\n",
       "  <th>mnth_10</th>        <td>  708.5265</td> <td>  404.811</td> <td>    1.750</td> <td> 0.081</td> <td>  -87.118</td> <td> 1504.171</td>\n",
       "</tr>\n",
       "<tr>\n",
       "  <th>mnth_11</th>        <td> -149.0523</td> <td>  376.778</td> <td>   -0.396</td> <td> 0.693</td> <td> -889.598</td> <td>  591.493</td>\n",
       "</tr>\n",
       "</table>\n",
       "<table class=\"simpletable\">\n",
       "<tr>\n",
       "  <th>Omnibus:</th>       <td>78.195</td> <th>  Durbin-Watson:     </th> <td>   1.520</td>\n",
       "</tr>\n",
       "<tr>\n",
       "  <th>Prob(Omnibus):</th> <td> 0.000</td> <th>  Jarque-Bera (JB):  </th> <td> 210.688</td>\n",
       "</tr>\n",
       "<tr>\n",
       "  <th>Skew:</th>          <td>-0.743</td> <th>  Prob(JB):          </th> <td>1.78e-46</td>\n",
       "</tr>\n",
       "<tr>\n",
       "  <th>Kurtosis:</th>      <td> 5.741</td> <th>  Cond. No.          </th> <td>1.12e+16</td>\n",
       "</tr>\n",
       "</table><br/><br/>Warnings:<br/>[1] Standard Errors assume that the covariance matrix of the errors is correctly specified.<br/>[2] The smallest eigenvalue is 2.57e-20. This might indicate that there are<br/>strong multicollinearity problems or that the design matrix is singular."
      ],
      "text/plain": [
       "<class 'statsmodels.iolib.summary.Summary'>\n",
       "\"\"\"\n",
       "                            OLS Regression Results                            \n",
       "==============================================================================\n",
       "Dep. Variable:                    cnt   R-squared:                       0.983\n",
       "Model:                            OLS   Adj. R-squared:                  0.980\n",
       "Method:                 Least Squares   F-statistic:                     285.1\n",
       "Date:                Sun, 24 Feb 2019   Prob (F-statistic):               0.00\n",
       "Time:                        17:38:35   Log-Likelihood:                -4145.2\n",
       "No. Observations:                 520   AIC:                             8466.\n",
       "Df Residuals:                     432   BIC:                             8841.\n",
       "Df Model:                          88                                         \n",
       "Covariance Type:            nonrobust                                         \n",
       "==================================================================================\n",
       "                     coef    std err          t      P>|t|      [0.025      0.975]\n",
       "----------------------------------------------------------------------------------\n",
       "workingday       585.6906    223.009      2.626      0.009     147.373    1024.009\n",
       "atemp           4908.1071    649.774      7.554      0.000    3630.996    6185.218\n",
       "hum            -2543.2852    423.157     -6.010      0.000   -3374.988   -1711.583\n",
       "windspeed      -3164.2735    528.301     -5.990      0.000   -4202.634   -2125.913\n",
       "weekday_0       -356.2379    135.694     -2.625      0.009    -622.940     -89.536\n",
       "weekday_1       -618.1888    229.783     -2.690      0.007   -1069.820    -166.557\n",
       "weekday_2       -533.3751    263.793     -2.022      0.044   -1051.852     -14.899\n",
       "weekday_3       -463.2334    259.632     -1.784      0.075    -973.533      47.066\n",
       "weekday_4       -521.6040    255.407     -2.042      0.042   -1023.599     -19.609\n",
       "weekday_5       -571.9791    253.782     -2.254      0.025   -1070.780     -73.178\n",
       "season_1        -266.7355    350.747     -0.760      0.447    -956.119     422.648\n",
       "season_2         738.4505    439.435      1.680      0.094    -125.247    1602.148\n",
       "season_3         -56.8950    326.713     -0.174      0.862    -699.041     585.251\n",
       "weather_1       1812.6112    255.834      7.085      0.000    1309.777    2315.446\n",
       "weather_2       1452.4753    236.997      6.129      0.000     986.665    1918.286\n",
       "cnt_mean1         -0.0961      0.158     -0.610      0.542      -0.406       0.214\n",
       "cnt_mean3         -0.0082      0.037     -0.225      0.822      -0.080       0.064\n",
       "cnt_median3        0.2437      0.126      1.934      0.054      -0.004       0.491\n",
       "cnt_min3           0.3034      0.672      0.452      0.652      -1.017       1.624\n",
       "cnt_max3          -0.5719      0.624     -0.916      0.360      -1.799       0.655\n",
       "cnt_std3           0.8115      1.256      0.646      0.518      -1.656       3.279\n",
       "cnt_mean7          0.4330      0.552      0.784      0.433      -0.652       1.518\n",
       "cnt_median7       -0.0043      0.289     -0.015      0.988      -0.573       0.564\n",
       "cnt_min7           0.0524      0.258      0.203      0.839      -0.454       0.559\n",
       "cnt_max7          -0.4219      0.339     -1.243      0.215      -1.089       0.245\n",
       "cnt_std7           0.8150      0.784      1.039      0.299      -0.726       2.356\n",
       "cnt_mean14        -0.4785      0.685     -0.699      0.485      -1.825       0.868\n",
       "cnt_median14       0.1602      0.475      0.337      0.736      -0.774       1.094\n",
       "cnt_min14          0.3954      0.203      1.946      0.052      -0.004       0.795\n",
       "cnt_max14         -0.4573      0.292     -1.564      0.118      -1.032       0.117\n",
       "cnt_std14          0.9904      0.856      1.158      0.248      -0.691       2.672\n",
       "cnt_mean30         2.0611      1.097      1.879      0.061      -0.095       4.217\n",
       "cnt_median30      -0.1999      0.745     -0.268      0.788      -1.663       1.264\n",
       "cnt_min30          0.0246      0.194      0.126      0.899      -0.358       0.407\n",
       "cnt_max30          0.0393      0.303      0.130      0.897      -0.557       0.635\n",
       "cnt_std30         -0.1362      0.985     -0.138      0.890      -2.073       1.801\n",
       "cnt_mean60         0.4836      1.451      0.333      0.739      -2.368       3.335\n",
       "cnt_median60      -1.6308      0.932     -1.750      0.081      -3.462       0.200\n",
       "cnt_min60          0.0862      0.236      0.365      0.715      -0.378       0.550\n",
       "cnt_max60         -1.2907      0.607     -2.126      0.034      -2.484      -0.098\n",
       "cnt_std60          0.2913      1.577      0.185      0.854      -2.809       3.391\n",
       "cnt_mean140        0.4411      1.385      0.318      0.750      -2.281       3.164\n",
       "cnt_median140     -0.1017      0.710     -0.143      0.886      -1.497       1.293\n",
       "cnt_min140        -0.2026      0.221     -0.917      0.360      -0.637       0.232\n",
       "cnt_max140         0.9042      0.545      1.659      0.098      -0.167       1.976\n",
       "cnt_std140        -1.6346      1.626     -1.005      0.315      -4.831       1.562\n",
       "diff_mean1         0.0478      0.071      0.677      0.499      -0.091       0.186\n",
       "diff_mean3         0.0170      0.037      0.461      0.645      -0.056       0.090\n",
       "diff_median3      -0.0819      0.085     -0.962      0.336      -0.249       0.085\n",
       "diff_min3          0.4730      0.399      1.186      0.236      -0.311       1.257\n",
       "diff_max3         -0.3402      0.393     -0.865      0.387      -1.113       0.432\n",
       "diff_std3          0.7435      0.746      0.997      0.319      -0.722       2.209\n",
       "diff_mean7        -0.2129      0.521     -0.409      0.683      -1.236       0.810\n",
       "diff_median7       0.0037      0.259      0.014      0.989      -0.506       0.514\n",
       "diff_min7          0.1035      0.217      0.476      0.634      -0.324       0.531\n",
       "diff_max7         -0.2659      0.201     -1.320      0.188      -0.662       0.130\n",
       "diff_std7          0.3078      0.638      0.482      0.630      -0.947       1.562\n",
       "diff_mean14       -0.1616      0.735     -0.220      0.826      -1.607       1.284\n",
       "diff_median14      0.2851      0.547      0.521      0.603      -0.790       1.360\n",
       "diff_min14         0.0842      0.182      0.463      0.644      -0.273       0.442\n",
       "diff_max14        -0.0110      0.165     -0.067      0.947      -0.335       0.313\n",
       "diff_std14         0.7268      0.713      1.020      0.308      -0.674       2.128\n",
       "diff_mean30       -1.0239      1.450     -0.706      0.480      -3.874       1.826\n",
       "diff_median30     -0.5240      0.873     -0.600      0.549      -2.241       1.193\n",
       "diff_min30        -0.0158      0.218     -0.073      0.942      -0.444       0.413\n",
       "diff_max30        -0.0977      0.177     -0.553      0.581      -0.445       0.250\n",
       "diff_std30         0.6212      1.212      0.512      0.609      -1.762       3.004\n",
       "diff_mean60        2.9525      2.853      1.035      0.301      -2.655       8.560\n",
       "diff_median60      3.8411      1.693      2.269      0.024       0.514       7.168\n",
       "diff_min60         0.2256      0.191      1.179      0.239      -0.151       0.602\n",
       "diff_max60        -0.0827      0.254     -0.326      0.745      -0.582       0.417\n",
       "diff_std60         2.3738      1.415      1.678      0.094      -0.406       5.154\n",
       "diff_mean140      14.5910      7.061      2.067      0.039       0.713      28.469\n",
       "diff_median140    -9.7040      3.293     -2.947      0.003     -16.176      -3.232\n",
       "diff_min140        0.2503      0.218      1.147      0.252      -0.179       0.679\n",
       "diff_max140        0.5469      0.493      1.110      0.268      -0.421       1.515\n",
       "diff_std140        1.6021      2.182      0.734      0.463      -2.686       5.890\n",
       "mean_15_dow        0.0102      0.011      0.969      0.333      -0.010       0.031\n",
       "week_num         -40.7986     12.727     -3.206      0.001     -65.813     -15.784\n",
       "mnth_1          -792.5484    656.809     -1.207      0.228   -2083.487     498.390\n",
       "mnth_2          -282.8693    749.748     -0.377      0.706   -1756.477    1190.738\n",
       "mnth_3           255.2574    660.557      0.386      0.699   -1043.048    1553.562\n",
       "mnth_4           325.6431    653.868      0.498      0.619    -959.515    1610.801\n",
       "mnth_5            12.2575    736.860      0.017      0.987   -1436.019    1460.534\n",
       "mnth_6          1807.1585    741.195      2.438      0.015     350.362    3263.955\n",
       "mnth_7           457.0754    681.635      0.671      0.503    -882.657    1796.808\n",
       "mnth_8           861.8162    568.856      1.515      0.131    -256.254    1979.886\n",
       "mnth_9          1274.8844    466.222      2.735      0.007     358.539    2191.230\n",
       "mnth_10          708.5265    404.811      1.750      0.081     -87.118    1504.171\n",
       "mnth_11         -149.0523    376.778     -0.396      0.693    -889.598     591.493\n",
       "==============================================================================\n",
       "Omnibus:                       78.195   Durbin-Watson:                   1.520\n",
       "Prob(Omnibus):                  0.000   Jarque-Bera (JB):              210.688\n",
       "Skew:                          -0.743   Prob(JB):                     1.78e-46\n",
       "Kurtosis:                       5.741   Cond. No.                     1.12e+16\n",
       "==============================================================================\n",
       "\n",
       "Warnings:\n",
       "[1] Standard Errors assume that the covariance matrix of the errors is correctly specified.\n",
       "[2] The smallest eigenvalue is 2.57e-20. This might indicate that there are\n",
       "strong multicollinearity problems or that the design matrix is singular.\n",
       "\"\"\""
      ]
     },
     "execution_count": 114,
     "metadata": {},
     "output_type": "execute_result"
    }
   ],
   "source": [
    "model.summary()"
   ]
  },
  {
   "cell_type": "code",
   "execution_count": 115,
   "metadata": {},
   "outputs": [],
   "source": [
    "import lightgbm as lgb"
   ]
  },
  {
   "cell_type": "code",
   "execution_count": 116,
   "metadata": {},
   "outputs": [
    {
     "name": "stderr",
     "output_type": "stream",
     "text": [
      "/Users/sourabhmittal/anaconda2/envs/conda_env/lib/python3.6/site-packages/lightgbm/basic.py:1205: UserWarning: Using categorical_feature in Dataset.\n",
      "  warnings.warn('Using categorical_feature in Dataset.')\n"
     ]
    },
    {
     "name": "stdout",
     "output_type": "stream",
     "text": [
      "[50]\ttraining's l2: 151341\tvalid_1's l2: 926263\n",
      "[100]\ttraining's l2: 55237.8\tvalid_1's l2: 778411\n",
      "[150]\ttraining's l2: 24464.3\tvalid_1's l2: 797418\n",
      "[200]\ttraining's l2: 11814.3\tvalid_1's l2: 795493\n",
      "[250]\ttraining's l2: 5874.94\tvalid_1's l2: 802128\n",
      "[300]\ttraining's l2: 2965.46\tvalid_1's l2: 810053\n",
      "[350]\ttraining's l2: 1523.35\tvalid_1's l2: 818441\n",
      "[400]\ttraining's l2: 795.434\tvalid_1's l2: 826986\n",
      "[450]\ttraining's l2: 424.456\tvalid_1's l2: 832865\n",
      "[500]\ttraining's l2: 233.787\tvalid_1's l2: 843928\n",
      "[550]\ttraining's l2: 122.496\tvalid_1's l2: 845608\n",
      "[600]\ttraining's l2: 67.6979\tvalid_1's l2: 845730\n",
      "[650]\ttraining's l2: 37.531\tvalid_1's l2: 846224\n",
      "[700]\ttraining's l2: 21.2409\tvalid_1's l2: 846942\n",
      "[750]\ttraining's l2: 12.1004\tvalid_1's l2: 846544\n",
      "[800]\ttraining's l2: 6.74844\tvalid_1's l2: 846820\n",
      "[850]\ttraining's l2: 3.76747\tvalid_1's l2: 846630\n",
      "[900]\ttraining's l2: 2.12207\tvalid_1's l2: 846870\n",
      "[950]\ttraining's l2: 1.17473\tvalid_1's l2: 846912\n",
      "[1000]\ttraining's l2: 0.659148\tvalid_1's l2: 847180\n",
      "[1050]\ttraining's l2: 0.386421\tvalid_1's l2: 847161\n",
      "[1100]\ttraining's l2: 0.212551\tvalid_1's l2: 847068\n",
      "[1150]\ttraining's l2: 0.118221\tvalid_1's l2: 847131\n",
      "[1200]\ttraining's l2: 0.0657638\tvalid_1's l2: 847192\n",
      "[1250]\ttraining's l2: 0.0380734\tvalid_1's l2: 847211\n",
      "[1300]\ttraining's l2: 0.0217037\tvalid_1's l2: 847259\n",
      "[1350]\ttraining's l2: 0.0126107\tvalid_1's l2: 847298\n",
      "[1400]\ttraining's l2: 0.0072528\tvalid_1's l2: 847316\n",
      "[1450]\ttraining's l2: 0.00416441\tvalid_1's l2: 847334\n",
      "[1500]\ttraining's l2: 0.00235043\tvalid_1's l2: 847345\n",
      "cnt_max7: 1234143940.43\n",
      "atemp: 880919771.99\n",
      "hum: 573815237.03\n",
      "cnt_median30: 544003339.76\n",
      "diff_std140: 313427587.98\n",
      "cnt_max14: 303601485.40\n",
      "cnt_mean140: 208672999.94\n",
      "windspeed: 188430823.56\n",
      "cnt_median7: 159259494.01\n",
      "week_num: 157028380.69\n",
      "weather_1: 133342619.76\n",
      "cnt_median60: 130440525.01\n",
      "diff_median30: 118878624.97\n",
      "cnt_mean60: 107969852.60\n",
      "cnt_mean30: 105908683.25\n",
      "diff_median140: 81286683.47\n",
      "cnt_std60: 75423962.21\n",
      "cnt_median3: 72927720.81\n",
      "diff_min7: 69714422.30\n",
      "cnt_std140: 66068804.43\n",
      "mean_15_dow: 57071367.65\n",
      "diff_std14: 50371338.52\n",
      "diff_max140: 50314737.70\n",
      "cnt_std7: 50150529.69\n",
      "diff_median60: 48249669.64\n",
      "workingday: 45203768.33\n",
      "cnt_std30: 43756599.51\n",
      "cnt_std14: 43355540.18\n",
      "cnt_min3: 38755519.28\n",
      "diff_min3: 35192872.57\n",
      "diff_mean1: 34438555.11\n",
      "cnt_median140: 33759649.05\n",
      "diff_mean3: 31135589.47\n",
      "cnt_mean1: 30602570.21\n",
      "diff_std3: 29545074.28\n",
      "diff_std7: 29374922.85\n",
      "diff_mean60: 28941853.58\n",
      "cnt_max30: 28139789.44\n",
      "diff_std30: 27498929.93\n",
      "diff_mean140: 25936080.23\n",
      "diff_mean30: 25656180.29\n",
      "diff_std60: 24766398.12\n",
      "diff_max7: 24409117.15\n",
      "weather_2: 23999759.23\n",
      "diff_mean14: 22278917.20\n",
      "diff_median7: 21634323.27\n",
      "cnt_max3: 21070053.60\n",
      "weekday_0: 18039794.90\n",
      "diff_max3: 17466936.95\n",
      "diff_mean7: 15007380.16\n",
      "cnt_max60: 12531388.96\n",
      "diff_median14: 11785622.79\n",
      "cnt_min14: 11485995.45\n",
      "diff_median3: 10044930.32\n",
      "cnt_mean7: 9681536.28\n",
      "cnt_std3: 9533799.85\n",
      "season_2: 9426735.00\n",
      "cnt_mean3: 9329949.77\n",
      "diff_max30: 9000791.29\n",
      "cnt_min7: 8461072.13\n",
      "cnt_min30: 7379238.83\n",
      "diff_max14: 7279772.39\n",
      "diff_min14: 5802328.67\n",
      "diff_min140: 5299967.62\n",
      "cnt_mean14: 4334460.53\n",
      "cnt_median14: 3169927.65\n",
      "cnt_min60: 2327086.20\n",
      "diff_min60: 2142845.10\n",
      "weekday_3: 1669526.76\n",
      "weekday_1: 1598460.99\n",
      "weekday_2: 1303092.52\n",
      "diff_min30: 1102660.31\n",
      "mnth_4: 977310.84\n",
      "mnth_7: 880960.22\n",
      "mnth_1: 845258.97\n",
      "cnt_min140: 670653.58\n",
      "mnth_3: 424508.41\n",
      "season_3: 363722.23\n",
      "diff_max60: 168218.23\n",
      "weekday_4: 145419.08\n",
      "mnth_11: 144816.63\n",
      "season_1: 119949.00\n",
      "cnt_max140: 8523.13\n",
      "weekday_5: 7397.29\n",
      "mnth_8: 203.66\n",
      "mnth_9: 172.02\n",
      "mnth_6: 7.12\n",
      "mnth_2: 0.00\n",
      "mnth_5: 0.00\n",
      "mnth_10: 0.00\n"
     ]
    }
   ],
   "source": [
    "cate_vars = []\n",
    "params = {\n",
    "        'num_leaves': 10,\n",
    "        'objective': 'regression',\n",
    "        'min_data_in_leaf': 10,\n",
    "        'learning_rate': 0.1,\n",
    "        'feature_fraction': 0.8,\n",
    "        'bagging_fraction': 0.7,\n",
    "        'bagging_freq': 1,\n",
    "        'metric': 'l2',\n",
    "        'num_threads': 16\n",
    "}\n",
    "\n",
    "MAX_ROUNDS = 1500\n",
    "\n",
    "\n",
    "dtrain = lgb.Dataset(\n",
    "    new_train_df[feature_columns_to_use], label=new_train_df['cnt'],\n",
    "    categorical_feature=cate_vars\n",
    ")\n",
    "dval = lgb.Dataset(\n",
    "    new_test_df[feature_columns_to_use], label=new_test_df['cnt'], reference=dtrain,\n",
    "    categorical_feature=cate_vars)\n",
    "bst = lgb.train(\n",
    "    params, dtrain, num_boost_round=MAX_ROUNDS,\n",
    "    valid_sets=[dtrain, dval],  verbose_eval=50\n",
    ")\n",
    "print(\"\\n\".join((\"%s: %.2f\" % x) for x in sorted(\n",
    "    zip(new_train_df[feature_columns_to_use], bst.feature_importance(\"gain\")),\n",
    "    key=lambda x: x[1], reverse=True\n",
    ")))\n",
    "lgb_pred = bst.predict(\n",
    "    new_test_df[feature_columns_to_use], num_iteration=bst.best_iteration or MAX_ROUNDS)\n",
    "\n"
   ]
  },
  {
   "cell_type": "code",
   "execution_count": 117,
   "metadata": {},
   "outputs": [
    {
     "data": {
      "text/plain": [
       "0.19802287894083334"
      ]
     },
     "execution_count": 117,
     "metadata": {},
     "output_type": "execute_result"
    }
   ],
   "source": [
    "np.mean(np.sqrt(np.square((new_test_df['cnt'].values-lgb_pred)/new_test_df['cnt'].values)))"
   ]
  },
  {
   "cell_type": "code",
   "execution_count": 118,
   "metadata": {},
   "outputs": [
    {
     "name": "stdout",
     "output_type": "stream",
     "text": [
      "[4959.96000013 5241.48467227 5267.34480539 5139.35462344 4617.14285154\n",
      " 4290.39328503 3476.85952577 2787.97542487 4032.65955722 4758.05823395\n",
      " 5576.6449307  6048.30702278 5456.16073859 5723.42546633 4114.46260227\n",
      " 4321.32132219 5983.98651388 4620.95897366 4266.93208087 3597.49522408\n",
      " 3303.27691483 3744.74470396]\n"
     ]
    }
   ],
   "source": [
    "print (lgb_pred)"
   ]
  },
  {
   "cell_type": "code",
   "execution_count": 119,
   "metadata": {},
   "outputs": [
    {
     "data": {
      "image/png": "[encoded data removed]",
      "text/plain": [
       "<Figure size 432x288 with 1 Axes>"
      ]
     },
     "metadata": {},
     "output_type": "display_data"
    }
   ],
   "source": [
    "plt.plot(new_test_df['dteday'].values, new_test_df['cnt'].values, label = \"Actual\") \n",
    "plt.plot(new_test_df['dteday'].values, lgb_pred, label = \"Forecast\") \n",
    "plt.legend() \n",
    "plt.show() "
   ]
  }
 ],
 "metadata": {
  "kernelspec": {
   "display_name": "Python 3",
   "language": "python",
   "name": "python3"
  },
  "language_info": {
   "codemirror_mode": {
    "name": "ipython",
    "version": 3
   },
   "file_extension": ".py",
   "mimetype": "text/x-python",
   "name": "python",
   "nbconvert_exporter": "python",
   "pygments_lexer": "ipython3",
   "version": "3.6.8"
  }
 },
 "nbformat": 4,
 "nbformat_minor": 2
}

{
 "cells": [
  {
   "cell_type": "code",
   "execution_count": null,
   "metadata": {
    "collapsed": true
   },
   "outputs": [],
   "source": [
    "#importing the libraries here\n",
    "import numpy as np\n",
    "import matplotlib.pyplot as plt\n",
    "import h5py\n",
    "import scipy\n",
    "import pandas as pd\n",
    "\n",
    "%matplotlib inline"
   ]
  },
  {
   "cell_type": "code",
   "execution_count": null,
   "metadata": {
    "collapsed": true
   },
   "outputs": [],
   "source": [
    "#the first step is loading the data and pre-processing\n",
    "#Lets load the data into pandas dataframe\n",
    "data = pd.read_csv(\"Breast_cancer_data.csv\") \n",
    "data['diagnosis_flag'] = np.where(data['diagnosis']=='M', 1, 0)\n",
    "\n",
    "train_data=data.sample(frac=0.8,random_state=200)\n",
    "test_data=data.drop(train_data.index)\n",
    "\n",
    "test = train_data['diagnosis_flag']\n",
    "test_numpy = test.values\n",
    "Y_train= (test_numpy.reshape((-1,1)))\n",
    "\n",
    "test = test_data['diagnosis_flag']\n",
    "test_numpy = test.values\n",
    "Y_test= (test_numpy.reshape((-1,1)))\n",
    "\n",
    "train = train_data[data.columns.difference(['diagnosis', 'Unnamed: 32','diagnosis_flag'])]\n",
    "#Then we will do pre-processing where we will subtract the mean and divide by the \n",
    "#max-min\n",
    "train_norm = train.apply(lambda x: (x - np.mean(x)) / (np.max(x) - np.min(x)))\n",
    "\n",
    "\n",
    "#Convert the train_norm to a numpy matrix\n",
    "X_train=train_norm.values\n",
    "\n",
    "test = test_data[data.columns.difference(['diagnosis', 'Unnamed: 32','diagnosis_flag'])]\n",
    "#Then we will do pre-processing where we will subtract the mean and divide by the \n",
    "#max-min\n",
    "test_norm = train.apply(lambda x: (x - np.mean(x)) / (np.max(x) - np.min(x)))\n",
    "\n",
    "\n",
    "#Convert the train_norm to a numpy matrix\n",
    "X_test=test_norm.values\n",
    "\n"
   ]
  },
  {
   "cell_type": "code",
   "execution_count": null,
   "metadata": {
    "collapsed": true
   },
   "outputs": [],
   "source": [
    "#Next we will create the sigmoid function\n",
    "def sigmoid (z):\n",
    "    return np.exp(z)*1.00/(1+np.exp(z))"
   ]
  },
  {
   "cell_type": "code",
   "execution_count": null,
   "metadata": {
    "collapsed": true
   },
   "outputs": [],
   "source": [
    "#We will be creating a NN with 4 units in the hidden later\n",
    "\n"
   ]
  }
 ],
 "metadata": {
  "kernelspec": {
   "display_name": "Python 2",
   "language": "python",
   "name": "python2"
  },
  "language_info": {
   "codemirror_mode": {
    "name": "ipython",
    "version": 2
   },
   "file_extension": ".py",
   "mimetype": "text/x-python",
   "name": "python",
   "nbconvert_exporter": "python",
   "pygments_lexer": "ipython2",
   "version": "2.7.14"
  }
 },
 "nbformat": 4,
 "nbformat_minor": 2
}

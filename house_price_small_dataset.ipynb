{
 "cells": [
  {
   "cell_type": "code",
   "execution_count": 77,
   "metadata": {},
   "outputs": [],
   "source": [
    "import pandas as pd\n",
    "import numpy as np"
   ]
  },
  {
   "cell_type": "code",
   "execution_count": 78,
   "metadata": {},
   "outputs": [],
   "source": [
    "train = pd.read_csv('house-prices-advanced-regression-techniques/kc_house_data.csv')"
   ]
  },
  {
   "cell_type": "code",
   "execution_count": 79,
   "metadata": {},
   "outputs": [
    {
     "name": "stdout",
     "output_type": "stream",
     "text": [
      "           id             date     price  bedrooms  bathrooms  sqft_living  \\\n",
      "0  7129300520  20141013T000000  221900.0         3       1.00         1180   \n",
      "1  6414100192  20141209T000000  538000.0         3       2.25         2570   \n",
      "2  5631500400  20150225T000000  180000.0         2       1.00          770   \n",
      "3  2487200875  20141209T000000  604000.0         4       3.00         1960   \n",
      "4  1954400510  20150218T000000  510000.0         3       2.00         1680   \n",
      "\n",
      "   sqft_lot  floors  waterfront  view  ...  grade  sqft_above  sqft_basement  \\\n",
      "0      5650     1.0           0     0  ...      7        1180              0   \n",
      "1      7242     2.0           0     0  ...      7        2170            400   \n",
      "2     10000     1.0           0     0  ...      6         770              0   \n",
      "3      5000     1.0           0     0  ...      7        1050            910   \n",
      "4      8080     1.0           0     0  ...      8        1680              0   \n",
      "\n",
      "   yr_built  yr_renovated  zipcode      lat     long  sqft_living15  \\\n",
      "0      1955             0    98178  47.5112 -122.257           1340   \n",
      "1      1951          1991    98125  47.7210 -122.319           1690   \n",
      "2      1933             0    98028  47.7379 -122.233           2720   \n",
      "3      1965             0    98136  47.5208 -122.393           1360   \n",
      "4      1987             0    98074  47.6168 -122.045           1800   \n",
      "\n",
      "   sqft_lot15  \n",
      "0        5650  \n",
      "1        7639  \n",
      "2        8062  \n",
      "3        5000  \n",
      "4        7503  \n",
      "\n",
      "[5 rows x 21 columns]\n",
      "(21613, 21)\n"
     ]
    }
   ],
   "source": [
    "print (train.head())\n",
    "print (train.shape)"
   ]
  },
  {
   "cell_type": "code",
   "execution_count": 80,
   "metadata": {},
   "outputs": [
    {
     "name": "stdout",
     "output_type": "stream",
     "text": [
      "<class 'pandas.core.frame.DataFrame'>\n",
      "RangeIndex: 21613 entries, 0 to 21612\n",
      "Data columns (total 21 columns):\n",
      "id               21613 non-null int64\n",
      "date             21613 non-null object\n",
      "price            21613 non-null float64\n",
      "bedrooms         21613 non-null int64\n",
      "bathrooms        21613 non-null float64\n",
      "sqft_living      21613 non-null int64\n",
      "sqft_lot         21613 non-null int64\n",
      "floors           21613 non-null float64\n",
      "waterfront       21613 non-null int64\n",
      "view             21613 non-null int64\n",
      "condition        21613 non-null int64\n",
      "grade            21613 non-null int64\n",
      "sqft_above       21613 non-null int64\n",
      "sqft_basement    21613 non-null int64\n",
      "yr_built         21613 non-null int64\n",
      "yr_renovated     21613 non-null int64\n",
      "zipcode          21613 non-null int64\n",
      "lat              21613 non-null float64\n",
      "long             21613 non-null float64\n",
      "sqft_living15    21613 non-null int64\n",
      "sqft_lot15       21613 non-null int64\n",
      "dtypes: float64(5), int64(15), object(1)\n",
      "memory usage: 3.5+ MB\n",
      "None\n"
     ]
    }
   ],
   "source": [
    "print (train.info())"
   ]
  },
  {
   "cell_type": "code",
   "execution_count": 106,
   "metadata": {},
   "outputs": [
    {
     "name": "stdout",
     "output_type": "stream",
     "text": [
      "0    21450\n",
      "1      163\n",
      "Name: waterfront, dtype: int64\n"
     ]
    }
   ],
   "source": [
    "print (train['waterfront'].value_counts())"
   ]
  },
  {
   "cell_type": "code",
   "execution_count": 81,
   "metadata": {},
   "outputs": [
    {
     "name": "stdout",
     "output_type": "stream",
     "text": [
      "0    19489\n",
      "2      963\n",
      "3      510\n",
      "1      332\n",
      "4      319\n",
      "Name: view, dtype: int64\n"
     ]
    }
   ],
   "source": [
    "print (train['view'].value_counts())"
   ]
  },
  {
   "cell_type": "code",
   "execution_count": 82,
   "metadata": {},
   "outputs": [
    {
     "name": "stdout",
     "output_type": "stream",
     "text": [
      "3    14031\n",
      "4     5679\n",
      "5     1701\n",
      "2      172\n",
      "1       30\n",
      "Name: condition, dtype: int64\n",
      "           id             date     price  bedrooms  bathrooms  sqft_living  \\\n",
      "0  7129300520  20141013T000000  221900.0         3       1.00         1180   \n",
      "1  6414100192  20141209T000000  538000.0         3       2.25         2570   \n",
      "2  5631500400  20150225T000000  180000.0         2       1.00          770   \n",
      "3  2487200875  20141209T000000  604000.0         4       3.00         1960   \n",
      "4  1954400510  20150218T000000  510000.0         3       2.00         1680   \n",
      "\n",
      "   sqft_lot  floors  waterfront  view  ...  zipcode      lat     long  \\\n",
      "0      5650     1.0           0     0  ...    98178  47.5112 -122.257   \n",
      "1      7242     2.0           0     0  ...    98125  47.7210 -122.319   \n",
      "2     10000     1.0           0     0  ...    98028  47.7379 -122.233   \n",
      "3      5000     1.0           0     0  ...    98136  47.5208 -122.393   \n",
      "4      8080     1.0           0     0  ...    98074  47.6168 -122.045   \n",
      "\n",
      "   sqft_living15  sqft_lot15  condition_1  condition_2  condition_3  \\\n",
      "0           1340        5650            0            0            1   \n",
      "1           1690        7639            0            0            1   \n",
      "2           2720        8062            0            0            1   \n",
      "3           1360        5000            0            0            0   \n",
      "4           1800        7503            0            0            1   \n",
      "\n",
      "   condition_4  condition_5  \n",
      "0            0            0  \n",
      "1            0            0  \n",
      "2            0            0  \n",
      "3            0            1  \n",
      "4            0            0  \n",
      "\n",
      "[5 rows x 26 columns]\n"
     ]
    }
   ],
   "source": [
    "print (train['condition'].value_counts())\n",
    "#dummy encode condition variable\n",
    "condition_dummy = pd.get_dummies(train['condition'],prefix='condition')\n",
    "train=pd.concat([train,condition_dummy],axis=1)\n",
    "print (train.head())"
   ]
  },
  {
   "cell_type": "code",
   "execution_count": 83,
   "metadata": {},
   "outputs": [
    {
     "name": "stdout",
     "output_type": "stream",
     "text": [
      "                   price\n",
      "condition               \n",
      "2          327287.145349\n",
      "1          334431.666667\n",
      "4          521200.390033\n",
      "3          542012.578148\n",
      "5          612418.089359\n"
     ]
    }
   ],
   "source": [
    "print (train.groupby(by=['condition']).agg({'price':'mean'}).sort_values(by='price'))"
   ]
  },
  {
   "cell_type": "code",
   "execution_count": 84,
   "metadata": {},
   "outputs": [
    {
     "name": "stdout",
     "output_type": "stream",
     "text": [
      "             price\n",
      "view              \n",
      "0     4.965642e+05\n",
      "2     7.924009e+05\n",
      "1     8.122808e+05\n",
      "3     9.719653e+05\n",
      "4     1.463711e+06\n"
     ]
    }
   ],
   "source": [
    "print (train.groupby(by=['view']).agg({'price':'mean'}).sort_values(by='price').sort_values(by='price'))\n",
    "#dummy encode view variable\n",
    "view_dummy = pd.get_dummies(train['view'],prefix='view')\n",
    "train=pd.concat([train,view_dummy],axis=1)"
   ]
  },
  {
   "cell_type": "code",
   "execution_count": 85,
   "metadata": {},
   "outputs": [
    {
     "name": "stdout",
     "output_type": "stream",
     "text": [
      "           id             date     price  bedrooms  bathrooms  sqft_living  \\\n",
      "0  7129300520  20141013T000000  221900.0         3       1.00         1180   \n",
      "1  6414100192  20141209T000000  538000.0         3       2.25         2570   \n",
      "2  5631500400  20150225T000000  180000.0         2       1.00          770   \n",
      "3  2487200875  20141209T000000  604000.0         4       3.00         1960   \n",
      "4  1954400510  20150218T000000  510000.0         3       2.00         1680   \n",
      "\n",
      "   sqft_lot  floors  waterfront  view  ...  condition_1  condition_2  \\\n",
      "0      5650     1.0           0     0  ...            0            0   \n",
      "1      7242     2.0           0     0  ...            0            0   \n",
      "2     10000     1.0           0     0  ...            0            0   \n",
      "3      5000     1.0           0     0  ...            0            0   \n",
      "4      8080     1.0           0     0  ...            0            0   \n",
      "\n",
      "   condition_3  condition_4  condition_5  view_0  view_1  view_2  view_3  \\\n",
      "0            1            0            0       1       0       0       0   \n",
      "1            1            0            0       1       0       0       0   \n",
      "2            1            0            0       1       0       0       0   \n",
      "3            0            0            1       1       0       0       0   \n",
      "4            1            0            0       1       0       0       0   \n",
      "\n",
      "   view_4  \n",
      "0       0  \n",
      "1       0  \n",
      "2       0  \n",
      "3       0  \n",
      "4       0  \n",
      "\n",
      "[5 rows x 31 columns]\n"
     ]
    }
   ],
   "source": [
    "print (train.head())"
   ]
  },
  {
   "cell_type": "code",
   "execution_count": 157,
   "metadata": {},
   "outputs": [
    {
     "name": "stdout",
     "output_type": "stream",
     "text": [
      "              price\n",
      "grade              \n",
      "1      1.420000e+05\n",
      "3      2.056667e+05\n",
      "4      2.143810e+05\n",
      "5      2.485240e+05\n",
      "6      3.019196e+05\n",
      "7      4.025903e+05\n",
      "8      5.428528e+05\n",
      "9      7.735132e+05\n",
      "10     1.071771e+06\n",
      "11     1.496842e+06\n",
      "12     2.191222e+06\n",
      "13     3.709615e+06\n"
     ]
    }
   ],
   "source": [
    "print (pd.pivot_table(train, index='grade', values='price', aggfunc=np.mean).sort_values(by='price'))\n",
    "\n",
    "#keep grade variable as the same\n",
    "\n",
    "#adding dummy just to see the negative impact of doing it on grade\n",
    "\n",
    "#dummy encode view variable\n",
    "grade_dummy = pd.get_dummies(train['grade'],prefix='grade')\n",
    "train=pd.concat([train,grade_dummy],axis=1)"
   ]
  },
  {
   "cell_type": "code",
   "execution_count": 87,
   "metadata": {},
   "outputs": [
    {
     "name": "stdout",
     "output_type": "stream",
     "text": [
      "7     8981\n",
      "8     6068\n",
      "9     2615\n",
      "6     2038\n",
      "10    1134\n",
      "11     399\n",
      "5      242\n",
      "12      90\n",
      "4       29\n",
      "13      13\n",
      "3        3\n",
      "1        1\n",
      "Name: grade, dtype: int64\n"
     ]
    }
   ],
   "source": [
    "print (train['grade'].value_counts())"
   ]
  },
  {
   "cell_type": "code",
   "execution_count": 88,
   "metadata": {},
   "outputs": [],
   "source": [
    "#create a flag for sqft_basement=0\n",
    "train['No_basement']=0\n",
    "train.loc[train.sqft_basement==0,'No_basement']=1"
   ]
  },
  {
   "cell_type": "code",
   "execution_count": 89,
   "metadata": {},
   "outputs": [
    {
     "data": {
      "text/html": [
       "<div>\n",
       "<style scoped>\n",
       "    .dataframe tbody tr th:only-of-type {\n",
       "        vertical-align: middle;\n",
       "    }\n",
       "\n",
       "    .dataframe tbody tr th {\n",
       "        vertical-align: top;\n",
       "    }\n",
       "\n",
       "    .dataframe thead th {\n",
       "        text-align: right;\n",
       "    }\n",
       "</style>\n",
       "<table border=\"1\" class=\"dataframe\">\n",
       "  <thead>\n",
       "    <tr style=\"text-align: right;\">\n",
       "      <th></th>\n",
       "      <th>sqft_above</th>\n",
       "      <th>sqft_basement</th>\n",
       "      <th>price</th>\n",
       "      <th>sqft_living</th>\n",
       "      <th>sqft_lot</th>\n",
       "    </tr>\n",
       "  </thead>\n",
       "  <tbody>\n",
       "    <tr>\n",
       "      <th>sqft_above</th>\n",
       "      <td>1.000000</td>\n",
       "      <td>0.386784</td>\n",
       "      <td>0.714981</td>\n",
       "      <td>0.919976</td>\n",
       "      <td>0.207473</td>\n",
       "    </tr>\n",
       "    <tr>\n",
       "      <th>sqft_basement</th>\n",
       "      <td>0.386784</td>\n",
       "      <td>1.000000</td>\n",
       "      <td>0.407308</td>\n",
       "      <td>0.717299</td>\n",
       "      <td>0.155285</td>\n",
       "    </tr>\n",
       "    <tr>\n",
       "      <th>price</th>\n",
       "      <td>0.714981</td>\n",
       "      <td>0.407308</td>\n",
       "      <td>1.000000</td>\n",
       "      <td>0.713348</td>\n",
       "      <td>0.068569</td>\n",
       "    </tr>\n",
       "    <tr>\n",
       "      <th>sqft_living</th>\n",
       "      <td>0.919976</td>\n",
       "      <td>0.717299</td>\n",
       "      <td>0.713348</td>\n",
       "      <td>1.000000</td>\n",
       "      <td>0.222765</td>\n",
       "    </tr>\n",
       "    <tr>\n",
       "      <th>sqft_lot</th>\n",
       "      <td>0.207473</td>\n",
       "      <td>0.155285</td>\n",
       "      <td>0.068569</td>\n",
       "      <td>0.222765</td>\n",
       "      <td>1.000000</td>\n",
       "    </tr>\n",
       "  </tbody>\n",
       "</table>\n",
       "</div>"
      ],
      "text/plain": [
       "               sqft_above  sqft_basement     price  sqft_living  sqft_lot\n",
       "sqft_above       1.000000       0.386784  0.714981     0.919976  0.207473\n",
       "sqft_basement    0.386784       1.000000  0.407308     0.717299  0.155285\n",
       "price            0.714981       0.407308  1.000000     0.713348  0.068569\n",
       "sqft_living      0.919976       0.717299  0.713348     1.000000  0.222765\n",
       "sqft_lot         0.207473       0.155285  0.068569     0.222765  1.000000"
      ]
     },
     "execution_count": 89,
     "metadata": {},
     "output_type": "execute_result"
    }
   ],
   "source": [
    "train[train['No_basement']==0][['sqft_above','sqft_basement','price','sqft_living','sqft_lot']].corr()\n"
   ]
  },
  {
   "cell_type": "code",
   "execution_count": 90,
   "metadata": {},
   "outputs": [
    {
     "name": "stdout",
     "output_type": "stream",
     "text": [
      "                     price       \n",
      "                      mean  count\n",
      "No_basement                      \n",
      "0            622373.563803   8487\n",
      "1            486884.090507  13126\n"
     ]
    }
   ],
   "source": [
    "print (train.groupby(by='No_basement').agg({'price':['mean','count']}))"
   ]
  },
  {
   "cell_type": "code",
   "execution_count": 91,
   "metadata": {},
   "outputs": [
    {
     "name": "stdout",
     "output_type": "stream",
     "text": [
      "       sqft_above  sqft_basement      price  sqft_living  sqft_lot\n",
      "0            1180              0   221900.0         1180      5650\n",
      "1            2170            400   538000.0         2570      7242\n",
      "2             770              0   180000.0          770     10000\n",
      "3            1050            910   604000.0         1960      5000\n",
      "4            1680              0   510000.0         1680      8080\n",
      "5            3890           1530  1225000.0         5420    101930\n",
      "6            1715              0   257500.0         1715      6819\n",
      "7            1060              0   291850.0         1060      9711\n",
      "8            1050            730   229500.0         1780      7470\n",
      "9            1890              0   323000.0         1890      6560\n",
      "10           1860           1700   662500.0         3560      9796\n",
      "11            860            300   468000.0         1160      6000\n",
      "12           1430              0   310000.0         1430     19901\n",
      "13           1370              0   400000.0         1370      9680\n",
      "14           1810              0   530000.0         1810      4850\n",
      "15           1980            970   650000.0         2950      5000\n",
      "16           1890              0   395000.0         1890     14040\n",
      "17           1600              0   485000.0         1600      4300\n",
      "18           1200              0   189000.0         1200      9850\n",
      "19           1250              0   230000.0         1250      9774\n",
      "20            860            760   385000.0         1620      4980\n",
      "21           2330            720  2000000.0         3050     44867\n",
      "22           2270              0   285000.0         2270      6300\n",
      "23           1070              0   252700.0         1070      9643\n",
      "24           2450              0   329000.0         2450      6500\n",
      "25           1710              0   233000.0         1710      4697\n",
      "26           1750            700   937000.0         2450      2691\n",
      "27           1400              0   667000.0         1400      1581\n",
      "28            790            730   438000.0         1520      6380\n",
      "29           2570              0   719000.0         2570      7173\n",
      "...           ...            ...        ...          ...       ...\n",
      "21583         710              0   399950.0          710      1157\n",
      "21584         940            320   380000.0         1260       900\n",
      "21585        1870              0   270000.0         1870      5000\n",
      "21586        1430              0   505000.0         1430      1201\n",
      "21587        1520              0   385000.0         1520      1488\n",
      "21588        1020            190   414500.0         1210      1278\n",
      "21589        2540              0   347500.0         2540      4760\n",
      "21590        3110           1800  1222500.0         4910      9444\n",
      "21591        2770              0   572000.0         2770      3852\n",
      "21592        1190              0   475000.0         1190      1200\n",
      "21593        4170              0  1088000.0         4170      8142\n",
      "21594        2500              0   350000.0         2500      5995\n",
      "21595        1480             50   520000.0         1530       981\n",
      "21596        3600              0   679950.0         3600      9437\n",
      "21597        3410              0  1575000.0         3410     10125\n",
      "21598        3118              0   541800.0         3118      7866\n",
      "21599        3990              0   810000.0         3990      7838\n",
      "21600        4470              0  1537000.0         4470      8088\n",
      "21601        1425              0   467000.0         1425      1179\n",
      "21602        1500              0   224000.0         1500     11968\n",
      "21603        2270              0   507250.0         2270      5536\n",
      "21604        1490              0   429000.0         1490      1126\n",
      "21605        2520              0   610685.0         2520      6023\n",
      "21606        2600            910  1007500.0         3510      7200\n",
      "21607        1180            130   475000.0         1310      1294\n",
      "21608        1530              0   360000.0         1530      1131\n",
      "21609        2310              0   400000.0         2310      5813\n",
      "21610        1020              0   402101.0         1020      1350\n",
      "21611        1600              0   400000.0         1600      2388\n",
      "21612        1020              0   325000.0         1020      1076\n",
      "\n",
      "[21613 rows x 5 columns]\n"
     ]
    }
   ],
   "source": [
    "print (train[['sqft_above','sqft_basement','price','sqft_living','sqft_lot']])"
   ]
  },
  {
   "cell_type": "code",
   "execution_count": 92,
   "metadata": {},
   "outputs": [],
   "source": [
    "train['total_sq_feet_without_lot'] = train ['sqft_above']+train['sqft_basement']+train['sqft_living']"
   ]
  },
  {
   "cell_type": "code",
   "execution_count": 93,
   "metadata": {},
   "outputs": [
    {
     "data": {
      "text/html": [
       "<div>\n",
       "<style scoped>\n",
       "    .dataframe tbody tr th:only-of-type {\n",
       "        vertical-align: middle;\n",
       "    }\n",
       "\n",
       "    .dataframe tbody tr th {\n",
       "        vertical-align: top;\n",
       "    }\n",
       "\n",
       "    .dataframe thead th {\n",
       "        text-align: right;\n",
       "    }\n",
       "</style>\n",
       "<table border=\"1\" class=\"dataframe\">\n",
       "  <thead>\n",
       "    <tr style=\"text-align: right;\">\n",
       "      <th></th>\n",
       "      <th>total_sq_feet_without_lot</th>\n",
       "      <th>price</th>\n",
       "    </tr>\n",
       "  </thead>\n",
       "  <tbody>\n",
       "    <tr>\n",
       "      <th>total_sq_feet_without_lot</th>\n",
       "      <td>1.000000</td>\n",
       "      <td>0.702035</td>\n",
       "    </tr>\n",
       "    <tr>\n",
       "      <th>price</th>\n",
       "      <td>0.702035</td>\n",
       "      <td>1.000000</td>\n",
       "    </tr>\n",
       "  </tbody>\n",
       "</table>\n",
       "</div>"
      ],
      "text/plain": [
       "                           total_sq_feet_without_lot     price\n",
       "total_sq_feet_without_lot                   1.000000  0.702035\n",
       "price                                       0.702035  1.000000"
      ]
     },
     "execution_count": 93,
     "metadata": {},
     "output_type": "execute_result"
    }
   ],
   "source": [
    "train[['total_sq_feet_without_lot','price']].corr()"
   ]
  },
  {
   "cell_type": "code",
   "execution_count": 94,
   "metadata": {},
   "outputs": [],
   "source": [
    "train['years_old'] = 2019-train['yr_built']"
   ]
  },
  {
   "cell_type": "code",
   "execution_count": 95,
   "metadata": {},
   "outputs": [],
   "source": [
    "train['renovated']=0\n",
    "train.loc[train.yr_renovated>0,'renovated']=1"
   ]
  },
  {
   "cell_type": "code",
   "execution_count": 96,
   "metadata": {},
   "outputs": [
    {
     "name": "stdout",
     "output_type": "stream",
     "text": [
      "                   price       \n",
      "                    mean  count\n",
      "renovated                      \n",
      "0          530360.818155  20699\n",
      "1          760379.029540    914\n"
     ]
    }
   ],
   "source": [
    "print (train.groupby(by='renovated').agg({'price':['mean','count']}))"
   ]
  },
  {
   "cell_type": "code",
   "execution_count": 97,
   "metadata": {},
   "outputs": [],
   "source": [
    "\n",
    "train.loc[train.yr_renovated>0,'last_renovated'] = 2019-train['yr_renovated']\n",
    "train.loc[train.yr_renovated==0,'last_renovated'] = 2019-train['yr_built']\n"
   ]
  },
  {
   "cell_type": "code",
   "execution_count": 98,
   "metadata": {},
   "outputs": [
    {
     "name": "stdout",
     "output_type": "stream",
     "text": [
      "    last_renovated          price      \n",
      "                             mean count\n",
      "0              4.0  729876.592593    54\n",
      "1              5.0  679632.184615   650\n",
      "2              6.0  676387.336134   238\n",
      "3              7.0  533387.000000   181\n",
      "4              8.0  550246.923077   143\n",
      "5              9.0  600887.881988   161\n",
      "6             10.0  551765.138889   252\n",
      "7             11.0  660258.888312   385\n",
      "8             12.0  632310.128319   452\n",
      "9             13.0  638824.064854   478\n",
      "10            14.0  597698.393814   485\n",
      "11            15.0  606527.226580   459\n",
      "12            16.0  592201.262582   457\n",
      "13            17.0  636134.233607   244\n",
      "14            18.0  761447.354938   324\n",
      "15            19.0  699401.142292   253\n",
      "16            20.0  663790.468085   282\n",
      "17            21.0  606533.808594   256\n",
      "18            22.0  607183.427083   192\n",
      "19            23.0  640132.826923   208\n",
      "20            24.0  597409.054054   185\n",
      "21            25.0  519168.097015   268\n",
      "22            26.0  581627.475113   221\n",
      "23            27.0  559899.641860   215\n",
      "24            28.0  659155.000000   243\n",
      "25            29.0  578025.154070   344\n",
      "26            30.0  581912.337621   311\n",
      "27            31.0  592440.310954   283\n",
      "28            32.0  553755.220065   309\n",
      "29            33.0  486052.130435   230\n",
      "..             ...            ...   ...\n",
      "86            90.0  575506.727273   110\n",
      "87            91.0  613140.474138   116\n",
      "88            92.0  642765.738318   107\n",
      "89            93.0  612515.292683   164\n",
      "90            94.0  599531.543624   149\n",
      "91            95.0  549586.470588   119\n",
      "92            96.0  619418.472973    74\n",
      "93            97.0  583373.298701    77\n",
      "94            98.0  606465.797101    69\n",
      "95            99.0  468411.147727    88\n",
      "96           100.0  508795.958904    73\n",
      "97           101.0  451782.009346   107\n",
      "98           102.0  489982.352941    51\n",
      "99           103.0  596786.450704    71\n",
      "100          104.0  550404.962264    53\n",
      "101          105.0  589317.511111    45\n",
      "102          106.0  590718.571429    49\n",
      "103          107.0  601810.923077    65\n",
      "104          108.0  618094.915254    59\n",
      "105          109.0  600009.282051   117\n",
      "106          110.0  668385.320513    78\n",
      "107          111.0  527990.097222    72\n",
      "108          112.0  632963.549020    51\n",
      "109          113.0  648304.107143    84\n",
      "110          114.0  712111.771930    57\n",
      "111          115.0  586155.102564    39\n",
      "112          116.0  496036.925000    40\n",
      "113          117.0  648488.000000    25\n",
      "114          118.0  545933.642857    28\n",
      "115          119.0  575054.220588    68\n",
      "\n",
      "[116 rows x 3 columns]\n",
      "<class 'pandas.core.indexes.multi.MultiIndex'>\n",
      "MultiIndex(levels=[['price', 'last_renovated'], ['mean', 'count', '']],\n",
      "           codes=[[1, 0, 0], [2, 0, 1]])\n",
      "   last_renovated_     price_mean  price_count\n",
      "0              4.0  729876.592593           54\n",
      "1              5.0  679632.184615          650\n",
      "2              6.0  676387.336134          238\n",
      "3              7.0  533387.000000          181\n",
      "4              8.0  550246.923077          143\n"
     ]
    },
    {
     "data": {
      "text/plain": [
       "<matplotlib.axes._subplots.AxesSubplot at 0x1162bd9e8>"
      ]
     },
     "execution_count": 98,
     "metadata": {},
     "output_type": "execute_result"
    },
    {
     "data": {
      "image/png": "[encoded data removed]",
      "text/plain": [
       "<Figure size 432x288 with 1 Axes>"
      ]
     },
     "metadata": {},
     "output_type": "display_data"
    }
   ],
   "source": [
    "grouped_reno=train.groupby(by='last_renovated',as_index=False).agg({'price':['mean','count']})\n",
    "\n",
    "#grouped_reno.columns=grouped_reno.columns.droplevel(level=1)\n",
    "#grouped_reno.rename(columns={'price':'mean','price':'count'},inplace=True)\n",
    "print (grouped_reno)\n",
    "print (type(grouped_reno.columns))\n",
    "print ((grouped_reno.columns))\n",
    "grouped_reno.columns = grouped_reno.columns.map('_'.join)\n",
    "\n",
    "print (grouped_reno.head())\n",
    "import matplotlib.pyplot as plt\n",
    "grouped_reno[grouped_reno.last_renovated_<300].plot(kind='line',x='last_renovated_',y='price_mean',color='red')"
   ]
  },
  {
   "cell_type": "code",
   "execution_count": 99,
   "metadata": {},
   "outputs": [
    {
     "name": "stdout",
     "output_type": "stream",
     "text": [
      "0        98178\n",
      "1        98125\n",
      "2        98028\n",
      "3        98136\n",
      "4        98074\n",
      "5        98053\n",
      "6        98003\n",
      "7        98198\n",
      "8        98146\n",
      "9        98038\n",
      "10       98007\n",
      "11       98115\n",
      "12       98028\n",
      "13       98074\n",
      "14       98107\n",
      "15       98126\n",
      "16       98019\n",
      "17       98103\n",
      "18       98002\n",
      "19       98003\n",
      "20       98133\n",
      "21       98040\n",
      "22       98092\n",
      "23       98030\n",
      "24       98030\n",
      "25       98002\n",
      "26       98119\n",
      "27       98112\n",
      "28       98115\n",
      "29       98052\n",
      "         ...  \n",
      "21583    98102\n",
      "21584    98116\n",
      "21585    98042\n",
      "21586    98107\n",
      "21587    98125\n",
      "21588    98117\n",
      "21589    98038\n",
      "21590    98074\n",
      "21591    98178\n",
      "21592    98103\n",
      "21593    98056\n",
      "21594    98042\n",
      "21595    98103\n",
      "21596    98059\n",
      "21597    98040\n",
      "21598    98001\n",
      "21599    98053\n",
      "21600    98004\n",
      "21601    98125\n",
      "21602    98010\n",
      "21603    98065\n",
      "21604    98144\n",
      "21605    98056\n",
      "21606    98136\n",
      "21607    98116\n",
      "21608    98103\n",
      "21609    98146\n",
      "21610    98144\n",
      "21611    98027\n",
      "21612    98144\n",
      "Name: zipcode, Length: 21613, dtype: int64\n"
     ]
    }
   ],
   "source": [
    "print (train['zipcode'])"
   ]
  },
  {
   "cell_type": "code",
   "execution_count": 100,
   "metadata": {},
   "outputs": [
    {
     "name": "stdout",
     "output_type": "stream",
     "text": [
      "    zipcode  price_zip_mean\n",
      "0     98001    2.808047e+05\n",
      "1     98002    2.342840e+05\n",
      "2     98003    2.941113e+05\n",
      "3     98004    1.355927e+06\n",
      "4     98005    8.101649e+05\n",
      "5     98006    8.596848e+05\n",
      "6     98007    6.171051e+05\n",
      "7     98008    6.455074e+05\n",
      "8     98010    4.236660e+05\n",
      "9     98011    4.903515e+05\n",
      "10    98014    4.556171e+05\n",
      "11    98019    4.247887e+05\n",
      "12    98022    3.157093e+05\n",
      "13    98023    2.867328e+05\n",
      "14    98024    5.805268e+05\n",
      "15    98027    6.169906e+05\n",
      "16    98028    4.624800e+05\n",
      "17    98029    6.126536e+05\n",
      "18    98030    2.961880e+05\n",
      "19    98031    3.005399e+05\n",
      "20    98032    2.512962e+05\n",
      "21    98033    8.037195e+05\n",
      "22    98034    5.216529e+05\n",
      "23    98038    3.668676e+05\n",
      "24    98039    2.160607e+06\n",
      "25    98040    1.194230e+06\n",
      "26    98042    3.116321e+05\n",
      "27    98045    4.394711e+05\n",
      "28    98052    6.452315e+05\n",
      "29    98053    6.781631e+05\n",
      "..      ...             ...\n",
      "40    98092    3.349211e+05\n",
      "41    98102    9.012583e+05\n",
      "42    98103    5.849192e+05\n",
      "43    98105    8.628252e+05\n",
      "44    98106    3.195814e+05\n",
      "45    98107    5.790534e+05\n",
      "46    98108    3.556785e+05\n",
      "47    98109    8.796236e+05\n",
      "48    98112    1.095499e+06\n",
      "49    98115    6.199005e+05\n",
      "50    98116    6.186342e+05\n",
      "51    98117    5.767950e+05\n",
      "52    98118    4.176374e+05\n",
      "53    98119    8.494480e+05\n",
      "54    98122    6.343602e+05\n",
      "55    98125    4.694558e+05\n",
      "56    98126    4.247064e+05\n",
      "57    98133    3.869974e+05\n",
      "58    98136    5.516887e+05\n",
      "59    98144    5.945477e+05\n",
      "60    98146    3.594832e+05\n",
      "61    98148    2.849086e+05\n",
      "62    98155    4.237257e+05\n",
      "63    98166    4.642318e+05\n",
      "64    98168    2.403284e+05\n",
      "65    98177    6.761854e+05\n",
      "66    98178    3.106128e+05\n",
      "67    98188    2.890783e+05\n",
      "68    98198    3.028789e+05\n",
      "69    98199    7.918208e+05\n",
      "\n",
      "[70 rows x 2 columns]\n"
     ]
    }
   ],
   "source": [
    "train_zip= (train.groupby(by='zipcode',as_index=False).agg({'price':'mean'}))\n",
    "train_zip.rename(columns={'price':'price_zip_mean'},inplace=True)\n",
    "print (train_zip)"
   ]
  },
  {
   "cell_type": "code",
   "execution_count": 101,
   "metadata": {},
   "outputs": [],
   "source": [
    "#using the average of the price by zipcode as the feature instead of zipcode\n",
    "train = pd.merge(train, train_zip, on='zipcode')"
   ]
  },
  {
   "cell_type": "code",
   "execution_count": 102,
   "metadata": {},
   "outputs": [
    {
     "name": "stdout",
     "output_type": "stream",
     "text": [
      "       zipcode  price_zip_mean\n",
      "0        98178    3.106128e+05\n",
      "1        98178    3.106128e+05\n",
      "2        98178    3.106128e+05\n",
      "3        98178    3.106128e+05\n",
      "4        98178    3.106128e+05\n",
      "5        98178    3.106128e+05\n",
      "6        98178    3.106128e+05\n",
      "7        98178    3.106128e+05\n",
      "8        98178    3.106128e+05\n",
      "9        98178    3.106128e+05\n",
      "10       98178    3.106128e+05\n",
      "11       98178    3.106128e+05\n",
      "12       98178    3.106128e+05\n",
      "13       98178    3.106128e+05\n",
      "14       98178    3.106128e+05\n",
      "15       98178    3.106128e+05\n",
      "16       98178    3.106128e+05\n",
      "17       98178    3.106128e+05\n",
      "18       98178    3.106128e+05\n",
      "19       98178    3.106128e+05\n",
      "20       98178    3.106128e+05\n",
      "21       98178    3.106128e+05\n",
      "22       98178    3.106128e+05\n",
      "23       98178    3.106128e+05\n",
      "24       98178    3.106128e+05\n",
      "25       98178    3.106128e+05\n",
      "26       98178    3.106128e+05\n",
      "27       98178    3.106128e+05\n",
      "28       98178    3.106128e+05\n",
      "29       98178    3.106128e+05\n",
      "...        ...             ...\n",
      "21583    98039    2.160607e+06\n",
      "21584    98039    2.160607e+06\n",
      "21585    98039    2.160607e+06\n",
      "21586    98039    2.160607e+06\n",
      "21587    98039    2.160607e+06\n",
      "21588    98039    2.160607e+06\n",
      "21589    98039    2.160607e+06\n",
      "21590    98039    2.160607e+06\n",
      "21591    98039    2.160607e+06\n",
      "21592    98039    2.160607e+06\n",
      "21593    98039    2.160607e+06\n",
      "21594    98039    2.160607e+06\n",
      "21595    98039    2.160607e+06\n",
      "21596    98039    2.160607e+06\n",
      "21597    98039    2.160607e+06\n",
      "21598    98039    2.160607e+06\n",
      "21599    98039    2.160607e+06\n",
      "21600    98039    2.160607e+06\n",
      "21601    98039    2.160607e+06\n",
      "21602    98039    2.160607e+06\n",
      "21603    98039    2.160607e+06\n",
      "21604    98039    2.160607e+06\n",
      "21605    98039    2.160607e+06\n",
      "21606    98039    2.160607e+06\n",
      "21607    98039    2.160607e+06\n",
      "21608    98039    2.160607e+06\n",
      "21609    98039    2.160607e+06\n",
      "21610    98039    2.160607e+06\n",
      "21611    98039    2.160607e+06\n",
      "21612    98039    2.160607e+06\n",
      "\n",
      "[21613 rows x 2 columns]\n"
     ]
    }
   ],
   "source": [
    "print (train[['zipcode','price_zip_mean']])"
   ]
  },
  {
   "cell_type": "code",
   "execution_count": 103,
   "metadata": {},
   "outputs": [
    {
     "name": "stdout",
     "output_type": "stream",
     "text": [
      "           id             date     price  bedrooms  bathrooms  sqft_living  \\\n",
      "0  7129300520  20141013T000000  221900.0         3       1.00         1180   \n",
      "1  4060000240  20140623T000000  205425.0         2       1.00          880   \n",
      "2  4058801670  20140717T000000  445000.0         3       2.25         2100   \n",
      "3  2976800796  20140925T000000  236000.0         3       1.00         1300   \n",
      "4  6874200960  20150227T000000  170000.0         2       1.00          860   \n",
      "\n",
      "   sqft_lot  floors  waterfront  view  ...  view_1  view_2  view_3  view_4  \\\n",
      "0      5650     1.0           0     0  ...       0       0       0       0   \n",
      "1      6780     1.0           0     0  ...       0       0       0       0   \n",
      "2      8201     1.0           0     2  ...       0       1       0       0   \n",
      "3      5898     1.0           0     0  ...       0       0       0       0   \n",
      "4      5265     1.0           0     0  ...       0       0       0       0   \n",
      "\n",
      "   No_basement  total_sq_feet_without_lot  years_old  renovated  \\\n",
      "0            1                       2360         64          0   \n",
      "1            1                       1760         74          0   \n",
      "2            0                       4200         52          0   \n",
      "3            1                       2600         58          0   \n",
      "4            1                       1720         88          0   \n",
      "\n",
      "   last_renovated  price_zip_mean  \n",
      "0            64.0   310612.755725  \n",
      "1            74.0   310612.755725  \n",
      "2            52.0   310612.755725  \n",
      "3            58.0   310612.755725  \n",
      "4            88.0   310612.755725  \n",
      "\n",
      "[5 rows x 37 columns]\n"
     ]
    }
   ],
   "source": [
    "print (train.head())"
   ]
  },
  {
   "cell_type": "code",
   "execution_count": 158,
   "metadata": {},
   "outputs": [
    {
     "name": "stdout",
     "output_type": "stream",
     "text": [
      "<class 'pandas.core.frame.DataFrame'>\n",
      "Int64Index: 21613 entries, 0 to 21612\n",
      "Data columns (total 49 columns):\n",
      "id                           21613 non-null int64\n",
      "date                         21613 non-null object\n",
      "price                        21613 non-null float64\n",
      "bedrooms                     21613 non-null int64\n",
      "bathrooms                    21613 non-null float64\n",
      "sqft_living                  21613 non-null int64\n",
      "sqft_lot                     21613 non-null int64\n",
      "floors                       21613 non-null float64\n",
      "waterfront                   21613 non-null int64\n",
      "view                         21613 non-null int64\n",
      "condition                    21613 non-null int64\n",
      "grade                        21613 non-null int64\n",
      "sqft_above                   21613 non-null int64\n",
      "sqft_basement                21613 non-null int64\n",
      "yr_built                     21613 non-null int64\n",
      "yr_renovated                 21613 non-null int64\n",
      "zipcode                      21613 non-null int64\n",
      "lat                          21613 non-null float64\n",
      "long                         21613 non-null float64\n",
      "sqft_living15                21613 non-null int64\n",
      "sqft_lot15                   21613 non-null int64\n",
      "condition_1                  21613 non-null uint8\n",
      "condition_2                  21613 non-null uint8\n",
      "condition_3                  21613 non-null uint8\n",
      "condition_4                  21613 non-null uint8\n",
      "condition_5                  21613 non-null uint8\n",
      "view_0                       21613 non-null uint8\n",
      "view_1                       21613 non-null uint8\n",
      "view_2                       21613 non-null uint8\n",
      "view_3                       21613 non-null uint8\n",
      "view_4                       21613 non-null uint8\n",
      "No_basement                  21613 non-null int64\n",
      "total_sq_feet_without_lot    21613 non-null int64\n",
      "years_old                    21613 non-null int64\n",
      "renovated                    21613 non-null int64\n",
      "last_renovated               21613 non-null float64\n",
      "price_zip_mean               21613 non-null float64\n",
      "grade_1                      21613 non-null uint8\n",
      "grade_3                      21613 non-null uint8\n",
      "grade_4                      21613 non-null uint8\n",
      "grade_5                      21613 non-null uint8\n",
      "grade_6                      21613 non-null uint8\n",
      "grade_7                      21613 non-null uint8\n",
      "grade_8                      21613 non-null uint8\n",
      "grade_9                      21613 non-null uint8\n",
      "grade_10                     21613 non-null uint8\n",
      "grade_11                     21613 non-null uint8\n",
      "grade_12                     21613 non-null uint8\n",
      "grade_13                     21613 non-null uint8\n",
      "dtypes: float64(7), int64(19), object(1), uint8(22)\n",
      "memory usage: 5.1+ MB\n",
      "None\n"
     ]
    }
   ],
   "source": [
    "print (train.info())"
   ]
  },
  {
   "cell_type": "code",
   "execution_count": 165,
   "metadata": {},
   "outputs": [
    {
     "name": "stdout",
     "output_type": "stream",
     "text": [
      "0.8496462631985671\n",
      "0.8496462631985671\n"
     ]
    }
   ],
   "source": [
    "from sklearn.model_selection import train_test_split\n",
    "features=['bedrooms','bathrooms','sqft_living','floors','waterfront','view_0','view_1'\n",
    "         ,'view_2','view_3','view_4','condition_1','condition_2','condition_3','condition_4'\n",
    "         ,'condition_5','sqft_basement','No_basement','total_sq_feet_without_lot'\n",
    "         ,'years_old','renovated','last_renovated','price_zip_mean',\n",
    "          #'grade_1','grade_3','grade_4','grade_5','grade_6','grade_7','grade_8','grade_9',\n",
    "         #'grade_10','grade_11','grade_12','grade_13'\n",
    "         'grade']\n",
    "\n",
    "X_train, X_test, y_train, y_test = train_test_split(train[features]\n",
    "                                                    , train['price'], \n",
    "                                                    test_size=0.20, random_state=42)\n",
    "\n",
    "from sklearn.ensemble import RandomForestRegressor\n",
    "regr = RandomForestRegressor(max_depth=8, random_state=0,\n",
    "                             n_estimators=100)\n",
    "regr.fit(X_train,y_train)\n",
    "pred= regr.predict(X_test)\n",
    "print (regr.score(X_test, y_test))\n",
    "\n",
    "from sklearn.metrics import r2_score\n",
    "print (r2_score(y_test, pred))"
   ]
  },
  {
   "cell_type": "code",
   "execution_count": 133,
   "metadata": {},
   "outputs": [
    {
     "data": {
      "image/png": "[encoded data removed]",
      "text/plain": [
       "<Figure size 432x288 with 1 Axes>"
      ]
     },
     "metadata": {},
     "output_type": "display_data"
    }
   ],
   "source": [
    "fig, ax = plt.subplots()\n",
    "ax.scatter(y_test, pred)\n",
    "#ax.plot([y_test.min(), y_test.max()], [y_test.min(), y_test.max()], 'k--', lw=4)\n",
    "ax.set_xlabel('Measured')\n",
    "ax.set_ylabel('Predicted')\n",
    "plt.show()"
   ]
  },
  {
   "cell_type": "code",
   "execution_count": 109,
   "metadata": {},
   "outputs": [
    {
     "name": "stdout",
     "output_type": "stream",
     "text": [
      "[-2.99463061e+04  3.58726729e+04  3.44931933e+01  1.42145794e+03\n",
      "  4.97701927e+05 -1.28693772e+05 -4.76712062e+04 -6.27828441e+04\n",
      "  2.56100111e+04  2.13537811e+05 -4.79711787e+04 -3.17897467e+03\n",
      "  3.75277900e+03  7.95561602e+02  4.66018127e+04  6.31899305e+04\n",
      " -2.90804935e+01  1.78702397e+03  6.89863865e+01  2.22492051e+03\n",
      "  6.68098887e+03 -1.32084681e+02  6.35402882e-01]\n"
     ]
    }
   ],
   "source": [
    "print (reg.coef_)"
   ]
  },
  {
   "cell_type": "code",
   "execution_count": 166,
   "metadata": {},
   "outputs": [
    {
     "data": {
      "image/png": "[encoded data removed]",
      "text/plain": [
       "<Figure size 432x288 with 1 Axes>"
      ]
     },
     "metadata": {},
     "output_type": "display_data"
    }
   ],
   "source": [
    "features = features\n",
    "importances = regr.feature_importances_\n",
    "indices = np.argsort(importances)\n",
    "\n",
    "plt.title('Feature Importances')\n",
    "plt.barh(range(len(indices)), importances[indices], color='b', align='center')\n",
    "plt.yticks(range(len(indices)), [features[i] for i in indices])\n",
    "plt.xlabel('Relative Importance')\n",
    "plt.show()"
   ]
  },
  {
   "cell_type": "code",
   "execution_count": 143,
   "metadata": {},
   "outputs": [
    {
     "data": {
      "text/plain": [
       "array([738333.28368449, 383800.89601376, 575331.18417681, ...,\n",
       "       335000.        , 280000.        , 230000.        ])"
      ]
     },
     "execution_count": 143,
     "metadata": {},
     "output_type": "execute_result"
    }
   ],
   "source": [
    "np.concatenate((pred, y_test), axis=0)"
   ]
  },
  {
   "cell_type": "code",
   "execution_count": 149,
   "metadata": {},
   "outputs": [
    {
     "name": "stdout",
     "output_type": "stream",
     "text": [
      "4323\n",
      "4323\n"
     ]
    }
   ],
   "source": [
    "print (len(list(pred)))\n",
    "print (len(list(y_test)))"
   ]
  },
  {
   "cell_type": "code",
   "execution_count": 152,
   "metadata": {},
   "outputs": [
    {
     "name": "stdout",
     "output_type": "stream",
     "text": [
      "      total_sq_feet_without_lot         price\n",
      "0                           580  1.420000e+05\n",
      "1                           740  2.760000e+05\n",
      "2                           760  2.450000e+05\n",
      "3                           768  2.650000e+05\n",
      "4                           780  2.365000e+05\n",
      "5                           820  3.250000e+05\n",
      "6                           840  2.545250e+05\n",
      "7                           860  8.000000e+04\n",
      "8                           880  2.900000e+05\n",
      "9                           920  2.470000e+05\n",
      "10                          940  1.742500e+05\n",
      "11                          960  1.575000e+05\n",
      "12                          980  1.500000e+05\n",
      "13                         1000  1.250000e+05\n",
      "14                         1040  2.590833e+05\n",
      "15                         1060  3.310000e+05\n",
      "16                         1080  3.850000e+05\n",
      "17                         1100  2.365000e+05\n",
      "18                         1120  1.862250e+05\n",
      "19                         1140  2.199833e+05\n",
      "20                         1160  2.129200e+05\n",
      "21                         1180  2.396000e+05\n",
      "22                         1200  1.734286e+05\n",
      "23                         1220  2.815500e+05\n",
      "24                         1240  2.828990e+05\n",
      "25                         1260  2.958000e+05\n",
      "26                         1280  2.640400e+05\n",
      "27                         1300  2.180000e+05\n",
      "28                         1320  2.270750e+05\n",
      "29                         1340  2.532180e+05\n",
      "...                         ...           ...\n",
      "1008                      13960  3.100000e+06\n",
      "1009                      14000  3.200000e+06\n",
      "1010                      14100  3.800000e+06\n",
      "1011                      14160  4.000000e+06\n",
      "1012                      14200  3.200000e+06\n",
      "1013                      14240  9.000000e+05\n",
      "1014                      14440  1.940000e+06\n",
      "1015                      14540  2.238890e+06\n",
      "1016                      14640  1.135250e+06\n",
      "1017                      14700  1.110000e+06\n",
      "1018                      14780  5.300000e+06\n",
      "1019                      14800  2.983000e+06\n",
      "1020                      14840  1.950000e+06\n",
      "1021                      14880  4.208000e+06\n",
      "1022                      14960  8.000000e+05\n",
      "1023                      15240  1.680000e+06\n",
      "1024                      15420  3.300000e+06\n",
      "1025                      15460  1.920000e+06\n",
      "1026                      15700  2.700000e+06\n",
      "1027                      15760  2.415000e+06\n",
      "1028                      16000  5.350000e+06\n",
      "1029                      16020  5.110800e+06\n",
      "1030                      16040  3.300000e+06\n",
      "1031                      17340  2.888000e+06\n",
      "1032                      18400  5.570000e+06\n",
      "1033                      19280  4.668000e+06\n",
      "1034                      19780  6.885000e+06\n",
      "1035                      20080  7.062500e+06\n",
      "1036                      24100  7.700000e+06\n",
      "1037                      27080  2.280000e+06\n",
      "\n",
      "[1038 rows x 2 columns]\n"
     ]
    },
    {
     "data": {
      "text/plain": [
       "<matplotlib.axes._subplots.AxesSubplot at 0x11920ca20>"
      ]
     },
     "execution_count": 152,
     "metadata": {},
     "output_type": "execute_result"
    },
    {
     "data": {
      "image/png": "[encoded data removed]",
      "text/plain": [
       "<Figure size 432x288 with 1 Axes>"
      ]
     },
     "metadata": {},
     "output_type": "display_data"
    }
   ],
   "source": [
    "area_price=train.groupby(by='total_sq_feet_without_lot',as_index=False).agg({'price':'mean'})\n",
    "print (area_price)\n",
    "area_price.plot(kind='line',x='total_sq_feet_without_lot',y='price',color='red')"
   ]
  },
  {
   "cell_type": "code",
   "execution_count": null,
   "metadata": {},
   "outputs": [],
   "source": []
  }
 ],
 "metadata": {
  "kernelspec": {
   "display_name": "Python 3",
   "language": "python",
   "name": "python3"
  },
  "language_info": {
   "codemirror_mode": {
    "name": "ipython",
    "version": 3
   },
   "file_extension": ".py",
   "mimetype": "text/x-python",
   "name": "python",
   "nbconvert_exporter": "python",
   "pygments_lexer": "ipython3",
   "version": "3.6.8"
  }
 },
 "nbformat": 4,
 "nbformat_minor": 2
}

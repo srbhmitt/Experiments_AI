{
 "cells": [
  {
   "cell_type": "markdown",
   "metadata": {},
   "source": [
    "In this notebook, I am going to explore the PCA algorithm. The main motivation of using this algorithm is for dimensionality reduction. In this notebook, I will be using the IRIS dataset which has 4 dimensions and we will use PCA to reduce it's dimensions. The main items we will be focusing on are:\n",
    "Hyperparameters, \n",
    "Loading scores, \n",
    "Scree plot.\n",
    "\n",
    "In theory what the PCA algorithm does is- it tries to find the axis which minimizes the projection error or maximize the distance of the projected points from the origin\n",
    "\n",
    "Technically there is a PC for each variable in the dataset but fewer samples than the number of variables put an upper bound on the PCs\n",
    "\n",
    "The PC1 explains the most variation in the dataset, then PC2 etc. Scree plot can be used to see the distribution\n",
    "\n",
    "The formula for variance is :\n",
    "lets say for PC1 the sum of square of distance of projections from origin/(n-1) is 15\n",
    "and this valus is 3 for PC2\n",
    "Then PC1 explains 15/18 (83%) of the variation in the data"
   ]
  },
  {
   "cell_type": "code",
   "execution_count": 9,
   "metadata": {},
   "outputs": [],
   "source": [
    "import pandas as pd\n",
    "import matplotlib.pyplot as plt\n",
    "%matplotlib inline\n",
    "url = \"https://archive.ics.uci.edu/ml/machine-learning-databases/iris/iris.data\"\n",
    "# load dataset into Pandas DataFrame\n",
    "df = pd.read_csv(url, names=['sepal length','sepal width','petal length','petal width','target'])"
   ]
  },
  {
   "cell_type": "code",
   "execution_count": 10,
   "metadata": {},
   "outputs": [],
   "source": [
    "#For PCA we should first standardize the data. \n",
    "features = ['sepal length', 'sepal width', 'petal length', 'petal width']\n",
    "\n",
    "df[features] = (df[features] - df[features].mean())/df[features].std()"
   ]
  },
  {
   "cell_type": "code",
   "execution_count": 11,
   "metadata": {},
   "outputs": [
    {
     "name": "stdout",
     "output_type": "stream",
     "text": [
      "   sepal length  sepal width  petal length  petal width       target\n",
      "0     -0.897674     1.028611     -1.336794    -1.308593  Iris-setosa\n",
      "1     -1.139200    -0.124540     -1.336794    -1.308593  Iris-setosa\n",
      "2     -1.380727     0.336720     -1.393470    -1.308593  Iris-setosa\n",
      "3     -1.501490     0.106090     -1.280118    -1.308593  Iris-setosa\n",
      "4     -1.018437     1.259242     -1.336794    -1.308593  Iris-setosa\n"
     ]
    }
   ],
   "source": [
    "# Separating out the features\n",
    "x = df.loc[:, features].values\n",
    "\n",
    "\n",
    "# Separating out the target\n",
    "y = df.loc[:,['target']].values\n",
    "\n",
    "print (df.head())"
   ]
  },
  {
   "cell_type": "code",
   "execution_count": 12,
   "metadata": {},
   "outputs": [],
   "source": [
    "#Now let's use PCA for dimensionality reduction\n",
    "\n",
    "from sklearn.decomposition import PCA\n",
    "pca = PCA(n_components=2) #here we can either specify how many PCs we want or we can specify a % here which \n",
    "#says that we want the min number of PCs which explain that much % of variance\n",
    "principalComponents = pca.fit_transform(x)\n",
    "principalDf = pd.DataFrame(data = principalComponents\n",
    "             , columns = ['principal component 1', 'principal component 2'])"
   ]
  },
  {
   "cell_type": "code",
   "execution_count": 13,
   "metadata": {},
   "outputs": [],
   "source": [
    "finalDf = pd.concat([principalDf, df[['target']]], axis = 1)\n"
   ]
  },
  {
   "cell_type": "code",
   "execution_count": 14,
   "metadata": {},
   "outputs": [
    {
     "data": {
      "image/png": "[encoded data removed]",
      "text/plain": [
       "<Figure size 576x576 with 1 Axes>"
      ]
     },
     "metadata": {},
     "output_type": "display_data"
    }
   ],
   "source": [
    "fig = plt.figure(figsize = (8,8))\n",
    "ax = fig.add_subplot(1,1,1) \n",
    "ax.set_xlabel('Principal Component 1', fontsize = 15)\n",
    "ax.set_ylabel('Principal Component 2', fontsize = 15)\n",
    "ax.set_title('2 component PCA', fontsize = 20)\n",
    "targets = ['Iris-setosa', 'Iris-versicolor', 'Iris-virginica']\n",
    "colors = ['r', 'g', 'b']\n",
    "for target, color in zip(targets,colors):\n",
    "    indicesToKeep = finalDf['target'] == target\n",
    "    ax.scatter(finalDf.loc[indicesToKeep, 'principal component 1']\n",
    "               , finalDf.loc[indicesToKeep, 'principal component 2']\n",
    "               , c = color\n",
    "               , s = 50)\n",
    "ax.legend(targets)\n",
    "ax.grid()"
   ]
  },
  {
   "cell_type": "code",
   "execution_count": 15,
   "metadata": {},
   "outputs": [
    {
     "name": "stdout",
     "output_type": "stream",
     "text": [
      "[0.72770452 0.23030523]\n"
     ]
    }
   ],
   "source": [
    "print (pca.explained_variance_ratio_)\n",
    "#So here PC1 explains 72% variance, PC2 explains 23% and rest 5% variance is explained by PC3 and PC4"
   ]
  },
  {
   "cell_type": "code",
   "execution_count": 16,
   "metadata": {},
   "outputs": [
    {
     "name": "stdout",
     "output_type": "stream",
     "text": [
      "[[ 0.52237162 -0.26335492  0.58125401  0.56561105]\n",
      " [ 0.37231836  0.92555649  0.02109478  0.06541577]]\n"
     ]
    }
   ],
   "source": [
    "# we can also get the loading scores which tell us how much each variable contibute in the make up of PC1,PC2 etc.\n",
    "print (pca.components_)\n"
   ]
  },
  {
   "cell_type": "code",
   "execution_count": null,
   "metadata": {},
   "outputs": [],
   "source": []
  }
 ],
 "metadata": {
  "kernelspec": {
   "display_name": "Python 3",
   "language": "python",
   "name": "python3"
  },
  "language_info": {
   "codemirror_mode": {
    "name": "ipython",
    "version": 3
   },
   "file_extension": ".py",
   "mimetype": "text/x-python",
   "name": "python",
   "nbconvert_exporter": "python",
   "pygments_lexer": "ipython3",
   "version": "3.6.8"
  }
 },
 "nbformat": 4,
 "nbformat_minor": 2
}

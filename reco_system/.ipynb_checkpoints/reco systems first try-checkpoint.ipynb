{
 "cells": [
  {
   "cell_type": "code",
   "execution_count": 36,
   "metadata": {},
   "outputs": [],
   "source": [
    "import pandas as pd\n",
    "%matplotlib inline\n",
    "import matplotlib\n",
    "import matplotlib.pyplot as plt\n",
    "import numpy as np\n",
    "\n",
    "# pass in column names for each CSV as the column name is not given in the file and read them using pandas.\n",
    "# You can check the column names from the readme file\n",
    "\n",
    "#Reading users file:\n",
    "u_cols = ['user_id', 'age', 'sex', 'occupation', 'zip_code']\n",
    "users = pd.read_csv('ml-100k/u.user', sep='|', names=u_cols,encoding='latin-1')\n",
    "\n",
    "#Reading ratings file:\n",
    "r_cols = ['user_id', 'movie_id', 'rating', 'unix_timestamp']\n",
    "ratings = pd.read_csv('ml-100k/u.data', sep='\\t', names=r_cols,encoding='latin-1')\n",
    "\n",
    "#Reading items file:\n",
    "i_cols = ['movie id', 'movie title' ,'release date','video release date', 'IMDb URL', 'unknown', 'Action', 'Adventure',\n",
    "'Animation', 'Children\\'s', 'Comedy', 'Crime', 'Documentary', 'Drama', 'Fantasy',\n",
    "'Film-Noir', 'Horror', 'Musical', 'Mystery', 'Romance', 'Sci-Fi', 'Thriller', 'War', 'Western']\n",
    "items = pd.read_csv('ml-100k/u.item', sep='|', names=i_cols,\n",
    "encoding='latin-1')"
   ]
  },
  {
   "cell_type": "code",
   "execution_count": 37,
   "metadata": {},
   "outputs": [
    {
     "name": "stdout",
     "output_type": "stream",
     "text": [
      "   user_id  age sex  occupation zip_code\n",
      "0        1   24   M  technician    85711\n",
      "1        2   53   F       other    94043\n",
      "2        3   23   M      writer    32067\n",
      "3        4   24   M  technician    43537\n",
      "4        5   33   F       other    15213\n",
      "(943, 5)\n"
     ]
    }
   ],
   "source": [
    "print (users.head())\n",
    "print (users.shape)"
   ]
  },
  {
   "cell_type": "code",
   "execution_count": 38,
   "metadata": {},
   "outputs": [
    {
     "name": "stdout",
     "output_type": "stream",
     "text": [
      "   user_id  movie_id  rating  unix_timestamp\n",
      "0      196       242       3       881250949\n",
      "1      186       302       3       891717742\n",
      "2       22       377       1       878887116\n",
      "3      244        51       2       880606923\n",
      "4      166       346       1       886397596\n",
      "(100000, 4)\n",
      "943\n",
      "20\n",
      "737\n"
     ]
    }
   ],
   "source": [
    "print (ratings.head())\n",
    "print (ratings.shape)\n",
    "print (ratings.user_id.nunique())\n",
    "print (ratings.user_id.value_counts().min())\n",
    "print (ratings.user_id.value_counts().max())"
   ]
  },
  {
   "cell_type": "code",
   "execution_count": 39,
   "metadata": {},
   "outputs": [
    {
     "name": "stdout",
     "output_type": "stream",
     "text": [
      "   movie id        movie title release date  video release date  \\\n",
      "0         1   Toy Story (1995)  01-Jan-1995                 NaN   \n",
      "1         2   GoldenEye (1995)  01-Jan-1995                 NaN   \n",
      "2         3  Four Rooms (1995)  01-Jan-1995                 NaN   \n",
      "3         4  Get Shorty (1995)  01-Jan-1995                 NaN   \n",
      "4         5     Copycat (1995)  01-Jan-1995                 NaN   \n",
      "\n",
      "                                            IMDb URL  unknown  Action  \\\n",
      "0  http://us.imdb.com/M/title-exact?Toy%20Story%2...        0       0   \n",
      "1  http://us.imdb.com/M/title-exact?GoldenEye%20(...        0       1   \n",
      "2  http://us.imdb.com/M/title-exact?Four%20Rooms%...        0       0   \n",
      "3  http://us.imdb.com/M/title-exact?Get%20Shorty%...        0       1   \n",
      "4  http://us.imdb.com/M/title-exact?Copycat%20(1995)        0       0   \n",
      "\n",
      "   Adventure  Animation  Children's  ...  Fantasy  Film-Noir  Horror  Musical  \\\n",
      "0          0          1           1  ...        0          0       0        0   \n",
      "1          1          0           0  ...        0          0       0        0   \n",
      "2          0          0           0  ...        0          0       0        0   \n",
      "3          0          0           0  ...        0          0       0        0   \n",
      "4          0          0           0  ...        0          0       0        0   \n",
      "\n",
      "   Mystery  Romance  Sci-Fi  Thriller  War  Western  \n",
      "0        0        0       0         0    0        0  \n",
      "1        0        0       0         1    0        0  \n",
      "2        0        0       0         1    0        0  \n",
      "3        0        0       0         0    0        0  \n",
      "4        0        0       0         1    0        0  \n",
      "\n",
      "[5 rows x 24 columns]\n",
      "(1682, 24)\n",
      "Index(['movie id', 'movie title', 'release date', 'video release date',\n",
      "       'IMDb URL', 'unknown', 'Action', 'Adventure', 'Animation', 'Children's',\n",
      "       'Comedy', 'Crime', 'Documentary', 'Drama', 'Fantasy', 'Film-Noir',\n",
      "       'Horror', 'Musical', 'Mystery', 'Romance', 'Sci-Fi', 'Thriller', 'War',\n",
      "       'Western'],\n",
      "      dtype='object')\n"
     ]
    }
   ],
   "source": [
    "print (items.head())\n",
    "print (items.shape)\n",
    "print (items.columns)"
   ]
  },
  {
   "cell_type": "code",
   "execution_count": 40,
   "metadata": {},
   "outputs": [
    {
     "name": "stdout",
     "output_type": "stream",
     "text": [
      "(100000, 28)\n",
      "   user_id  movie_id  rating  unix_timestamp  movie id  \\\n",
      "0      196       242       3       881250949       242   \n",
      "1      186       302       3       891717742       302   \n",
      "2       22       377       1       878887116       377   \n",
      "3      244        51       2       880606923        51   \n",
      "4      166       346       1       886397596       346   \n",
      "\n",
      "                  movie title release date  video release date  \\\n",
      "0                Kolya (1996)  24-Jan-1997                 NaN   \n",
      "1    L.A. Confidential (1997)  01-Jan-1997                 NaN   \n",
      "2         Heavyweights (1994)  01-Jan-1994                 NaN   \n",
      "3  Legends of the Fall (1994)  01-Jan-1994                 NaN   \n",
      "4         Jackie Brown (1997)  01-Jan-1997                 NaN   \n",
      "\n",
      "                                            IMDb URL  unknown  ...  Fantasy  \\\n",
      "0    http://us.imdb.com/M/title-exact?Kolya%20(1996)        0  ...        0   \n",
      "1  http://us.imdb.com/M/title-exact?L%2EA%2E+Conf...        0  ...        0   \n",
      "2  http://us.imdb.com/M/title-exact?Heavyweights%...        0  ...        0   \n",
      "3  http://us.imdb.com/M/title-exact?Legends%20of%...        0  ...        0   \n",
      "4  http://us.imdb.com/M/title-exact?imdb-title-11...        0  ...        0   \n",
      "\n",
      "   Film-Noir  Horror  Musical  Mystery  Romance  Sci-Fi  Thriller  War  \\\n",
      "0          0       0        0        0        0       0         0    0   \n",
      "1          1       0        0        1        0       0         1    0   \n",
      "2          0       0        0        0        0       0         0    0   \n",
      "3          0       0        0        0        1       0         0    1   \n",
      "4          0       0        0        0        0       0         0    0   \n",
      "\n",
      "   Western  \n",
      "0        0  \n",
      "1        0  \n",
      "2        0  \n",
      "3        1  \n",
      "4        0  \n",
      "\n",
      "[5 rows x 28 columns]\n"
     ]
    }
   ],
   "source": [
    "#First we will content based filtering for recommending top 10 movies to a user.\n",
    "#Our function will take user_id as input and output \n",
    "#For this we will use the simplified cosine similarity where we will create a item vector\n",
    "#for each movie and a profile vector for user based on their previous likes and dislikes\n",
    "#We will then take cosine similarity between the profile and the item vector and recommend\n",
    "#the top 10 movies. Let's get started\n",
    "\n",
    "#Creating a profile vector for each user\n",
    "profile_df = pd.merge(ratings, items, left_on='movie_id', right_on='movie id', how='left')\n",
    "print (profile_df.shape)\n",
    "print (profile_df.head())"
   ]
  },
  {
   "cell_type": "code",
   "execution_count": 41,
   "metadata": {},
   "outputs": [
    {
     "name": "stdout",
     "output_type": "stream",
     "text": [
      "   Action  Adventure  Animation  Children's  Comedy  Crime  Documentary  \\\n",
      "0       0          0          0           0       3      0            0   \n",
      "1       0          0          0           0       0      3            0   \n",
      "2       0          0          0           1       1      0            0   \n",
      "3       0          0          0           0       0      0            0   \n",
      "4       0          0          0           0       0      1            0   \n",
      "\n",
      "   Drama  Fantasy  Film-Noir  Horror  Musical  Mystery  Romance  Sci-Fi  \\\n",
      "0      0        0          0       0        0        0        0       0   \n",
      "1      0        0          3       0        0        3        0       0   \n",
      "2      0        0          0       0        0        0        0       0   \n",
      "3      2        0          0       0        0        0        2       0   \n",
      "4      1        0          0       0        0        0        0       0   \n",
      "\n",
      "   Thriller  War  rating  \n",
      "0         0    0       9  \n",
      "1         3    0       9  \n",
      "2         0    0       1  \n",
      "3         0    2       4  \n",
      "4         0    0       1  \n"
     ]
    }
   ],
   "source": [
    "        \n",
    "def genre_multiply(x):\n",
    "    return x*x['rating']\n",
    "        \n",
    "profile_df_temp = profile_df[['Action', 'Adventure', 'Animation', \"Children's\",\n",
    "       'Comedy', 'Crime', 'Documentary', 'Drama', 'Fantasy', 'Film-Noir',\n",
    "       'Horror', 'Musical', 'Mystery', 'Romance', 'Sci-Fi', 'Thriller', 'War','rating']].apply(genre_multiply, axis=1)\n",
    "\n",
    "print (profile_df_temp.head())\n"
   ]
  },
  {
   "cell_type": "code",
   "execution_count": 44,
   "metadata": {},
   "outputs": [
    {
     "name": "stdout",
     "output_type": "stream",
     "text": [
      "Index(['user_id', 'movie_id', 'rating', 'unix_timestamp', 'movie id',\n",
      "       'movie title', 'release date', 'video release date', 'IMDb URL',\n",
      "       'unknown', 'Action', 'Adventure', 'Animation', 'Children's', 'Comedy',\n",
      "       'Crime', 'Documentary', 'Drama', 'Fantasy', 'Film-Noir', 'Horror',\n",
      "       'Musical', 'Mystery', 'Romance', 'Sci-Fi', 'Thriller', 'War', 'Western',\n",
      "       'Action', 'Adventure', 'Animation', 'Children's', 'Comedy', 'Crime',\n",
      "       'Documentary', 'Drama', 'Fantasy', 'Film-Noir', 'Horror', 'Musical',\n",
      "       'Mystery', 'Romance', 'Sci-Fi', 'Thriller', 'War', 'rating'],\n",
      "      dtype='object')\n"
     ]
    }
   ],
   "source": [
    "print (pd.concat([profile_df, profile_df_temp], axis=1).columns)"
   ]
  },
  {
   "cell_type": "code",
   "execution_count": null,
   "metadata": {},
   "outputs": [],
   "source": []
  }
 ],
 "metadata": {
  "kernelspec": {
   "display_name": "Python 3",
   "language": "python",
   "name": "python3"
  },
  "language_info": {
   "codemirror_mode": {
    "name": "ipython",
    "version": 3
   },
   "file_extension": ".py",
   "mimetype": "text/x-python",
   "name": "python",
   "nbconvert_exporter": "python",
   "pygments_lexer": "ipython3",
   "version": "3.6.8"
  }
 },
 "nbformat": 4,
 "nbformat_minor": 2
}

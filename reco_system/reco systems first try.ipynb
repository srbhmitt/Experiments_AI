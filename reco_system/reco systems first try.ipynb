{
 "cells": [
  {
   "cell_type": "code",
   "execution_count": 261,
   "metadata": {},
   "outputs": [],
   "source": [
    "import pandas as pd\n",
    "%matplotlib inline\n",
    "import matplotlib\n",
    "import matplotlib.pyplot as plt\n",
    "import numpy as np\n",
    "\n",
    "# pass in column names for each CSV as the column name is not given in the file and read them using pandas.\n",
    "# You can check the column names from the readme file\n",
    "\n",
    "#Reading users file:\n",
    "u_cols = ['user_id', 'age', 'sex', 'occupation', 'zip_code']\n",
    "users = pd.read_csv('ml-100k/u.user', sep='|', names=u_cols,encoding='latin-1')\n",
    "\n",
    "#Reading ratings file:\n",
    "r_cols = ['user_id', 'movie_id', 'rating', 'unix_timestamp']\n",
    "ratings = pd.read_csv('ml-100k/u.data', sep='\\t', names=r_cols,encoding='latin-1')\n",
    "\n",
    "#Reading items file:\n",
    "i_cols = ['movie id', 'movie title' ,'release date','video release date', 'IMDb URL', 'unknown', 'Action', 'Adventure',\n",
    "'Animation', 'Children\\'s', 'Comedy', 'Crime', 'Documentary', 'Drama', 'Fantasy',\n",
    "'Film-Noir', 'Horror', 'Musical', 'Mystery', 'Romance', 'Sci-Fi', 'Thriller', 'War', 'Western']\n",
    "items = pd.read_csv('ml-100k/u.item', sep='|', names=i_cols,\n",
    "encoding='latin-1')"
   ]
  },
  {
   "cell_type": "code",
   "execution_count": 262,
   "metadata": {},
   "outputs": [
    {
     "name": "stdout",
     "output_type": "stream",
     "text": [
      "   user_id  age sex  occupation zip_code\n",
      "0        1   24   M  technician    85711\n",
      "1        2   53   F       other    94043\n",
      "2        3   23   M      writer    32067\n",
      "3        4   24   M  technician    43537\n",
      "4        5   33   F       other    15213\n",
      "(943, 5)\n"
     ]
    }
   ],
   "source": [
    "print (users.head())\n",
    "print (users.shape)"
   ]
  },
  {
   "cell_type": "code",
   "execution_count": 263,
   "metadata": {},
   "outputs": [
    {
     "name": "stdout",
     "output_type": "stream",
     "text": [
      "   user_id  movie_id  rating  unix_timestamp\n",
      "0      196       242       3       881250949\n",
      "1      186       302       3       891717742\n",
      "2       22       377       1       878887116\n",
      "3      244        51       2       880606923\n",
      "4      166       346       1       886397596\n",
      "(100000, 4)\n",
      "943\n",
      "20\n",
      "737\n",
      "4    34174\n",
      "3    27145\n",
      "5    21201\n",
      "2    11370\n",
      "1     6110\n",
      "Name: rating, dtype: int64\n"
     ]
    }
   ],
   "source": [
    "print (ratings.head())\n",
    "print (ratings.shape)\n",
    "print (ratings.user_id.nunique())\n",
    "print (ratings.user_id.value_counts().min())\n",
    "print (ratings.user_id.value_counts().max())\n",
    "print (ratings.rating.value_counts())"
   ]
  },
  {
   "cell_type": "code",
   "execution_count": 264,
   "metadata": {},
   "outputs": [
    {
     "name": "stdout",
     "output_type": "stream",
     "text": [
      "   movie id        movie title release date  video release date  \\\n",
      "0         1   Toy Story (1995)  01-Jan-1995                 NaN   \n",
      "1         2   GoldenEye (1995)  01-Jan-1995                 NaN   \n",
      "2         3  Four Rooms (1995)  01-Jan-1995                 NaN   \n",
      "3         4  Get Shorty (1995)  01-Jan-1995                 NaN   \n",
      "4         5     Copycat (1995)  01-Jan-1995                 NaN   \n",
      "\n",
      "                                            IMDb URL  unknown  Action  \\\n",
      "0  http://us.imdb.com/M/title-exact?Toy%20Story%2...        0       0   \n",
      "1  http://us.imdb.com/M/title-exact?GoldenEye%20(...        0       1   \n",
      "2  http://us.imdb.com/M/title-exact?Four%20Rooms%...        0       0   \n",
      "3  http://us.imdb.com/M/title-exact?Get%20Shorty%...        0       1   \n",
      "4  http://us.imdb.com/M/title-exact?Copycat%20(1995)        0       0   \n",
      "\n",
      "   Adventure  Animation  Children's  ...  Fantasy  Film-Noir  Horror  Musical  \\\n",
      "0          0          1           1  ...        0          0       0        0   \n",
      "1          1          0           0  ...        0          0       0        0   \n",
      "2          0          0           0  ...        0          0       0        0   \n",
      "3          0          0           0  ...        0          0       0        0   \n",
      "4          0          0           0  ...        0          0       0        0   \n",
      "\n",
      "   Mystery  Romance  Sci-Fi  Thriller  War  Western  \n",
      "0        0        0       0         0    0        0  \n",
      "1        0        0       0         1    0        0  \n",
      "2        0        0       0         1    0        0  \n",
      "3        0        0       0         0    0        0  \n",
      "4        0        0       0         1    0        0  \n",
      "\n",
      "[5 rows x 24 columns]\n",
      "(1682, 24)\n",
      "Index(['movie id', 'movie title', 'release date', 'video release date',\n",
      "       'IMDb URL', 'unknown', 'Action', 'Adventure', 'Animation', 'Children's',\n",
      "       'Comedy', 'Crime', 'Documentary', 'Drama', 'Fantasy', 'Film-Noir',\n",
      "       'Horror', 'Musical', 'Mystery', 'Romance', 'Sci-Fi', 'Thriller', 'War',\n",
      "       'Western'],\n",
      "      dtype='object')\n",
      "1682\n"
     ]
    }
   ],
   "source": [
    "print (items.head())\n",
    "print (items.shape)\n",
    "print (items.columns)\n",
    "print (items['movie id'].max())"
   ]
  },
  {
   "cell_type": "code",
   "execution_count": 265,
   "metadata": {},
   "outputs": [
    {
     "name": "stdout",
     "output_type": "stream",
     "text": [
      "(100000, 28)\n",
      "   user_id  movie_id  rating  unix_timestamp  movie id  \\\n",
      "0      196       242       3       881250949       242   \n",
      "1      186       302       3       891717742       302   \n",
      "2       22       377       1       878887116       377   \n",
      "3      244        51       2       880606923        51   \n",
      "4      166       346       1       886397596       346   \n",
      "\n",
      "                  movie title release date  video release date  \\\n",
      "0                Kolya (1996)  24-Jan-1997                 NaN   \n",
      "1    L.A. Confidential (1997)  01-Jan-1997                 NaN   \n",
      "2         Heavyweights (1994)  01-Jan-1994                 NaN   \n",
      "3  Legends of the Fall (1994)  01-Jan-1994                 NaN   \n",
      "4         Jackie Brown (1997)  01-Jan-1997                 NaN   \n",
      "\n",
      "                                            IMDb URL  unknown  ...  Fantasy  \\\n",
      "0    http://us.imdb.com/M/title-exact?Kolya%20(1996)        0  ...        0   \n",
      "1  http://us.imdb.com/M/title-exact?L%2EA%2E+Conf...        0  ...        0   \n",
      "2  http://us.imdb.com/M/title-exact?Heavyweights%...        0  ...        0   \n",
      "3  http://us.imdb.com/M/title-exact?Legends%20of%...        0  ...        0   \n",
      "4  http://us.imdb.com/M/title-exact?imdb-title-11...        0  ...        0   \n",
      "\n",
      "   Film-Noir  Horror  Musical  Mystery  Romance  Sci-Fi  Thriller  War  \\\n",
      "0          0       0        0        0        0       0         0    0   \n",
      "1          1       0        0        1        0       0         1    0   \n",
      "2          0       0        0        0        0       0         0    0   \n",
      "3          0       0        0        0        1       0         0    1   \n",
      "4          0       0        0        0        0       0         0    0   \n",
      "\n",
      "   Western  \n",
      "0        0  \n",
      "1        0  \n",
      "2        0  \n",
      "3        1  \n",
      "4        0  \n",
      "\n",
      "[5 rows x 28 columns]\n"
     ]
    }
   ],
   "source": [
    "#First we will content based filtering for recommending top 10 movies to a user.\n",
    "#Our function will take user_id as input and output \n",
    "#For this we will use the simplified cosine similarity where we will create a item vector\n",
    "#for each movie and a profile vector for user based on their previous likes and dislikes\n",
    "#We will then take cosine similarity between the profile and the item vector and recommend\n",
    "#the top 10 movies. Let's get started\n",
    "\n",
    "#Creating a profile vector for each user\n",
    "profile_df = pd.merge(ratings, items, left_on='movie_id', right_on='movie id', how='left')\n",
    "print (profile_df.shape)\n",
    "print (profile_df.head())\n"
   ]
  },
  {
   "cell_type": "code",
   "execution_count": 266,
   "metadata": {},
   "outputs": [
    {
     "name": "stdout",
     "output_type": "stream",
     "text": [
      "   Action  Adventure  Animation  Children's  Comedy  Crime  Documentary  \\\n",
      "0       0          0          0           0       3      0            0   \n",
      "1       0          0          0           0       0      3            0   \n",
      "2       0          0          0           1       1      0            0   \n",
      "3       0          0          0           0       0      0            0   \n",
      "4       0          0          0           0       0      1            0   \n",
      "\n",
      "   Drama  Fantasy  Film-Noir  Horror  Musical  Mystery  Romance  Sci-Fi  \\\n",
      "0      0        0          0       0        0        0        0       0   \n",
      "1      0        0          3       0        0        3        0       0   \n",
      "2      0        0          0       0        0        0        0       0   \n",
      "3      2        0          0       0        0        0        2       0   \n",
      "4      1        0          0       0        0        0        0       0   \n",
      "\n",
      "   Thriller  War  rating  \n",
      "0         0    0       9  \n",
      "1         3    0       9  \n",
      "2         0    0       1  \n",
      "3         0    2       4  \n",
      "4         0    0       1  \n"
     ]
    }
   ],
   "source": [
    "        \n",
    "def genre_multiply(x):\n",
    "    return x*x['rating']\n",
    "        \n",
    "profile_df_temp = profile_df[['Action', 'Adventure', 'Animation', \"Children's\",\n",
    "       'Comedy', 'Crime', 'Documentary', 'Drama', 'Fantasy', 'Film-Noir',\n",
    "       'Horror', 'Musical', 'Mystery', 'Romance', 'Sci-Fi', 'Thriller', 'War','rating']].apply(genre_multiply, axis=1)\n",
    "\n",
    "print (profile_df_temp.head())\n"
   ]
  },
  {
   "cell_type": "code",
   "execution_count": 267,
   "metadata": {},
   "outputs": [],
   "source": [
    "concat_df = pd.concat([profile_df[['user_id','movie_id']], profile_df_temp], axis=1)"
   ]
  },
  {
   "cell_type": "code",
   "execution_count": 268,
   "metadata": {},
   "outputs": [
    {
     "name": "stdout",
     "output_type": "stream",
     "text": [
      "       user_id  movie_id  Action  Adventure  Animation  Children's  Comedy  \\\n",
      "0          196       242       0          0          0           0       3   \n",
      "940        196       393       0          0          0           0       4   \n",
      "1133       196       381       0          0          0           0       4   \n",
      "1812       196       251       0          0          0           0       3   \n",
      "1896       196       655       0          5          0           0       5   \n",
      "2374       196        67       0          0          0           0       5   \n",
      "6910       196       306       0          0          0           0       0   \n",
      "7517       196       238       0          0          0           0       4   \n",
      "7842       196       663       0          0          0           0       5   \n",
      "10017      196       111       0          0          0           0       4   \n",
      "10254      196       580       0          0          0           0       2   \n",
      "10981      196        25       0          0          0           0       4   \n",
      "13733      196       286       0          0          0           0       0   \n",
      "14606      196        94       0          0          0           3       3   \n",
      "16834      196       692       0          0          0           0       5   \n",
      "17102      196         8       0          0          0           5       5   \n",
      "17830      196       428       0          0          0           0       4   \n",
      "18853      196      1118       0          0          0           0       4   \n",
      "21605      196        70       0          0          0           0       3   \n",
      "22271      196        66       0          0          0           0       3   \n",
      "22773      196       257       2          2          0           0       2   \n",
      "23189      196       108       0          0          0           0       4   \n",
      "24030      196       202       0          0          0           0       3   \n",
      "25726      196       340       0          0          0           0       0   \n",
      "32721      196       287       0          0          0           0       0   \n",
      "33536      196       116       0          0          0           0       3   \n",
      "35197      196       382       0          0          0           0       4   \n",
      "36281      196       285       0          0          0           0       0   \n",
      "41539      196      1241       0          0          0           0       3   \n",
      "42384      196      1007       0          0          0           0       4   \n",
      "50147      196       411       0          0          0           0       4   \n",
      "52726      196       153       0          0          0           0       5   \n",
      "56628      196        13       0          0          0           0       2   \n",
      "59165      196       762       0          0          0           0       0   \n",
      "59607      196       173       2          2          0           0       2   \n",
      "60199      196      1022       0          0          0           0       0   \n",
      "60706      196       845       0          0          0           0       4   \n",
      "78787      196       269       0          0          0           0       3   \n",
      "87863      196       110       1          1          0           0       1   \n",
      "\n",
      "       Crime  Documentary  Drama  Fantasy  Film-Noir  Horror  Musical  \\\n",
      "0          0            0      0        0          0       0        0   \n",
      "940        0            0      0        0          0       0        0   \n",
      "1133       0            0      0        0          0       0        0   \n",
      "1812       0            0      0        0          0       0        0   \n",
      "1896       0            0      5        0          0       0        0   \n",
      "2374       0            0      0        0          0       0        0   \n",
      "6910       0            0      4        0          0       0        0   \n",
      "7517       0            0      0        0          0       0        0   \n",
      "7842       0            0      0        0          0       0        0   \n",
      "10017      0            0      0        0          0       0        0   \n",
      "10254      0            0      0        0          0       0        0   \n",
      "10981      0            0      0        0          0       0        0   \n",
      "13733      0            0      5        0          0       0        0   \n",
      "14606      0            0      0        0          0       0        0   \n",
      "16834      0            0      5        0          0       0        0   \n",
      "17102      0            0      5        0          0       0        0   \n",
      "17830      0            0      0        0          0       0        0   \n",
      "18853      0            0      0        0          0       0        0   \n",
      "21605      0            0      0        0          0       0        0   \n",
      "22271      0            0      0        0          0       0        0   \n",
      "22773      0            0      0        0          0       0        0   \n",
      "23189      0            0      0        0          0       0        0   \n",
      "24030      0            0      0        0          0       0        0   \n",
      "25726      0            0      3        0          0       0        0   \n",
      "32721      0            0      3        0          0       0        0   \n",
      "33536      0            0      0        0          0       0        0   \n",
      "35197      0            0      4        0          0       0        0   \n",
      "36281      0            0      5        0          0       0        0   \n",
      "41539      0            0      3        0          0       0        0   \n",
      "42384      0            0      0        0          0       0        0   \n",
      "50147      0            0      0        4          0       0        0   \n",
      "52726      0            0      0        0          0       0        0   \n",
      "56628      0            0      0        0          0       0        0   \n",
      "59165      0            0      3        0          0       0        0   \n",
      "59607      0            0      0        0          0       0        0   \n",
      "60199      0            4      0        0          0       0        0   \n",
      "60706      0            0      0        0          0       0        0   \n",
      "78787      0            0      0        0          0       0        0   \n",
      "87863      0            0      0        0          0       0        0   \n",
      "\n",
      "       Mystery  Romance  Sci-Fi  Thriller  War  rating  \n",
      "0            0        0       0         0    0       9  \n",
      "940          0        0       0         0    0      16  \n",
      "1133         0        4       0         0    0      16  \n",
      "1812         0        0       0         0    0       9  \n",
      "1896         0        0       0         0    0      25  \n",
      "2374         0        0       0         0    0      25  \n",
      "6910         0        4       0         0    0      16  \n",
      "7517         0        0       0         0    0      16  \n",
      "7842         0        0       0         0    0      25  \n",
      "10017        0        4       0         0    0      16  \n",
      "10254        0        2       0         0    0       4  \n",
      "10981        0        0       0         0    0      16  \n",
      "13733        0        5       0         0    5      25  \n",
      "14606        0        0       0         0    0       9  \n",
      "16834        0        5       0         0    0      25  \n",
      "17102        0        0       0         0    0      25  \n",
      "17830        0        0       0         0    0      16  \n",
      "18853        0        0       0         0    0      16  \n",
      "21605        0        3       0         0    0       9  \n",
      "22271        0        3       0         0    0       9  \n",
      "22773        0        0       2         0    0       4  \n",
      "23189        0        0       0         0    0      16  \n",
      "24030        0        3       0         0    0       9  \n",
      "25726        0        0       0         0    0       9  \n",
      "32721        0        0       0         0    0       9  \n",
      "33536        0        0       0         0    0       9  \n",
      "35197        0        0       0         0    0      16  \n",
      "36281        0        0       0         0    0      25  \n",
      "41539        0        0       0         0    0       9  \n",
      "42384        0        0       0         0    0      16  \n",
      "50147        0        4       4         0    0      16  \n",
      "52726        0        0       0         0    0      25  \n",
      "56628        0        0       0         0    0       4  \n",
      "59165        0        0       0         0    0       9  \n",
      "59607        0        2       0         0    0       4  \n",
      "60199        0        0       0         0    0      16  \n",
      "60706        0        0       0         0    0      16  \n",
      "78787        0        0       0         0    0       9  \n",
      "87863        0        0       0         0    1       1  \n"
     ]
    }
   ],
   "source": [
    "print (concat_df[concat_df['user_id']==196])"
   ]
  },
  {
   "cell_type": "code",
   "execution_count": 269,
   "metadata": {},
   "outputs": [],
   "source": [
    "#Now creating the profile vector by taking average of the ratings by user_id\n",
    "user_profile =concat_df[['Action', 'Adventure', 'Animation', \"Children's\",\n",
    "       'Comedy', 'Crime', 'Documentary', 'Drama', 'Fantasy', 'Film-Noir',\n",
    "       'Horror', 'Musical', 'Mystery', 'Romance', 'Sci-Fi', 'Thriller', 'War','user_id']].groupby(by='user_id',as_index=False).mean()"
   ]
  },
  {
   "cell_type": "code",
   "execution_count": 270,
   "metadata": {},
   "outputs": [
    {
     "name": "stdout",
     "output_type": "stream",
     "text": [
      "[[0.88143097 0.75613938 0.80502353]\n",
      " [0.69735798 0.7424253  0.65170814]\n",
      " [0.81410923 0.73979398 0.71295149]\n",
      " [0.86654709 0.72334754 0.78980281]]\n"
     ]
    }
   ],
   "source": [
    "from scipy import sparse\n",
    "from sklearn.metrics.pairwise import cosine_similarity\n",
    "\n",
    "\n",
    "a = np.random.random((4, 10))\n",
    "b = np.random.random((3, 10))\n",
    "\n",
    "\n",
    "\n",
    "sim_sparse = cosine_similarity(a, b, dense_output=False)\n",
    "print(sim_sparse)"
   ]
  },
  {
   "cell_type": "code",
   "execution_count": 271,
   "metadata": {},
   "outputs": [],
   "source": [
    "#Now creating user profile\n",
    "\n",
    "user_vector=user_profile[['Action', 'Adventure', 'Animation', \"Children's\",\n",
    "       'Comedy', 'Crime', 'Documentary', 'Drama', 'Fantasy', 'Film-Noir',\n",
    "       'Horror', 'Musical', 'Mystery', 'Romance', 'Sci-Fi', 'Thriller', 'War']]\n",
    "\n",
    "item_vector=items[['Action', 'Adventure', 'Animation', \"Children's\",\n",
    "       'Comedy', 'Crime', 'Documentary', 'Drama', 'Fantasy', 'Film-Noir',\n",
    "       'Horror', 'Musical', 'Mystery', 'Romance', 'Sci-Fi', 'Thriller', 'War']]"
   ]
  },
  {
   "cell_type": "code",
   "execution_count": 272,
   "metadata": {},
   "outputs": [
    {
     "name": "stdout",
     "output_type": "stream",
     "text": [
      "[[0.34478094 0.47061341 0.27316176 ... 0.60925872 0.45914424 0.61025501]\n",
      " [0.25052874 0.30584028 0.24232371 ... 0.79697089 0.34376155 0.75514832]\n",
      " [0.15766132 0.53909999 0.46687429 ... 0.50453826 0.27307741 0.56377272]\n",
      " ...\n",
      " [0.40201513 0.71898859 0.37493649 ... 0.24618298 0.38832708 0.28120237]\n",
      " [0.4047511  0.50532561 0.33990277 ... 0.63692102 0.38239062 0.58208349]\n",
      " [0.26659034 0.63954752 0.31249613 ... 0.52768508 0.38712207 0.50139304]]\n"
     ]
    }
   ],
   "source": [
    "sim_sparse = cosine_similarity(user_vector, item_vector, dense_output=False)\n",
    "print(sim_sparse)"
   ]
  },
  {
   "cell_type": "code",
   "execution_count": 273,
   "metadata": {},
   "outputs": [],
   "source": [
    "top_10_user= sim_sparse.argsort()[:,::-1][:,:10]"
   ]
  },
  {
   "cell_type": "code",
   "execution_count": 274,
   "metadata": {},
   "outputs": [
    {
     "name": "stdout",
     "output_type": "stream",
     "text": [
      "[73, 3, 1137, 336, 1114, 777, 935, 516, 774, 511]\n"
     ]
    }
   ],
   "source": [
    "print (top_10_user[0].tolist())"
   ]
  },
  {
   "cell_type": "code",
   "execution_count": 275,
   "metadata": {},
   "outputs": [
    {
     "name": "stdout",
     "output_type": "stream",
     "text": [
      "691     American President, The (1995)\n",
      "774     Something to Talk About (1995)\n",
      "1114              Twelfth Night (1996)\n",
      "169             Cinema Paradiso (1988)\n",
      "935                 Brassed Off (1996)\n",
      "511             Wings of Desire (1987)\n",
      "516                   Manhattan (1979)\n",
      "730            Corrina, Corrina (1994)\n",
      "777            Don Juan DeMarco (1995)\n",
      "1099       What Happened Was... (1994)\n",
      "Name: movie title, dtype: object\n"
     ]
    }
   ],
   "source": [
    "print (items.loc[top_10_user[160].tolist()]['movie title'])"
   ]
  },
  {
   "cell_type": "code",
   "execution_count": 276,
   "metadata": {
    "scrolled": true
   },
   "outputs": [
    {
     "name": "stdout",
     "output_type": "stream",
     "text": [
      "       user_id  movie_id  Action  Adventure  Animation  Children's  Comedy  \\\n",
      "1250         4       264       0          0          0           0       0   \n",
      "1329         4       303       0          0          0           0       0   \n",
      "2204         4       361       0          0          0           0       0   \n",
      "2526         4       357       0          0          0           0       0   \n",
      "3277         4       260       4          0          0           0       0   \n",
      "5960         4       356       0          0          0           0       0   \n",
      "12151        4       294       0          0          0           0       5   \n",
      "13893        4       288       0          0          0           0       0   \n",
      "16305        4        50       5          5          0           0       0   \n",
      "18930        4       354       0          0          0           0       5   \n",
      "20082        4       271       4          4          0           0       0   \n",
      "20383        4       300       5          0          0           0       0   \n",
      "24519        4       328       3          0          0           0       0   \n",
      "24743        4       258       0          0          0           0       0   \n",
      "24866        4       210       3          3          0           0       0   \n",
      "35313        4       329       0          0          0           0       0   \n",
      "48826        4        11       0          0          0           0       0   \n",
      "51203        4       327       0          0          0           0       0   \n",
      "64091        4       324       0          0          0           0       0   \n",
      "68273        4       359       0          0          0           0       0   \n",
      "71055        4       362       5          0          0           0       5   \n",
      "76722        4       358       2          2          0           0       0   \n",
      "86815        4       360       0          0          0           0       0   \n",
      "88891        4       301       0          0          0           0       5   \n",
      "\n",
      "       Crime  Documentary  Drama  Fantasy  Film-Noir  Horror  Musical  \\\n",
      "1250       0            0      0        0          0       0        0   \n",
      "1329       0            0      5        0          0       0        0   \n",
      "2204       5            0      0        0          0       0        0   \n",
      "2526       0            0      4        0          0       0        0   \n",
      "3277       0            0      0        0          0       0        0   \n",
      "5960       0            0      3        0          0       0        0   \n",
      "12151      0            0      0        0          0       0        0   \n",
      "13893      0            0      0        0          0       4        0   \n",
      "16305      0            0      0        0          0       0        0   \n",
      "18930      0            0      0        0          0       0        0   \n",
      "20082      0            0      0        0          0       0        0   \n",
      "20383      0            0      0        0          0       0        0   \n",
      "24519      0            0      0        0          0       0        0   \n",
      "24743      0            0      5        0          0       0        0   \n",
      "24866      0            0      0        0          0       0        0   \n",
      "35313      5            0      5        0          0       0        0   \n",
      "48826      4            0      0        0          0       0        0   \n",
      "51203      5            0      5        0          0       0        0   \n",
      "64091      0            0      0        0          0       0        0   \n",
      "68273      0            0      0        0          0       0        0   \n",
      "71055      0            0      0        0          0       0        5   \n",
      "76722      0            0      0        0          0       0        0   \n",
      "86815      0            5      0        0          0       0        0   \n",
      "88891      0            0      0        0          0       0        0   \n",
      "\n",
      "       Mystery  Romance  Sci-Fi  Thriller  War  rating  \n",
      "1250         0        0       3         3    0       9  \n",
      "1329         0        0       0         0    0      25  \n",
      "2204         0        0       0         5    0      25  \n",
      "2526         0        0       0         0    0      16  \n",
      "3277         4        0       4         4    0      16  \n",
      "5960         3        0       0         3    0       9  \n",
      "12151        0        0       0         0    0      25  \n",
      "13893        0        0       0         4    0      16  \n",
      "16305        0        5       5         0    5      25  \n",
      "18930        0        5       0         0    0      25  \n",
      "20082        0        0       4         0    4      16  \n",
      "20383        0        0       0         5    0      25  \n",
      "24519        3        3       0         3    0       9  \n",
      "24743        0        0       5         0    0      25  \n",
      "24866        0        0       0         0    0       9  \n",
      "35313        0        0       0         5    0      25  \n",
      "48826        0        0       0         4    0      16  \n",
      "51203        5        0       0         0    0      25  \n",
      "64091        5        0       0         0    0      25  \n",
      "68273        0        0       0         5    0      25  \n",
      "71055        0        0       0         0    0      25  \n",
      "76722        0        0       2         2    0       4  \n",
      "86815        0        0       0         0    0      25  \n",
      "88891        0        0       0         0    0      25  \n"
     ]
    }
   ],
   "source": [
    "print (concat_df[concat_df['user_id']==4])"
   ]
  },
  {
   "cell_type": "code",
   "execution_count": 277,
   "metadata": {},
   "outputs": [
    {
     "name": "stdout",
     "output_type": "stream",
     "text": [
      "   index  user_id  movie_id  rating  unix_timestamp\n",
      "0      0      196       242       3       881250949\n",
      "1      1      186       302       3       891717742\n",
      "2      2       22       377       1       878887116\n",
      "3      3      244        51       2       880606923\n",
      "4      4      166       346       1       886397596\n",
      "   user_id  movie_id  index  rating  unix_timestamp\n",
      "0      196       242    0.0     3.0     881250949.0\n",
      "1      196       302    NaN     NaN             NaN\n",
      "2      196       377    NaN     NaN             NaN\n",
      "3      196        51    NaN     NaN             NaN\n",
      "4      196       346    NaN     NaN             NaN\n",
      "(1586126, 5)\n"
     ]
    }
   ],
   "source": [
    "#Before that trying to find similar movies based on users liking it.\n",
    "#Here the idea will be that we will find cosine similarity between the movies with\n",
    "#each movie as a row and the columns as the user ratings\n",
    "#Let's see how this experiment work\n",
    "ratings.reset_index(inplace=True)\n",
    "print (ratings.head())\n",
    "u_user_id = ratings.user_id.unique()\n",
    "u_movie_id = ratings.movie_id.unique()\n",
    "\n",
    "ratings.set_index([\"user_id\", \"movie_id\"], inplace=True)\n",
    "ratings = ratings.reindex(\n",
    "    pd.MultiIndex.from_product(\n",
    "        (u_user_id, u_movie_id),\n",
    "        names=[\"user_id\", \"movie_id\"]\n",
    "    )\n",
    ")\n",
    "ratings.reset_index(inplace=True)\n",
    "print (ratings.head())\n",
    "print (ratings.shape)\n",
    "#promo_2017_train = df_2017.set_index(\n",
    "#    [\"store_nbr\", \"item_nbr\", \"date\"])[[\"onpromotion\"]].unstack(\n",
    "#        level=-1).fillna(False)"
   ]
  },
  {
   "cell_type": "code",
   "execution_count": 278,
   "metadata": {},
   "outputs": [],
   "source": [
    "ratings.loc[:, \"rating\"].fillna(0, inplace=True)"
   ]
  },
  {
   "cell_type": "code",
   "execution_count": 279,
   "metadata": {},
   "outputs": [
    {
     "name": "stdout",
     "output_type": "stream",
     "text": [
      "   user_id  movie_id  index  rating  unix_timestamp\n",
      "0      196       242    0.0     3.0     881250949.0\n",
      "1      196       302    NaN     0.0             NaN\n",
      "2      196       377    NaN     0.0             NaN\n",
      "3      196        51    NaN     0.0             NaN\n",
      "4      196       346    NaN     0.0             NaN\n"
     ]
    }
   ],
   "source": [
    "print (ratings.head())"
   ]
  },
  {
   "cell_type": "code",
   "execution_count": 280,
   "metadata": {},
   "outputs": [],
   "source": [
    "pivot = pd.pivot_table(ratings, values='rating', index=['movie_id'],\n",
    "                  columns=['user_id'])"
   ]
  },
  {
   "cell_type": "code",
   "execution_count": 281,
   "metadata": {},
   "outputs": [
    {
     "name": "stdout",
     "output_type": "stream",
     "text": [
      "(1682, 943)\n"
     ]
    }
   ],
   "source": [
    "print (pivot.shape)"
   ]
  },
  {
   "cell_type": "code",
   "execution_count": 282,
   "metadata": {},
   "outputs": [
    {
     "name": "stdout",
     "output_type": "stream",
     "text": [
      "user_id   1    2    3    4    5    6    7    8    9    10   ...  934  935  \\\n",
      "movie_id                                                    ...             \n",
      "1         5.0  4.0  0.0  0.0  4.0  4.0  0.0  0.0  0.0  4.0  ...  2.0  3.0   \n",
      "2         3.0  0.0  0.0  0.0  3.0  0.0  0.0  0.0  0.0  0.0  ...  4.0  0.0   \n",
      "3         4.0  0.0  0.0  0.0  0.0  0.0  0.0  0.0  0.0  0.0  ...  0.0  0.0   \n",
      "4         3.0  0.0  0.0  0.0  0.0  0.0  5.0  0.0  0.0  4.0  ...  5.0  0.0   \n",
      "5         3.0  0.0  0.0  0.0  0.0  0.0  0.0  0.0  0.0  0.0  ...  0.0  0.0   \n",
      "\n",
      "user_id   936  937  938  939  940  941  942  943  \n",
      "movie_id                                          \n",
      "1         4.0  0.0  4.0  0.0  0.0  5.0  0.0  0.0  \n",
      "2         0.0  0.0  0.0  0.0  0.0  0.0  0.0  5.0  \n",
      "3         4.0  0.0  0.0  0.0  0.0  0.0  0.0  0.0  \n",
      "4         0.0  0.0  0.0  0.0  2.0  0.0  0.0  0.0  \n",
      "5         0.0  0.0  0.0  0.0  0.0  0.0  0.0  0.0  \n",
      "\n",
      "[5 rows x 943 columns]\n"
     ]
    }
   ],
   "source": [
    "print (pivot.head())"
   ]
  },
  {
   "cell_type": "code",
   "execution_count": 283,
   "metadata": {},
   "outputs": [],
   "source": [
    "top_10_similarities= cosine_similarity(pivot).argsort()[:,::-1][:,:10]"
   ]
  },
  {
   "cell_type": "code",
   "execution_count": 284,
   "metadata": {},
   "outputs": [
    {
     "name": "stdout",
     "output_type": "stream",
     "text": [
      "[[   0   49  180 ...  221   99  236]\n",
      " [   1  232  160 ...  225  230  549]\n",
      " [   2  409  762 ... 1046  824  474]\n",
      " ...\n",
      " [1679 1678 1677 ... 1293  360 1242]\n",
      " [1680 1671 1350 ... 1213 1521  797]\n",
      " [1681  766 1334 ... 1112 1427  959]]\n"
     ]
    }
   ],
   "source": [
    "print (top_10_similarities)"
   ]
  },
  {
   "cell_type": "code",
   "execution_count": 285,
   "metadata": {},
   "outputs": [
    {
     "name": "stdout",
     "output_type": "stream",
     "text": [
      "380                              Muriel's Wedding (1994)\n",
      "69                    Four Weddings and a Funeral (1994)\n",
      "85                        Remains of the Day, The (1993)\n",
      "215                       When Harry Met Sally... (1989)\n",
      "51                    Madness of King George, The (1994)\n",
      "82                         Much Ado About Nothing (1993)\n",
      "237                               Raising Arizona (1987)\n",
      "450                                        Grease (1978)\n",
      "381    Adventures of Priscilla, Queen of the Desert, ...\n",
      "654                                   Stand by Me (1986)\n",
      "Name: movie title, dtype: object\n"
     ]
    }
   ],
   "source": [
    "print (items.loc[top_10_similarities[380].tolist()]['movie title'])"
   ]
  },
  {
   "cell_type": "code",
   "execution_count": 286,
   "metadata": {},
   "outputs": [
    {
     "name": "stdout",
     "output_type": "stream",
     "text": [
      "movie_id  1     2     3     4     5     6     7     8     9     10    ...  \\\n",
      "user_id                                                               ...   \n",
      "1          5.0   3.0   4.0   3.0   3.0   5.0   4.0   1.0   5.0   3.0  ...   \n",
      "2          4.0   0.0   0.0   0.0   0.0   0.0   0.0   0.0   0.0   2.0  ...   \n",
      "3          0.0   0.0   0.0   0.0   0.0   0.0   0.0   0.0   0.0   0.0  ...   \n",
      "4          0.0   0.0   0.0   0.0   0.0   0.0   0.0   0.0   0.0   0.0  ...   \n",
      "5          4.0   3.0   0.0   0.0   0.0   0.0   0.0   0.0   0.0   0.0  ...   \n",
      "\n",
      "movie_id  1673  1674  1675  1676  1677  1678  1679  1680  1681  1682  \n",
      "user_id                                                               \n",
      "1          0.0   0.0   0.0   0.0   0.0   0.0   0.0   0.0   0.0   0.0  \n",
      "2          0.0   0.0   0.0   0.0   0.0   0.0   0.0   0.0   0.0   0.0  \n",
      "3          0.0   0.0   0.0   0.0   0.0   0.0   0.0   0.0   0.0   0.0  \n",
      "4          0.0   0.0   0.0   0.0   0.0   0.0   0.0   0.0   0.0   0.0  \n",
      "5          0.0   0.0   0.0   0.0   0.0   0.0   0.0   0.0   0.0   0.0  \n",
      "\n",
      "[5 rows x 1682 columns]\n"
     ]
    }
   ],
   "source": [
    "#Now we will implement collaborative filtering using matrix factorization\n",
    "#First we need to create the matrix where users are in rows and each movie in column\n",
    "#so in this case we should have 943,1682 dimensions\n",
    "\n",
    "matrix_fac_df = pd.pivot_table(ratings, values='rating', index=['user_id'],\n",
    "                              columns=['movie_id'])\n",
    "\n",
    "print (matrix_fac_df.head())"
   ]
  },
  {
   "cell_type": "code",
   "execution_count": 287,
   "metadata": {},
   "outputs": [
    {
     "name": "stderr",
     "output_type": "stream",
     "text": [
      "/Users/sourabhmittal/anaconda2/envs/conda_env/lib/python3.6/site-packages/ipykernel_launcher.py:1: FutureWarning: Method .as_matrix will be removed in a future version. Use .values instead.\n",
      "  \"\"\"Entry point for launching an IPython kernel.\n"
     ]
    }
   ],
   "source": [
    "users_items_pivot_matrix = matrix_fac_df.as_matrix()"
   ]
  },
  {
   "cell_type": "code",
   "execution_count": 288,
   "metadata": {},
   "outputs": [
    {
     "data": {
      "text/plain": [
       "(943, 1682)"
      ]
     },
     "execution_count": 288,
     "metadata": {},
     "output_type": "execute_result"
    }
   ],
   "source": [
    "users_items_pivot_matrix.shape"
   ]
  },
  {
   "cell_type": "code",
   "execution_count": 289,
   "metadata": {},
   "outputs": [],
   "source": [
    "from scipy.sparse.linalg import svds\n",
    "#The number of factors to factor the user-item matrix.\n",
    "NUMBER_OF_FACTORS_MF = 15\n",
    "#Performs matrix factorization of the original user item matrix\n",
    "U, sigma, Vt = svds(users_items_pivot_matrix, k = NUMBER_OF_FACTORS_MF)"
   ]
  },
  {
   "cell_type": "code",
   "execution_count": 290,
   "metadata": {},
   "outputs": [
    {
     "data": {
      "text/plain": [
       "(943, 15)"
      ]
     },
     "execution_count": 290,
     "metadata": {},
     "output_type": "execute_result"
    }
   ],
   "source": [
    "U.shape"
   ]
  },
  {
   "cell_type": "code",
   "execution_count": 291,
   "metadata": {},
   "outputs": [
    {
     "data": {
      "text/plain": [
       "(15, 1682)"
      ]
     },
     "execution_count": 291,
     "metadata": {},
     "output_type": "execute_result"
    }
   ],
   "source": [
    "Vt.shape"
   ]
  },
  {
   "cell_type": "code",
   "execution_count": 292,
   "metadata": {},
   "outputs": [
    {
     "data": {
      "text/plain": [
       "(15, 15)"
      ]
     },
     "execution_count": 292,
     "metadata": {},
     "output_type": "execute_result"
    }
   ],
   "source": [
    "sigma = np.diag(sigma)\n",
    "sigma.shape"
   ]
  },
  {
   "cell_type": "code",
   "execution_count": 293,
   "metadata": {},
   "outputs": [
    {
     "data": {
      "text/plain": [
       "array([[ 4.43878479e+00,  2.11917532e+00,  1.31158919e+00, ...,\n",
       "        -7.08613101e-03,  1.83308395e-02,  5.86533316e-02],\n",
       "       [ 1.88027236e+00, -9.29994696e-02,  8.46207206e-02, ...,\n",
       "         1.10191650e-02, -9.33579482e-03, -2.46128025e-02],\n",
       "       [-7.51577750e-02,  6.83639310e-03,  1.29765194e-01, ...,\n",
       "         1.93662429e-02, -5.49764246e-04, -5.15644896e-03],\n",
       "       ...,\n",
       "       [ 2.03089125e+00, -3.34299627e-03,  3.81843117e-01, ...,\n",
       "        -2.22309410e-03, -1.59373330e-05,  2.63556532e-03],\n",
       "       [ 1.25292328e+00,  1.52255645e-01, -4.33783399e-01, ...,\n",
       "         1.55998214e-02,  4.81491255e-03, -2.81527532e-02],\n",
       "       [ 1.74525355e+00,  2.09840483e+00,  1.09220298e+00, ...,\n",
       "        -1.32441482e-02,  2.46114779e-02,  1.81903557e-02]])"
      ]
     },
     "execution_count": 293,
     "metadata": {},
     "output_type": "execute_result"
    }
   ],
   "source": [
    "all_user_predicted_ratings = np.dot(np.dot(U, sigma), Vt) \n",
    "all_user_predicted_ratings"
   ]
  },
  {
   "cell_type": "code",
   "execution_count": 294,
   "metadata": {},
   "outputs": [
    {
     "data": {
      "text/html": [
       "<div>\n",
       "<style scoped>\n",
       "    .dataframe tbody tr th:only-of-type {\n",
       "        vertical-align: middle;\n",
       "    }\n",
       "\n",
       "    .dataframe tbody tr th {\n",
       "        vertical-align: top;\n",
       "    }\n",
       "\n",
       "    .dataframe thead th {\n",
       "        text-align: right;\n",
       "    }\n",
       "</style>\n",
       "<table border=\"1\" class=\"dataframe\">\n",
       "  <thead>\n",
       "    <tr style=\"text-align: right;\">\n",
       "      <th></th>\n",
       "      <th>1</th>\n",
       "      <th>2</th>\n",
       "      <th>3</th>\n",
       "      <th>4</th>\n",
       "      <th>5</th>\n",
       "      <th>6</th>\n",
       "      <th>7</th>\n",
       "      <th>8</th>\n",
       "      <th>9</th>\n",
       "      <th>10</th>\n",
       "      <th>...</th>\n",
       "      <th>934</th>\n",
       "      <th>935</th>\n",
       "      <th>936</th>\n",
       "      <th>937</th>\n",
       "      <th>938</th>\n",
       "      <th>939</th>\n",
       "      <th>940</th>\n",
       "      <th>941</th>\n",
       "      <th>942</th>\n",
       "      <th>943</th>\n",
       "    </tr>\n",
       "  </thead>\n",
       "  <tbody>\n",
       "    <tr>\n",
       "      <th>1</th>\n",
       "      <td>4.438785</td>\n",
       "      <td>1.880272</td>\n",
       "      <td>-0.075158</td>\n",
       "      <td>0.582163</td>\n",
       "      <td>3.433327</td>\n",
       "      <td>3.240909</td>\n",
       "      <td>2.296333</td>\n",
       "      <td>1.050592</td>\n",
       "      <td>0.720506</td>\n",
       "      <td>1.628652</td>\n",
       "      <td>...</td>\n",
       "      <td>2.137697</td>\n",
       "      <td>2.333870</td>\n",
       "      <td>4.333990</td>\n",
       "      <td>1.786325</td>\n",
       "      <td>4.824664</td>\n",
       "      <td>2.547746</td>\n",
       "      <td>1.625894</td>\n",
       "      <td>2.030891</td>\n",
       "      <td>1.252923</td>\n",
       "      <td>1.745254</td>\n",
       "    </tr>\n",
       "    <tr>\n",
       "      <th>2</th>\n",
       "      <td>2.119175</td>\n",
       "      <td>-0.092999</td>\n",
       "      <td>0.006836</td>\n",
       "      <td>-0.120593</td>\n",
       "      <td>1.188078</td>\n",
       "      <td>0.072258</td>\n",
       "      <td>1.792962</td>\n",
       "      <td>1.598009</td>\n",
       "      <td>-0.048787</td>\n",
       "      <td>0.161714</td>\n",
       "      <td>...</td>\n",
       "      <td>0.943770</td>\n",
       "      <td>-0.081196</td>\n",
       "      <td>-0.018865</td>\n",
       "      <td>-0.029511</td>\n",
       "      <td>-0.233627</td>\n",
       "      <td>-0.023770</td>\n",
       "      <td>0.204595</td>\n",
       "      <td>-0.003343</td>\n",
       "      <td>0.152256</td>\n",
       "      <td>2.098405</td>\n",
       "    </tr>\n",
       "    <tr>\n",
       "      <th>3</th>\n",
       "      <td>1.311589</td>\n",
       "      <td>0.084621</td>\n",
       "      <td>0.129765</td>\n",
       "      <td>0.054378</td>\n",
       "      <td>0.471378</td>\n",
       "      <td>0.236292</td>\n",
       "      <td>0.753333</td>\n",
       "      <td>-0.071837</td>\n",
       "      <td>0.056645</td>\n",
       "      <td>0.009896</td>\n",
       "      <td>...</td>\n",
       "      <td>-0.076791</td>\n",
       "      <td>0.241885</td>\n",
       "      <td>1.229879</td>\n",
       "      <td>-0.067284</td>\n",
       "      <td>0.862746</td>\n",
       "      <td>0.241172</td>\n",
       "      <td>-0.144215</td>\n",
       "      <td>0.381843</td>\n",
       "      <td>-0.433783</td>\n",
       "      <td>1.092203</td>\n",
       "    </tr>\n",
       "    <tr>\n",
       "      <th>4</th>\n",
       "      <td>3.630156</td>\n",
       "      <td>0.280862</td>\n",
       "      <td>-0.053725</td>\n",
       "      <td>-0.163290</td>\n",
       "      <td>1.567449</td>\n",
       "      <td>1.674458</td>\n",
       "      <td>2.050389</td>\n",
       "      <td>1.126340</td>\n",
       "      <td>-0.092533</td>\n",
       "      <td>2.155349</td>\n",
       "      <td>...</td>\n",
       "      <td>2.211937</td>\n",
       "      <td>-0.006075</td>\n",
       "      <td>0.153428</td>\n",
       "      <td>0.064105</td>\n",
       "      <td>-0.422291</td>\n",
       "      <td>0.102573</td>\n",
       "      <td>1.498760</td>\n",
       "      <td>-0.221058</td>\n",
       "      <td>0.053440</td>\n",
       "      <td>2.703602</td>\n",
       "    </tr>\n",
       "    <tr>\n",
       "      <th>5</th>\n",
       "      <td>0.471221</td>\n",
       "      <td>-0.075563</td>\n",
       "      <td>0.000853</td>\n",
       "      <td>0.091547</td>\n",
       "      <td>0.359651</td>\n",
       "      <td>-0.693095</td>\n",
       "      <td>1.658826</td>\n",
       "      <td>0.166230</td>\n",
       "      <td>-0.005007</td>\n",
       "      <td>0.993618</td>\n",
       "      <td>...</td>\n",
       "      <td>-0.287880</td>\n",
       "      <td>0.150874</td>\n",
       "      <td>-0.048270</td>\n",
       "      <td>-0.027831</td>\n",
       "      <td>0.284090</td>\n",
       "      <td>0.269265</td>\n",
       "      <td>0.406425</td>\n",
       "      <td>-0.143911</td>\n",
       "      <td>-0.208841</td>\n",
       "      <td>1.370913</td>\n",
       "    </tr>\n",
       "    <tr>\n",
       "      <th>6</th>\n",
       "      <td>0.527748</td>\n",
       "      <td>0.385659</td>\n",
       "      <td>-0.009953</td>\n",
       "      <td>-0.047049</td>\n",
       "      <td>-0.064461</td>\n",
       "      <td>0.601268</td>\n",
       "      <td>0.357452</td>\n",
       "      <td>0.065826</td>\n",
       "      <td>0.091491</td>\n",
       "      <td>0.577239</td>\n",
       "      <td>...</td>\n",
       "      <td>0.150117</td>\n",
       "      <td>-0.005046</td>\n",
       "      <td>0.613310</td>\n",
       "      <td>0.385466</td>\n",
       "      <td>0.012373</td>\n",
       "      <td>0.056625</td>\n",
       "      <td>0.079245</td>\n",
       "      <td>0.044575</td>\n",
       "      <td>-0.092638</td>\n",
       "      <td>0.034962</td>\n",
       "    </tr>\n",
       "    <tr>\n",
       "      <th>7</th>\n",
       "      <td>5.088592</td>\n",
       "      <td>1.357602</td>\n",
       "      <td>0.123264</td>\n",
       "      <td>0.581290</td>\n",
       "      <td>2.609303</td>\n",
       "      <td>1.963651</td>\n",
       "      <td>3.712571</td>\n",
       "      <td>1.742954</td>\n",
       "      <td>0.609932</td>\n",
       "      <td>2.508345</td>\n",
       "      <td>...</td>\n",
       "      <td>0.709139</td>\n",
       "      <td>1.462394</td>\n",
       "      <td>4.056174</td>\n",
       "      <td>1.302575</td>\n",
       "      <td>3.845677</td>\n",
       "      <td>1.640721</td>\n",
       "      <td>1.548859</td>\n",
       "      <td>1.670637</td>\n",
       "      <td>-0.134214</td>\n",
       "      <td>2.264234</td>\n",
       "    </tr>\n",
       "    <tr>\n",
       "      <th>8</th>\n",
       "      <td>2.870084</td>\n",
       "      <td>0.286290</td>\n",
       "      <td>0.165041</td>\n",
       "      <td>-0.052797</td>\n",
       "      <td>1.050870</td>\n",
       "      <td>3.541965</td>\n",
       "      <td>2.065801</td>\n",
       "      <td>0.166024</td>\n",
       "      <td>0.175047</td>\n",
       "      <td>2.990021</td>\n",
       "      <td>...</td>\n",
       "      <td>1.755035</td>\n",
       "      <td>-0.109255</td>\n",
       "      <td>0.722314</td>\n",
       "      <td>0.664989</td>\n",
       "      <td>-0.231734</td>\n",
       "      <td>0.262023</td>\n",
       "      <td>1.422298</td>\n",
       "      <td>0.174952</td>\n",
       "      <td>1.499368</td>\n",
       "      <td>0.840201</td>\n",
       "    </tr>\n",
       "    <tr>\n",
       "      <th>9</th>\n",
       "      <td>3.303949</td>\n",
       "      <td>2.219235</td>\n",
       "      <td>-0.019711</td>\n",
       "      <td>0.151728</td>\n",
       "      <td>-0.754088</td>\n",
       "      <td>3.506893</td>\n",
       "      <td>3.826287</td>\n",
       "      <td>0.360503</td>\n",
       "      <td>0.641718</td>\n",
       "      <td>3.836299</td>\n",
       "      <td>...</td>\n",
       "      <td>0.174824</td>\n",
       "      <td>1.579930</td>\n",
       "      <td>4.092786</td>\n",
       "      <td>2.198797</td>\n",
       "      <td>2.577942</td>\n",
       "      <td>1.827623</td>\n",
       "      <td>0.671305</td>\n",
       "      <td>0.664270</td>\n",
       "      <td>-0.164160</td>\n",
       "      <td>2.130653</td>\n",
       "    </tr>\n",
       "    <tr>\n",
       "      <th>10</th>\n",
       "      <td>1.856559</td>\n",
       "      <td>0.555074</td>\n",
       "      <td>-0.017263</td>\n",
       "      <td>-0.058342</td>\n",
       "      <td>0.323414</td>\n",
       "      <td>1.286637</td>\n",
       "      <td>2.256572</td>\n",
       "      <td>0.408801</td>\n",
       "      <td>0.198937</td>\n",
       "      <td>1.032273</td>\n",
       "      <td>...</td>\n",
       "      <td>0.642325</td>\n",
       "      <td>0.063490</td>\n",
       "      <td>1.364872</td>\n",
       "      <td>0.838015</td>\n",
       "      <td>0.466907</td>\n",
       "      <td>0.292742</td>\n",
       "      <td>0.067630</td>\n",
       "      <td>0.303469</td>\n",
       "      <td>-0.131647</td>\n",
       "      <td>-0.425562</td>\n",
       "    </tr>\n",
       "  </tbody>\n",
       "</table>\n",
       "<p>10 rows × 943 columns</p>\n",
       "</div>"
      ],
      "text/plain": [
       "         1         2         3         4         5         6         7    \\\n",
       "1   4.438785  1.880272 -0.075158  0.582163  3.433327  3.240909  2.296333   \n",
       "2   2.119175 -0.092999  0.006836 -0.120593  1.188078  0.072258  1.792962   \n",
       "3   1.311589  0.084621  0.129765  0.054378  0.471378  0.236292  0.753333   \n",
       "4   3.630156  0.280862 -0.053725 -0.163290  1.567449  1.674458  2.050389   \n",
       "5   0.471221 -0.075563  0.000853  0.091547  0.359651 -0.693095  1.658826   \n",
       "6   0.527748  0.385659 -0.009953 -0.047049 -0.064461  0.601268  0.357452   \n",
       "7   5.088592  1.357602  0.123264  0.581290  2.609303  1.963651  3.712571   \n",
       "8   2.870084  0.286290  0.165041 -0.052797  1.050870  3.541965  2.065801   \n",
       "9   3.303949  2.219235 -0.019711  0.151728 -0.754088  3.506893  3.826287   \n",
       "10  1.856559  0.555074 -0.017263 -0.058342  0.323414  1.286637  2.256572   \n",
       "\n",
       "         8         9         10   ...       934       935       936       937  \\\n",
       "1   1.050592  0.720506  1.628652  ...  2.137697  2.333870  4.333990  1.786325   \n",
       "2   1.598009 -0.048787  0.161714  ...  0.943770 -0.081196 -0.018865 -0.029511   \n",
       "3  -0.071837  0.056645  0.009896  ... -0.076791  0.241885  1.229879 -0.067284   \n",
       "4   1.126340 -0.092533  2.155349  ...  2.211937 -0.006075  0.153428  0.064105   \n",
       "5   0.166230 -0.005007  0.993618  ... -0.287880  0.150874 -0.048270 -0.027831   \n",
       "6   0.065826  0.091491  0.577239  ...  0.150117 -0.005046  0.613310  0.385466   \n",
       "7   1.742954  0.609932  2.508345  ...  0.709139  1.462394  4.056174  1.302575   \n",
       "8   0.166024  0.175047  2.990021  ...  1.755035 -0.109255  0.722314  0.664989   \n",
       "9   0.360503  0.641718  3.836299  ...  0.174824  1.579930  4.092786  2.198797   \n",
       "10  0.408801  0.198937  1.032273  ...  0.642325  0.063490  1.364872  0.838015   \n",
       "\n",
       "         938       939       940       941       942       943  \n",
       "1   4.824664  2.547746  1.625894  2.030891  1.252923  1.745254  \n",
       "2  -0.233627 -0.023770  0.204595 -0.003343  0.152256  2.098405  \n",
       "3   0.862746  0.241172 -0.144215  0.381843 -0.433783  1.092203  \n",
       "4  -0.422291  0.102573  1.498760 -0.221058  0.053440  2.703602  \n",
       "5   0.284090  0.269265  0.406425 -0.143911 -0.208841  1.370913  \n",
       "6   0.012373  0.056625  0.079245  0.044575 -0.092638  0.034962  \n",
       "7   3.845677  1.640721  1.548859  1.670637 -0.134214  2.264234  \n",
       "8  -0.231734  0.262023  1.422298  0.174952  1.499368  0.840201  \n",
       "9   2.577942  1.827623  0.671305  0.664270 -0.164160  2.130653  \n",
       "10  0.466907  0.292742  0.067630  0.303469 -0.131647 -0.425562  \n",
       "\n",
       "[10 rows x 943 columns]"
      ]
     },
     "execution_count": 294,
     "metadata": {},
     "output_type": "execute_result"
    }
   ],
   "source": [
    "#Converting the reconstructed matrix back to a Pandas dataframe\n",
    "\n",
    "cf_preds_df = pd.DataFrame(all_user_predicted_ratings, columns = np.sort(u_movie_id), index=np.sort(u_user_id)).transpose()\n",
    "cf_preds_df.head(10)\n"
   ]
  },
  {
   "cell_type": "code",
   "execution_count": 295,
   "metadata": {},
   "outputs": [
    {
     "data": {
      "text/plain": [
       "(943, 1682)"
      ]
     },
     "execution_count": 295,
     "metadata": {},
     "output_type": "execute_result"
    }
   ],
   "source": [
    "#Now let's use this to predict the top rated movie for a user\n",
    "cf_preds_df.T.shape"
   ]
  },
  {
   "cell_type": "code",
   "execution_count": 296,
   "metadata": {},
   "outputs": [],
   "source": [
    "top_10_user_mat_fac= all_user_predicted_ratings.T.argsort()[:,::-1][:,:10]"
   ]
  },
  {
   "cell_type": "code",
   "execution_count": 297,
   "metadata": {},
   "outputs": [
    {
     "data": {
      "text/plain": [
       "(1682, 10)"
      ]
     },
     "execution_count": 297,
     "metadata": {},
     "output_type": "execute_result"
    }
   ],
   "source": [
    "top_10_user_mat_fac.shape"
   ]
  },
  {
   "cell_type": "code",
   "execution_count": 298,
   "metadata": {},
   "outputs": [
    {
     "name": "stdout",
     "output_type": "stream",
     "text": [
      "[392, 278, 12, 471, 129, 275, 726, 879, 496, 86]\n"
     ]
    }
   ],
   "source": [
    "print (top_10_user_mat_fac[1].tolist())"
   ]
  },
  {
   "cell_type": "code",
   "execution_count": 299,
   "metadata": {},
   "outputs": [
    {
     "name": "stdout",
     "output_type": "stream",
     "text": [
      "[516, 1114, 777, 730, 774, 691, 169, 935, 511, 1099]\n"
     ]
    }
   ],
   "source": [
    "print (top_10_user[1].tolist())"
   ]
  },
  {
   "cell_type": "code",
   "execution_count": 300,
   "metadata": {},
   "outputs": [
    {
     "data": {
      "text/plain": [
       "(1682, 15)"
      ]
     },
     "execution_count": 300,
     "metadata": {},
     "output_type": "execute_result"
    }
   ],
   "source": [
    "#Finding movies similar\n",
    "Vt.T.shape"
   ]
  },
  {
   "cell_type": "code",
   "execution_count": 301,
   "metadata": {},
   "outputs": [],
   "source": [
    "top_10_similarities_mat_fac= cosine_similarity(Vt.T).argsort()[:,::-1][:,:10]"
   ]
  },
  {
   "cell_type": "code",
   "execution_count": 302,
   "metadata": {},
   "outputs": [
    {
     "name": "stdout",
     "output_type": "stream",
     "text": [
      "(1682, 10)\n"
     ]
    }
   ],
   "source": [
    "print (top_10_similarities_mat_fac.shape)"
   ]
  },
  {
   "cell_type": "code",
   "execution_count": 305,
   "metadata": {},
   "outputs": [
    {
     "name": "stdout",
     "output_type": "stream",
     "text": [
      "10            Seven (Se7en) (1995)\n",
      "11      Usual Suspects, The (1995)\n",
      "54        Professional, The (1994)\n",
      "155          Reservoir Dogs (1992)\n",
      "91             True Romance (1993)\n",
      "692                  Casino (1995)\n",
      "788    Swimming with Sharks (1995)\n",
      "938     Murder in the First (1995)\n",
      "468              Short Cuts (1993)\n",
      "30             Crimson Tide (1995)\n",
      "Name: movie title, dtype: object\n"
     ]
    }
   ],
   "source": [
    "print (items.loc[top_10_similarities_mat_fac[10].tolist()]['movie title'])"
   ]
  },
  {
   "cell_type": "code",
   "execution_count": 306,
   "metadata": {},
   "outputs": [
    {
     "name": "stdout",
     "output_type": "stream",
     "text": [
      "10                  Seven (Se7en) (1995)\n",
      "55                   Pulp Fiction (1994)\n",
      "21                     Braveheart (1995)\n",
      "11            Usual Suspects, The (1995)\n",
      "78                  Fugitive, The (1993)\n",
      "194               Terminator, The (1984)\n",
      "97      Silence of the Lambs, The (1991)\n",
      "95     Terminator 2: Judgment Day (1991)\n",
      "173       Raiders of the Lost Ark (1981)\n",
      "63      Shawshank Redemption, The (1994)\n",
      "Name: movie title, dtype: object\n"
     ]
    }
   ],
   "source": [
    "print (items.loc[top_10_similarities[10].tolist()]['movie title'])"
   ]
  },
  {
   "cell_type": "code",
   "execution_count": null,
   "metadata": {},
   "outputs": [],
   "source": []
  }
 ],
 "metadata": {
  "kernelspec": {
   "display_name": "Python 3",
   "language": "python",
   "name": "python3"
  },
  "language_info": {
   "codemirror_mode": {
    "name": "ipython",
    "version": 3
   },
   "file_extension": ".py",
   "mimetype": "text/x-python",
   "name": "python",
   "nbconvert_exporter": "python",
   "pygments_lexer": "ipython3",
   "version": "3.6.8"
  }
 },
 "nbformat": 4,
 "nbformat_minor": 2
}

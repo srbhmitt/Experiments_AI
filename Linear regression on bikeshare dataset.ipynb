{
 "cells": [
  {
   "cell_type": "markdown",
   "metadata": {},
   "source": [
    "In this notebook we will first analyze the bike share dataset using pandas and then build a linear regression model from scratch to forecast the demand for the last 30 days"
   ]
  },
  {
   "cell_type": "code",
   "execution_count": 1,
   "metadata": {},
   "outputs": [
    {
     "name": "stdout",
     "output_type": "stream",
     "text": [
      "   instant      dteday  season  yr  mnth  hr  holiday  weekday  workingday  \\\n",
      "0        1  2011-01-01       1   0     1   0        0        6           0   \n",
      "1        2  2011-01-01       1   0     1   1        0        6           0   \n",
      "2        3  2011-01-01       1   0     1   2        0        6           0   \n",
      "3        4  2011-01-01       1   0     1   3        0        6           0   \n",
      "4        5  2011-01-01       1   0     1   4        0        6           0   \n",
      "\n",
      "   weathersit  temp   atemp   hum  windspeed  casual  registered  cnt  \n",
      "0           1  0.24  0.2879  0.81        0.0       3          13   16  \n",
      "1           1  0.22  0.2727  0.80        0.0       8          32   40  \n",
      "2           1  0.22  0.2727  0.80        0.0       5          27   32  \n",
      "3           1  0.24  0.2879  0.75        0.0       3          10   13  \n",
      "4           1  0.24  0.2879  0.75        0.0       0           1    1  \n",
      "          instant        season            yr          mnth            hr  \\\n",
      "count  17379.0000  17379.000000  17379.000000  17379.000000  17379.000000   \n",
      "mean    8690.0000      2.501640      0.502561      6.537775     11.546752   \n",
      "std     5017.0295      1.106918      0.500008      3.438776      6.914405   \n",
      "min        1.0000      1.000000      0.000000      1.000000      0.000000   \n",
      "25%     4345.5000      2.000000      0.000000      4.000000      6.000000   \n",
      "50%     8690.0000      3.000000      1.000000      7.000000     12.000000   \n",
      "75%    13034.5000      3.000000      1.000000     10.000000     18.000000   \n",
      "max    17379.0000      4.000000      1.000000     12.000000     23.000000   \n",
      "\n",
      "            holiday       weekday    workingday    weathersit          temp  \\\n",
      "count  17379.000000  17379.000000  17379.000000  17379.000000  17379.000000   \n",
      "mean       0.028770      3.003683      0.682721      1.425283      0.496987   \n",
      "std        0.167165      2.005771      0.465431      0.639357      0.192556   \n",
      "min        0.000000      0.000000      0.000000      1.000000      0.020000   \n",
      "25%        0.000000      1.000000      0.000000      1.000000      0.340000   \n",
      "50%        0.000000      3.000000      1.000000      1.000000      0.500000   \n",
      "75%        0.000000      5.000000      1.000000      2.000000      0.660000   \n",
      "max        1.000000      6.000000      1.000000      4.000000      1.000000   \n",
      "\n",
      "              atemp           hum     windspeed        casual    registered  \\\n",
      "count  17379.000000  17379.000000  17379.000000  17379.000000  17379.000000   \n",
      "mean       0.475775      0.627229      0.190098     35.676218    153.786869   \n",
      "std        0.171850      0.192930      0.122340     49.305030    151.357286   \n",
      "min        0.000000      0.000000      0.000000      0.000000      0.000000   \n",
      "25%        0.333300      0.480000      0.104500      4.000000     34.000000   \n",
      "50%        0.484800      0.630000      0.194000     17.000000    115.000000   \n",
      "75%        0.621200      0.780000      0.253700     48.000000    220.000000   \n",
      "max        1.000000      1.000000      0.850700    367.000000    886.000000   \n",
      "\n",
      "                cnt  \n",
      "count  17379.000000  \n",
      "mean     189.463088  \n",
      "std      181.387599  \n",
      "min        1.000000  \n",
      "25%       40.000000  \n",
      "50%      142.000000  \n",
      "75%      281.000000  \n",
      "max      977.000000  \n",
      "(17379, 17)\n",
      "instant       0\n",
      "dteday        0\n",
      "season        0\n",
      "yr            0\n",
      "mnth          0\n",
      "hr            0\n",
      "holiday       0\n",
      "weekday       0\n",
      "workingday    0\n",
      "weathersit    0\n",
      "temp          0\n",
      "atemp         0\n",
      "hum           0\n",
      "windspeed     0\n",
      "casual        0\n",
      "registered    0\n",
      "cnt           0\n",
      "dtype: int64\n"
     ]
    }
   ],
   "source": [
    "#importing the libraries\n",
    "import pandas as pd\n",
    "import numpy as np\n",
    "import matplotlib.pyplot as plt\n",
    "%matplotlib inline\n",
    "bikeshare_df = pd.read_csv('bikeshare_hour.csv')\n",
    "\n",
    "print (bikeshare_df.head())\n",
    "print (bikeshare_df.describe())\n",
    "print (bikeshare_df.shape)\n",
    "print (bikeshare_df.isnull().sum(axis = 0))"
   ]
  },
  {
   "cell_type": "markdown",
   "metadata": {},
   "source": [
    "So we can see that there are no null values and total number of rows is 17379. Below is the desc of the dataset\n",
    "\n",
    "\t- instant: record index\n",
    "\t- dteday : date\n",
    "\t- season : season (1:springer, 2:summer, 3:fall, 4:winter)\n",
    "\t- yr : year (0: 2011, 1:2012)\n",
    "\t- mnth : month ( 1 to 12)\n",
    "\t- hr : hour (0 to 23)\n",
    "\t- holiday : weather day is holiday or not (extracted from http://dchr.dc.gov/page/holiday-schedule)\n",
    "\t- weekday : day of the week\n",
    "\t- workingday : if day is neither weekend nor holiday is 1, otherwise is 0.\n",
    "\t+ weathersit : \n",
    "\t\t- 1: Clear, Few clouds, Partly cloudy, Partly cloudy\n",
    "\t\t- 2: Mist + Cloudy, Mist + Broken clouds, Mist + Few clouds, Mist\n",
    "\t\t- 3: Light Snow, Light Rain + Thunderstorm + Scattered clouds, Light Rain + Scattered clouds\n",
    "\t\t- 4: Heavy Rain + Ice Pallets + Thunderstorm + Mist, Snow + Fog\n",
    "\t- temp : Normalized temperature in Celsius. The values are divided to 41 (max)\n",
    "\t- atemp: Normalized feeling temperature in Celsius. The values are divided to 50 (max)\n",
    "\t- hum: Normalized humidity. The values are divided to 100 (max)\n",
    "\t- windspeed: Normalized wind speed. The values are divided to 67 (max)\n",
    "\t- casual: count of casual users\n",
    "\t- registered: count of registered users\n",
    "\t- cnt: count of total rental bikes including both casual and registered\n",
    "\t"
   ]
  },
  {
   "cell_type": "code",
   "execution_count": 2,
   "metadata": {
    "collapsed": true
   },
   "outputs": [],
   "source": [
    "def define_seasons(x):\n",
    "    if x == 1:\n",
    "        return 'Spring'\n",
    "    elif x ==2:\n",
    "        return 'Summer'\n",
    "    elif x ==3:\n",
    "        return 'Fall'\n",
    "    elif x ==4:\n",
    "        return 'Winter'\n",
    "\n",
    "bikeshare_df['seasons_defined'] = bikeshare_df['season'].apply(define_seasons)"
   ]
  },
  {
   "cell_type": "code",
   "execution_count": 3,
   "metadata": {},
   "outputs": [
    {
     "data": {
      "text/plain": [
       "<matplotlib.axes._subplots.AxesSubplot at 0x1117c8610>"
      ]
     },
     "execution_count": 3,
     "metadata": {},
     "output_type": "execute_result"
    },
    {
     "data": {
      "image/png": "[encoded data removed]",
      "text/plain": [
       "<matplotlib.figure.Figure at 0x114d25310>"
      ]
     },
     "metadata": {},
     "output_type": "display_data"
    }
   ],
   "source": [
    "#first let's look at the rentals by weather. So the hourly average is highest in Fall\n",
    "bikeshare_df.groupby(['holiday','seasons_defined']).mean()['cnt'].unstack().plot.bar()"
   ]
  },
  {
   "cell_type": "code",
   "execution_count": 4,
   "metadata": {},
   "outputs": [
    {
     "data": {
      "text/plain": [
       "<matplotlib.axes._subplots.AxesSubplot at 0x114e7a890>"
      ]
     },
     "execution_count": 4,
     "metadata": {},
     "output_type": "execute_result"
    },
    {
     "data": {
      "image/png": "[encoded data removed]",
      "text/plain": [
       "<matplotlib.figure.Figure at 0x114e89750>"
      ]
     },
     "metadata": {},
     "output_type": "display_data"
    }
   ],
   "source": [
    "#Now lets look at which time of the day is the busiest by season\n",
    "bikeshare_df.groupby(['hr','seasons_defined']).mean()[['cnt']].unstack().plot.line()\n"
   ]
  },
  {
   "cell_type": "code",
   "execution_count": 5,
   "metadata": {
    "collapsed": true
   },
   "outputs": [],
   "source": [
    "def weather_sit(x):\n",
    "    if x == 1:\n",
    "        return 'Clear'\n",
    "    elif x ==2:\n",
    "        return 'Mist'\n",
    "    elif x ==3:\n",
    "        return 'Light Snow and rain'\n",
    "    elif x ==4:\n",
    "        return 'Heavey rain and snow'\n",
    "\n",
    "bikeshare_df['weather_sit_define'] = bikeshare_df['weathersit'].apply(weather_sit)"
   ]
  },
  {
   "cell_type": "code",
   "execution_count": 6,
   "metadata": {},
   "outputs": [
    {
     "data": {
      "text/plain": [
       "<matplotlib.axes._subplots.AxesSubplot at 0x1117c8a10>"
      ]
     },
     "execution_count": 6,
     "metadata": {},
     "output_type": "execute_result"
    },
    {
     "data": {
      "image/png": "[encoded data removed]",
      "text/plain": [
       "<matplotlib.figure.Figure at 0x1157f1410>"
      ]
     },
     "metadata": {},
     "output_type": "display_data"
    }
   ],
   "source": [
    "bikeshare_df['actual_temp'] = (bikeshare_df['atemp']*50).round().astype(int)\n",
    "\n",
    "bikeshare_df.groupby(['actual_temp','weather_sit_define']).mean()[['cnt']].unstack().plot.line()"
   ]
  },
  {
   "cell_type": "code",
   "execution_count": 7,
   "metadata": {},
   "outputs": [
    {
     "data": {
      "text/plain": [
       "<matplotlib.axes._subplots.AxesSubplot at 0x115880d90>"
      ]
     },
     "execution_count": 7,
     "metadata": {},
     "output_type": "execute_result"
    },
    {
     "data": {
      "image/png": "[encoded data removed]",
      "text/plain": [
       "<matplotlib.figure.Figure at 0x114e89050>"
      ]
     },
     "metadata": {},
     "output_type": "display_data"
    }
   ],
   "source": [
    "#Let's plot the total number of rentals and see how is looks like\n",
    "\n",
    "bikeshare_df[['dteday','cnt']].plot(x = 'dteday', y = 'cnt',rot=90)"
   ]
  },
  {
   "cell_type": "code",
   "execution_count": 8,
   "metadata": {},
   "outputs": [
    {
     "data": {
      "text/plain": [
       "<matplotlib.axes._subplots.AxesSubplot at 0x115d539d0>"
      ]
     },
     "execution_count": 8,
     "metadata": {},
     "output_type": "execute_result"
    },
    {
     "data": {
      "image/png": "[encoded data removed]",
      "text/plain": [
       "<matplotlib.figure.Figure at 0x119e6b310>"
      ]
     },
     "metadata": {},
     "output_type": "display_data"
    }
   ],
   "source": [
    "#same graph on a daily basis\n",
    "bikeshare_df.groupby('dteday').sum()['cnt'].plot(rot=90)"
   ]
  },
  {
   "cell_type": "code",
   "execution_count": 9,
   "metadata": {},
   "outputs": [
    {
     "name": "stdout",
     "output_type": "stream",
     "text": [
      "731\n",
      "2011-01-01\n",
      "2012-12-31\n"
     ]
    }
   ],
   "source": [
    "print (bikeshare_df['dteday'].nunique())\n",
    "print (bikeshare_df['dteday'].min())\n",
    "print (bikeshare_df['dteday'].max())\n"
   ]
  },
  {
   "cell_type": "code",
   "execution_count": 10,
   "metadata": {},
   "outputs": [
    {
     "name": "stdout",
     "output_type": "stream",
     "text": [
      "731\n",
      "2011-01-01\n",
      "2012-12-31\n"
     ]
    }
   ],
   "source": [
    "#Now we will be building a model to predict the number of rentals for the month of Dec 2012\n",
    "#We will be using the daily dataset for this model\n",
    "bikeshare_daily_df = pd.read_csv('bikeshare_day.csv')\n",
    "print (bikeshare_daily_df['dteday'].nunique())\n",
    "print (bikeshare_daily_df['dteday'].min())\n",
    "print (bikeshare_daily_df['dteday'].max())\n"
   ]
  },
  {
   "cell_type": "code",
   "execution_count": 11,
   "metadata": {},
   "outputs": [
    {
     "data": {
      "text/plain": [
       "<matplotlib.axes._subplots.AxesSubplot at 0x119e2a9d0>"
      ]
     },
     "execution_count": 11,
     "metadata": {},
     "output_type": "execute_result"
    },
    {
     "data": {
      "image/png": "[encoded data removed]",
      "text/plain": [
       "<matplotlib.figure.Figure at 0x119e93f10>"
      ]
     },
     "metadata": {},
     "output_type": "display_data"
    }
   ],
   "source": [
    "bikeshare_daily_df[bikeshare_daily_df['dteday']>='2012-09-01'][['dteday','cnt']].plot(x = 'dteday', y ='cnt', rot=90)"
   ]
  },
  {
   "cell_type": "markdown",
   "metadata": {},
   "source": [
    "First let's do some feature engineering. The features we will be using are:\n",
    "- Day of week (dummy)\n",
    "- Season (dummy)\n",
    "- Temperature\n",
    "- Humidity\n",
    "- Weather type (dummy)\n",
    "- Holiday Flag\n",
    "- Windspeed\n",
    "- 1,3,7,14,30,60 and 140 days mean, median, min, max, std\n",
    "- 1,3,7,14,30,60 and 140 days mean, median, min, max, std of difference\n",
    "- DOW average for the last 4 weeks and 20 weeks\n",
    "- count on the same day a year ago\n",
    "\n",
    "The evaluation metric is root mean square errors"
   ]
  },
  {
   "cell_type": "code",
   "execution_count": 12,
   "metadata": {
    "collapsed": true
   },
   "outputs": [],
   "source": [
    "#Let's create the dummy variables first\n",
    "dummies_day_week = pd.get_dummies(bikeshare_daily_df['weekday']).rename(columns=lambda x: 'weekday_' + str(x))"
   ]
  },
  {
   "cell_type": "code",
   "execution_count": 13,
   "metadata": {
    "collapsed": true
   },
   "outputs": [],
   "source": [
    "bikeshare_daily_df = pd.concat([bikeshare_daily_df, dummies_day_week], axis=1)"
   ]
  },
  {
   "cell_type": "code",
   "execution_count": 14,
   "metadata": {
    "collapsed": true
   },
   "outputs": [],
   "source": [
    "dummies_season = pd.get_dummies(bikeshare_daily_df['season']).rename(columns=lambda x: 'season_' + str(x))"
   ]
  },
  {
   "cell_type": "code",
   "execution_count": 15,
   "metadata": {
    "collapsed": true
   },
   "outputs": [],
   "source": [
    "bikeshare_daily_df = pd.concat([bikeshare_daily_df, dummies_season], axis=1)"
   ]
  },
  {
   "cell_type": "code",
   "execution_count": 16,
   "metadata": {
    "collapsed": true
   },
   "outputs": [],
   "source": [
    "dummies_weather = pd.get_dummies(bikeshare_daily_df['weathersit']).rename(columns=lambda x: 'weather_' + str(x))"
   ]
  },
  {
   "cell_type": "code",
   "execution_count": 17,
   "metadata": {},
   "outputs": [
    {
     "data": {
      "text/plain": [
       "<matplotlib.axes._subplots.AxesSubplot at 0x119e9e050>"
      ]
     },
     "execution_count": 17,
     "metadata": {},
     "output_type": "execute_result"
    },
    {
     "data": {
      "image/png": "[encoded data removed]",
      "text/plain": [
       "<matplotlib.figure.Figure at 0x114e65090>"
      ]
     },
     "metadata": {},
     "output_type": "display_data"
    }
   ],
   "source": [
    "bikeshare_daily_df.groupby('weathersit').mean()['cnt'].plot.bar()"
   ]
  },
  {
   "cell_type": "code",
   "execution_count": 18,
   "metadata": {
    "collapsed": true
   },
   "outputs": [],
   "source": [
    "bikeshare_daily_df = pd.concat([bikeshare_daily_df, dummies_weather], axis=1)"
   ]
  },
  {
   "cell_type": "code",
   "execution_count": 19,
   "metadata": {
    "collapsed": true
   },
   "outputs": [],
   "source": [
    "\n",
    "bikeshare_daily_df['mnth'] = pd.to_datetime(bikeshare_daily_df['dteday'], errors='coerce').dt.month\n",
    "bikeshare_daily_df['week_num'] = pd.to_datetime(bikeshare_daily_df['dteday'], errors='coerce').dt.week+1"
   ]
  },
  {
   "cell_type": "code",
   "execution_count": 20,
   "metadata": {
    "collapsed": true
   },
   "outputs": [],
   "source": [
    "dummies_mnth = pd.get_dummies(bikeshare_daily_df['mnth']).rename(columns=lambda x: 'mnth_' + str(x))"
   ]
  },
  {
   "cell_type": "code",
   "execution_count": 21,
   "metadata": {
    "collapsed": true
   },
   "outputs": [],
   "source": [
    "bikeshare_daily_df = pd.concat([bikeshare_daily_df, dummies_mnth], axis=1)"
   ]
  },
  {
   "cell_type": "code",
   "execution_count": 22,
   "metadata": {
    "collapsed": true
   },
   "outputs": [],
   "source": [
    "#Now creating the mean, median, min, max and std. features using the rolling function\n",
    "#We are going 30 days back as we want to forecast 30 days ahead\n",
    "for i in (1,3,7,14,30,60,140):\n",
    "    bikeshare_daily_df['cnt_mean{}'.format(i)] = bikeshare_daily_df['cnt'].shift(30).rolling(i).mean()\n",
    "    bikeshare_daily_df['cnt_median{}'.format(i)] = bikeshare_daily_df['cnt'].shift(30).rolling(i).median()\n",
    "    bikeshare_daily_df['cnt_min{}'.format(i)] = bikeshare_daily_df['cnt'].shift(30).rolling(i).min()\n",
    "    bikeshare_daily_df['cnt_max{}'.format(i)] = bikeshare_daily_df['cnt'].shift(30).rolling(i).max()\n",
    "    bikeshare_daily_df['cnt_std{}'.format(i)] = bikeshare_daily_df['cnt'].shift(30).rolling(i).std()\n"
   ]
  },
  {
   "cell_type": "code",
   "execution_count": 23,
   "metadata": {
    "collapsed": true
   },
   "outputs": [],
   "source": [
    "#Now creating the difference dataset\n",
    "#We are going 30 days back as we want to forecast 30 days ahead\n",
    "bikeshare_daily_df['cnt_diff'] = bikeshare_daily_df['cnt']-bikeshare_daily_df.cnt.shift(1)\n",
    "for i in (1,3,7,14,30,60,140):\n",
    "    bikeshare_daily_df['diff_mean{}'.format(i)] = bikeshare_daily_df['cnt_diff'].shift(30).rolling(i).mean()\n",
    "    bikeshare_daily_df['diff_median{}'.format(i)] = bikeshare_daily_df['cnt_diff'].shift(30).rolling(i).median()\n",
    "    bikeshare_daily_df['diff_min{}'.format(i)] = bikeshare_daily_df['cnt_diff'].shift(30).rolling(i).min()\n",
    "    bikeshare_daily_df['diff_max{}'.format(i)] = bikeshare_daily_df['cnt_diff'].shift(30).rolling(i).max()\n",
    "    bikeshare_daily_df['diff_std{}'.format(i)] = bikeshare_daily_df['cnt_diff'].shift(30).rolling(i).std()\n",
    "bikeshare_daily_df.drop(['cnt_std1','diff_std1'], axis=1,inplace=True)"
   ]
  },
  {
   "cell_type": "code",
   "execution_count": 24,
   "metadata": {
    "collapsed": true
   },
   "outputs": [],
   "source": [
    "#creating dow of week average\n",
    "k = 0\n",
    "for i in range(4):\n",
    "    k = bikeshare_daily_df['cnt'].shift(35+7*i)+k\n",
    "bikeshare_daily_df['mean_4_dow'] = k"
   ]
  },
  {
   "cell_type": "code",
   "execution_count": 25,
   "metadata": {
    "collapsed": true
   },
   "outputs": [],
   "source": [
    "k = 0\n",
    "for i in range(15):\n",
    "    k = bikeshare_daily_df['cnt'].shift(35+7*i)+k\n",
    "bikeshare_daily_df['mean_15_dow'] = k"
   ]
  },
  {
   "cell_type": "code",
   "execution_count": 26,
   "metadata": {
    "collapsed": true
   },
   "outputs": [],
   "source": [
    "bikeshare_daily_df['cnt_1_year_back'] = bikeshare_daily_df.cnt.shift(366)"
   ]
  },
  {
   "cell_type": "code",
   "execution_count": 27,
   "metadata": {},
   "outputs": [
    {
     "data": {
      "text/plain": [
       "['instant',\n",
       " 'dteday',\n",
       " 'season',\n",
       " 'yr',\n",
       " 'mnth',\n",
       " 'holiday',\n",
       " 'weekday',\n",
       " 'workingday',\n",
       " 'weathersit',\n",
       " 'temp',\n",
       " 'atemp',\n",
       " 'hum',\n",
       " 'windspeed',\n",
       " 'casual',\n",
       " 'registered',\n",
       " 'cnt',\n",
       " 'weekday_0',\n",
       " 'weekday_1',\n",
       " 'weekday_2',\n",
       " 'weekday_3',\n",
       " 'weekday_4',\n",
       " 'weekday_5',\n",
       " 'weekday_6',\n",
       " 'season_1',\n",
       " 'season_2',\n",
       " 'season_3',\n",
       " 'season_4',\n",
       " 'weather_1',\n",
       " 'weather_2',\n",
       " 'weather_3',\n",
       " 'week_num',\n",
       " 'mnth_1',\n",
       " 'mnth_2',\n",
       " 'mnth_3',\n",
       " 'mnth_4',\n",
       " 'mnth_5',\n",
       " 'mnth_6',\n",
       " 'mnth_7',\n",
       " 'mnth_8',\n",
       " 'mnth_9',\n",
       " 'mnth_10',\n",
       " 'mnth_11',\n",
       " 'mnth_12',\n",
       " 'cnt_mean1',\n",
       " 'cnt_median1',\n",
       " 'cnt_min1',\n",
       " 'cnt_max1',\n",
       " 'cnt_mean3',\n",
       " 'cnt_median3',\n",
       " 'cnt_min3',\n",
       " 'cnt_max3',\n",
       " 'cnt_std3',\n",
       " 'cnt_mean7',\n",
       " 'cnt_median7',\n",
       " 'cnt_min7',\n",
       " 'cnt_max7',\n",
       " 'cnt_std7',\n",
       " 'cnt_mean14',\n",
       " 'cnt_median14',\n",
       " 'cnt_min14',\n",
       " 'cnt_max14',\n",
       " 'cnt_std14',\n",
       " 'cnt_mean30',\n",
       " 'cnt_median30',\n",
       " 'cnt_min30',\n",
       " 'cnt_max30',\n",
       " 'cnt_std30',\n",
       " 'cnt_mean60',\n",
       " 'cnt_median60',\n",
       " 'cnt_min60',\n",
       " 'cnt_max60',\n",
       " 'cnt_std60',\n",
       " 'cnt_mean140',\n",
       " 'cnt_median140',\n",
       " 'cnt_min140',\n",
       " 'cnt_max140',\n",
       " 'cnt_std140',\n",
       " 'cnt_diff',\n",
       " 'diff_mean1',\n",
       " 'diff_median1',\n",
       " 'diff_min1',\n",
       " 'diff_max1',\n",
       " 'diff_mean3',\n",
       " 'diff_median3',\n",
       " 'diff_min3',\n",
       " 'diff_max3',\n",
       " 'diff_std3',\n",
       " 'diff_mean7',\n",
       " 'diff_median7',\n",
       " 'diff_min7',\n",
       " 'diff_max7',\n",
       " 'diff_std7',\n",
       " 'diff_mean14',\n",
       " 'diff_median14',\n",
       " 'diff_min14',\n",
       " 'diff_max14',\n",
       " 'diff_std14',\n",
       " 'diff_mean30',\n",
       " 'diff_median30',\n",
       " 'diff_min30',\n",
       " 'diff_max30',\n",
       " 'diff_std30',\n",
       " 'diff_mean60',\n",
       " 'diff_median60',\n",
       " 'diff_min60',\n",
       " 'diff_max60',\n",
       " 'diff_std60',\n",
       " 'diff_mean140',\n",
       " 'diff_median140',\n",
       " 'diff_min140',\n",
       " 'diff_max140',\n",
       " 'diff_std140',\n",
       " 'mean_4_dow',\n",
       " 'mean_15_dow',\n",
       " 'cnt_1_year_back']"
      ]
     },
     "execution_count": 27,
     "metadata": {},
     "output_type": "execute_result"
    }
   ],
   "source": [
    "list(bikeshare_daily_df.columns.values)"
   ]
  },
  {
   "cell_type": "code",
   "execution_count": 28,
   "metadata": {},
   "outputs": [
    {
     "name": "stdout",
     "output_type": "stream",
     "text": [
      "[ 4114.79861307  6014.08378285  5910.13107945  5607.85084298  4801.64323296\n",
      "  3937.35885718  3791.28125586  2956.73222055  3758.331532    3749.94946107\n",
      "  3652.619601    4341.64631098  4274.66045051  4709.69691256  3248.50406719\n",
      "  3347.37114637  4281.6433698   4340.42545692  3807.71371309  2395.80837887\n",
      "  2875.96934776  2957.20371391]\n",
      "[4649 6234 6606 5729 5375 5008 5582 3228 5170 5501 5319 5532 5611 5047 3786\n",
      " 4585 5557 5267 4128 3623 1749 1787]\n",
      "['2012-12-02' '2012-12-03' '2012-12-04' '2012-12-05' '2012-12-06'\n",
      " '2012-12-07' '2012-12-08' '2012-12-09' '2012-12-10' '2012-12-11'\n",
      " '2012-12-12' '2012-12-13' '2012-12-14' '2012-12-15' '2012-12-16'\n",
      " '2012-12-17' '2012-12-18' '2012-12-19' '2012-12-20' '2012-12-21'\n",
      " '2012-12-22' '2012-12-23']\n"
     ]
    }
   ],
   "source": [
    "#Now we will be using linear regression on this dataset\n",
    "from sklearn.linear_model import LinearRegression\n",
    "feature_columns_to_use = [ 'workingday', 'atemp', \n",
    "                           'hum', 'windspeed', \n",
    "                           'weekday_0', 'weekday_1', 'weekday_2', 'weekday_3', \n",
    "                           'weekday_4', 'weekday_5', 'season_1', \n",
    "                           'season_2', 'season_3', 'weather_1', 'weather_2', 'cnt_mean1', \n",
    "                           'cnt_mean3', 'cnt_median3', 'cnt_min3', 'cnt_max3',\n",
    "                           'cnt_std3', 'cnt_mean7', 'cnt_median7', 'cnt_min7', 'cnt_max7',\n",
    "                           'cnt_std7', 'cnt_mean14', 'cnt_median14', 'cnt_min14', 'cnt_max14',\n",
    "                           'cnt_std14', 'cnt_mean30', 'cnt_median30', 'cnt_min30', 'cnt_max30',\n",
    "                           'cnt_std30', 'cnt_mean60', 'cnt_median60', 'cnt_min60', 'cnt_max60',\n",
    "                           'cnt_std60', 'cnt_mean140', 'cnt_median140', 'cnt_min140', \n",
    "                           'cnt_max140', 'cnt_std140',  'diff_mean1', \n",
    "                           'diff_mean3', 'diff_median3', 'diff_min3', 'diff_max3', \n",
    "                           'diff_std3', 'diff_mean7', 'diff_median7', 'diff_min7', \n",
    "                           'diff_max7', 'diff_std7', 'diff_mean14', 'diff_median14', \n",
    "                           'diff_min14', 'diff_max14', 'diff_std14', 'diff_mean30', \n",
    "                           'diff_median30', 'diff_min30', 'diff_max30', 'diff_std30', \n",
    "                           'diff_mean60', 'diff_median60', 'diff_min60', 'diff_max60', \n",
    "                           'diff_std60', 'diff_mean140', 'diff_median140', 'diff_min140', \n",
    "                           'diff_max140', 'diff_std140','mean_15_dow',\n",
    "                            'week_num',\n",
    "                           'mnth_1',\n",
    " 'mnth_2',\n",
    " 'mnth_3',\n",
    " 'mnth_4',\n",
    " 'mnth_5',\n",
    " 'mnth_6',\n",
    " 'mnth_7',\n",
    " 'mnth_8',\n",
    " 'mnth_9',\n",
    " 'mnth_10',\n",
    " 'mnth_11'\n",
    "     \n",
    "                         ]\n",
    "    \n",
    "new_train_df = bikeshare_daily_df[(bikeshare_daily_df['dteday']<'2012-12-02') & (bikeshare_daily_df['dteday']>='2011-07-01') ]\n",
    "new_test_df = bikeshare_daily_df[(bikeshare_daily_df['dteday']>='2012-12-02') & (bikeshare_daily_df['dteday']<='2012-12-23')]\n",
    "model = LinearRegression()\n",
    "model.fit(new_train_df[feature_columns_to_use],new_train_df['cnt'])\n",
    "print (model.predict(new_test_df[feature_columns_to_use]))\n",
    "print (new_test_df['cnt'].values)\n",
    "print (new_test_df['dteday'].values)"
   ]
  },
  {
   "cell_type": "code",
   "execution_count": 29,
   "metadata": {},
   "outputs": [
    {
     "name": "stdout",
     "output_type": "stream",
     "text": [
      "[ 4114.79861307  6014.08378285  5910.13107945  5607.85084298  4801.64323296\n",
      "  3937.35885718  3791.28125586  2956.73222055  3758.331532    3749.94946107\n",
      "  3652.619601    4341.64631098  4274.66045051  4709.69691256  3248.50406719\n",
      "  3347.37114637  4281.6433698   4340.42545692  3807.71371309  2395.80837887\n",
      "  2875.96934776  2957.20371391]\n"
     ]
    }
   ],
   "source": [
    "from matplotlib import pyplot as plt\n",
    "print (model.predict(new_test_df[feature_columns_to_use]))"
   ]
  },
  {
   "cell_type": "code",
   "execution_count": 30,
   "metadata": {},
   "outputs": [
    {
     "data": {
      "image/png": "[encoded data removed]",
      "text/plain": [
       "<matplotlib.figure.Figure at 0x11e697190>"
      ]
     },
     "metadata": {},
     "output_type": "display_data"
    }
   ],
   "source": [
    "plt.plot(new_test_df['dteday'].values, new_test_df['cnt'].values, label = \"Actual\") \n",
    "plt.plot(new_test_df['dteday'].values, model.predict(new_test_df[feature_columns_to_use]), label = \"Forecast\") \n",
    "plt.legend() \n",
    "plt.show() "
   ]
  },
  {
   "cell_type": "code",
   "execution_count": 31,
   "metadata": {},
   "outputs": [
    {
     "data": {
      "text/plain": [
       "0.22543725332921846"
      ]
     },
     "execution_count": 31,
     "metadata": {},
     "output_type": "execute_result"
    }
   ],
   "source": [
    "#Calculating the error\n",
    "np.mean(np.sqrt(np.square((new_test_df['cnt'].values-model.predict(new_test_df[feature_columns_to_use]))/new_test_df['cnt'].values)))"
   ]
  },
  {
   "cell_type": "code",
   "execution_count": 32,
   "metadata": {},
   "outputs": [
    {
     "name": "stdout",
     "output_type": "stream",
     "text": [
      "[  5.37286252e+02   4.71691227e+03  -2.21541365e+03  -3.01586064e+03\n",
      "  -4.33140305e+02  -6.73490575e+02  -5.71588328e+02  -5.18084567e+02\n",
      "  -5.49905282e+02  -5.60893666e+02  -6.22790350e+02   9.34418810e+02\n",
      "  -3.66510041e+02   1.87431157e+03   1.43923672e+03   3.93781671e-02\n",
      "  -3.29522873e-02   1.65155417e-01   1.43924850e-01  -4.07937090e-01\n",
      "   4.83581193e-01   1.02207296e-01   7.92944110e-02   1.38770905e-01\n",
      "  -4.21104374e-01   7.00762145e-01   4.18817137e-01  -3.49129372e-01\n",
      "   4.03744596e-01  -6.40596757e-01   1.92367819e+00   1.63400097e+00\n",
      "  -4.08117639e-01   2.82483297e-02  -6.70048874e-03  -3.42973021e-01\n",
      "   1.61634323e-01  -6.65402050e-01   1.00653864e-01  -8.72243180e-01\n",
      "   9.56934482e-01   7.70526618e-01  -4.52036221e-01  -6.49661239e-02\n",
      "   8.98678534e-01  -2.03895885e+00   1.24983528e+00   4.14370166e-03\n",
      "  -3.84950771e+01  -7.79814320e+02  -6.86923296e+01   4.01958678e+02\n",
      "   4.23594349e+02  -2.57827365e+02   9.52410431e+02   1.84393254e+02\n",
      "   3.37676044e+02   6.01125331e+02   3.28349219e+02  -4.51652805e+02]\n"
     ]
    }
   ],
   "source": [
    "print(model.coef_)  "
   ]
  },
  {
   "cell_type": "code",
   "execution_count": 33,
   "metadata": {},
   "outputs": [
    {
     "name": "stderr",
     "output_type": "stream",
     "text": [
      "/Users/sourabhmittal/anaconda2/lib/python2.7/site-packages/statsmodels/compat/pandas.py:56: FutureWarning: The pandas.core.datetools module is deprecated and will be removed in a future version. Please use the pandas.tseries module instead.\n",
      "  from pandas.core import datetools\n"
     ]
    }
   ],
   "source": [
    "import statsmodels.api as sm"
   ]
  },
  {
   "cell_type": "code",
   "execution_count": 34,
   "metadata": {
    "collapsed": true
   },
   "outputs": [],
   "source": [
    "model = sm.OLS(new_train_df['cnt'],new_train_df[feature_columns_to_use]).fit()"
   ]
  },
  {
   "cell_type": "code",
   "execution_count": 35,
   "metadata": {},
   "outputs": [
    {
     "data": {
      "text/html": [
       "<table class=\"simpletable\">\n",
       "<caption>OLS Regression Results</caption>\n",
       "<tr>\n",
       "  <th>Dep. Variable:</th>           <td>cnt</td>       <th>  R-squared:         </th> <td>   0.981</td>\n",
       "</tr>\n",
       "<tr>\n",
       "  <th>Model:</th>                   <td>OLS</td>       <th>  Adj. R-squared:    </th> <td>   0.979</td>\n",
       "</tr>\n",
       "<tr>\n",
       "  <th>Method:</th>             <td>Least Squares</td>  <th>  F-statistic:       </th> <td>   402.6</td>\n",
       "</tr>\n",
       "<tr>\n",
       "  <th>Date:</th>             <td>Mon, 25 Feb 2019</td> <th>  Prob (F-statistic):</th>  <td>  0.00</td> \n",
       "</tr>\n",
       "<tr>\n",
       "  <th>Time:</th>                 <td>11:32:21</td>     <th>  Log-Likelihood:    </th> <td> -4175.7</td>\n",
       "</tr>\n",
       "<tr>\n",
       "  <th>No. Observations:</th>      <td>   520</td>      <th>  AIC:               </th> <td>   8469.</td>\n",
       "</tr>\n",
       "<tr>\n",
       "  <th>Df Residuals:</th>          <td>   461</td>      <th>  BIC:               </th> <td>   8720.</td>\n",
       "</tr>\n",
       "<tr>\n",
       "  <th>Df Model:</th>              <td>    59</td>      <th>                     </th>     <td> </td>   \n",
       "</tr>\n",
       "<tr>\n",
       "  <th>Covariance Type:</th>      <td>nonrobust</td>    <th>                     </th>     <td> </td>   \n",
       "</tr>\n",
       "</table>\n",
       "<table class=\"simpletable\">\n",
       "<tr>\n",
       "        <td></td>           <th>coef</th>     <th>std err</th>      <th>t</th>      <th>P>|t|</th>  <th>[0.025</th>    <th>0.975]</th>  \n",
       "</tr>\n",
       "<tr>\n",
       "  <th>workingday</th>    <td>  530.8023</td> <td>  220.446</td> <td>    2.408</td> <td> 0.016</td> <td>   97.599</td> <td>  964.006</td>\n",
       "</tr>\n",
       "<tr>\n",
       "  <th>atemp</th>         <td> 4736.9119</td> <td>  611.642</td> <td>    7.745</td> <td> 0.000</td> <td> 3534.959</td> <td> 5938.865</td>\n",
       "</tr>\n",
       "<tr>\n",
       "  <th>hum</th>           <td>-2161.5171</td> <td>  403.853</td> <td>   -5.352</td> <td> 0.000</td> <td>-2955.138</td> <td>-1367.896</td>\n",
       "</tr>\n",
       "<tr>\n",
       "  <th>windspeed</th>     <td>-2966.0798</td> <td>  516.274</td> <td>   -5.745</td> <td> 0.000</td> <td>-3980.621</td> <td>-1951.538</td>\n",
       "</tr>\n",
       "<tr>\n",
       "  <th>weekday_0</th>     <td> -436.1034</td> <td>  136.978</td> <td>   -3.184</td> <td> 0.002</td> <td> -705.282</td> <td> -166.925</td>\n",
       "</tr>\n",
       "<tr>\n",
       "  <th>weekday_1</th>     <td> -670.7328</td> <td>  229.932</td> <td>   -2.917</td> <td> 0.004</td> <td>-1122.577</td> <td> -218.889</td>\n",
       "</tr>\n",
       "<tr>\n",
       "  <th>weekday_2</th>     <td> -564.2983</td> <td>  258.793</td> <td>   -2.180</td> <td> 0.030</td> <td>-1072.859</td> <td>  -55.737</td>\n",
       "</tr>\n",
       "<tr>\n",
       "  <th>weekday_3</th>     <td> -510.5342</td> <td>  256.165</td> <td>   -1.993</td> <td> 0.047</td> <td>-1013.929</td> <td>   -7.139</td>\n",
       "</tr>\n",
       "<tr>\n",
       "  <th>weekday_4</th>     <td> -542.5590</td> <td>  252.181</td> <td>   -2.151</td> <td> 0.032</td> <td>-1038.126</td> <td>  -46.992</td>\n",
       "</tr>\n",
       "<tr>\n",
       "  <th>weekday_5</th>     <td> -552.5025</td> <td>  253.203</td> <td>   -2.182</td> <td> 0.030</td> <td>-1050.078</td> <td>  -54.927</td>\n",
       "</tr>\n",
       "<tr>\n",
       "  <th>season_1</th>      <td> -663.1770</td> <td>  319.234</td> <td>   -2.077</td> <td> 0.038</td> <td>-1290.510</td> <td>  -35.844</td>\n",
       "</tr>\n",
       "<tr>\n",
       "  <th>season_2</th>      <td>  932.5324</td> <td>  403.974</td> <td>    2.308</td> <td> 0.021</td> <td>  138.673</td> <td> 1726.391</td>\n",
       "</tr>\n",
       "<tr>\n",
       "  <th>season_3</th>      <td> -372.0947</td> <td>  242.913</td> <td>   -1.532</td> <td> 0.126</td> <td> -849.449</td> <td>  105.260</td>\n",
       "</tr>\n",
       "<tr>\n",
       "  <th>weather_1</th>     <td> 1907.9007</td> <td>  245.620</td> <td>    7.768</td> <td> 0.000</td> <td> 1425.228</td> <td> 2390.573</td>\n",
       "</tr>\n",
       "<tr>\n",
       "  <th>weather_2</th>     <td> 1466.5637</td> <td>  229.883</td> <td>    6.380</td> <td> 0.000</td> <td> 1014.815</td> <td> 1918.313</td>\n",
       "</tr>\n",
       "<tr>\n",
       "  <th>cnt_mean1</th>     <td>    0.0405</td> <td>    0.050</td> <td>    0.807</td> <td> 0.420</td> <td>   -0.058</td> <td>    0.139</td>\n",
       "</tr>\n",
       "<tr>\n",
       "  <th>cnt_mean3</th>     <td>   -0.0328</td> <td>    0.025</td> <td>   -1.318</td> <td> 0.188</td> <td>   -0.082</td> <td>    0.016</td>\n",
       "</tr>\n",
       "<tr>\n",
       "  <th>cnt_median3</th>   <td>    0.1693</td> <td>    0.109</td> <td>    1.550</td> <td> 0.122</td> <td>   -0.045</td> <td>    0.384</td>\n",
       "</tr>\n",
       "<tr>\n",
       "  <th>cnt_min3</th>      <td>    0.1456</td> <td>    0.640</td> <td>    0.227</td> <td> 0.820</td> <td>   -1.113</td> <td>    1.404</td>\n",
       "</tr>\n",
       "<tr>\n",
       "  <th>cnt_max3</th>      <td>   -0.4132</td> <td>    0.589</td> <td>   -0.701</td> <td> 0.483</td> <td>   -1.571</td> <td>    0.744</td>\n",
       "</tr>\n",
       "<tr>\n",
       "  <th>cnt_std3</th>      <td>    0.4883</td> <td>    1.186</td> <td>    0.412</td> <td> 0.681</td> <td>   -1.843</td> <td>    2.820</td>\n",
       "</tr>\n",
       "<tr>\n",
       "  <th>cnt_mean7</th>     <td>    0.1018</td> <td>    0.495</td> <td>    0.206</td> <td> 0.837</td> <td>   -0.870</td> <td>    1.074</td>\n",
       "</tr>\n",
       "<tr>\n",
       "  <th>cnt_median7</th>   <td>    0.0854</td> <td>    0.271</td> <td>    0.315</td> <td> 0.753</td> <td>   -0.448</td> <td>    0.619</td>\n",
       "</tr>\n",
       "<tr>\n",
       "  <th>cnt_min7</th>      <td>    0.1465</td> <td>    0.232</td> <td>    0.631</td> <td> 0.529</td> <td>   -0.310</td> <td>    0.603</td>\n",
       "</tr>\n",
       "<tr>\n",
       "  <th>cnt_max7</th>      <td>   -0.4326</td> <td>    0.317</td> <td>   -1.366</td> <td> 0.173</td> <td>   -1.055</td> <td>    0.190</td>\n",
       "</tr>\n",
       "<tr>\n",
       "  <th>cnt_std7</th>      <td>    0.7197</td> <td>    0.743</td> <td>    0.969</td> <td> 0.333</td> <td>   -0.740</td> <td>    2.179</td>\n",
       "</tr>\n",
       "<tr>\n",
       "  <th>cnt_mean14</th>    <td>    0.4049</td> <td>    0.619</td> <td>    0.654</td> <td> 0.513</td> <td>   -0.811</td> <td>    1.621</td>\n",
       "</tr>\n",
       "<tr>\n",
       "  <th>cnt_median14</th>  <td>   -0.3398</td> <td>    0.449</td> <td>   -0.757</td> <td> 0.449</td> <td>   -1.222</td> <td>    0.542</td>\n",
       "</tr>\n",
       "<tr>\n",
       "  <th>cnt_min14</th>     <td>    0.3917</td> <td>    0.163</td> <td>    2.396</td> <td> 0.017</td> <td>    0.070</td> <td>    0.713</td>\n",
       "</tr>\n",
       "<tr>\n",
       "  <th>cnt_max14</th>     <td>   -0.6359</td> <td>    0.264</td> <td>   -2.411</td> <td> 0.016</td> <td>   -1.154</td> <td>   -0.118</td>\n",
       "</tr>\n",
       "<tr>\n",
       "  <th>cnt_std14</th>     <td>    1.8758</td> <td>    0.764</td> <td>    2.454</td> <td> 0.014</td> <td>    0.374</td> <td>    3.378</td>\n",
       "</tr>\n",
       "<tr>\n",
       "  <th>cnt_mean30</th>    <td>    1.5686</td> <td>    0.969</td> <td>    1.619</td> <td> 0.106</td> <td>   -0.335</td> <td>    3.472</td>\n",
       "</tr>\n",
       "<tr>\n",
       "  <th>cnt_median30</th>  <td>   -0.3798</td> <td>    0.697</td> <td>   -0.545</td> <td> 0.586</td> <td>   -1.750</td> <td>    0.991</td>\n",
       "</tr>\n",
       "<tr>\n",
       "  <th>cnt_min30</th>     <td>    0.0179</td> <td>    0.163</td> <td>    0.110</td> <td> 0.913</td> <td>   -0.303</td> <td>    0.339</td>\n",
       "</tr>\n",
       "<tr>\n",
       "  <th>cnt_max30</th>     <td>    0.0101</td> <td>    0.273</td> <td>    0.037</td> <td> 0.970</td> <td>   -0.526</td> <td>    0.546</td>\n",
       "</tr>\n",
       "<tr>\n",
       "  <th>cnt_std30</th>     <td>   -0.4396</td> <td>    0.894</td> <td>   -0.491</td> <td> 0.623</td> <td>   -2.197</td> <td>    1.318</td>\n",
       "</tr>\n",
       "<tr>\n",
       "  <th>cnt_mean60</th>    <td>    0.0433</td> <td>    1.214</td> <td>    0.036</td> <td> 0.972</td> <td>   -2.343</td> <td>    2.429</td>\n",
       "</tr>\n",
       "<tr>\n",
       "  <th>cnt_median60</th>  <td>   -0.7261</td> <td>    0.812</td> <td>   -0.895</td> <td> 0.371</td> <td>   -2.321</td> <td>    0.869</td>\n",
       "</tr>\n",
       "<tr>\n",
       "  <th>cnt_min60</th>     <td>    0.0991</td> <td>    0.185</td> <td>    0.536</td> <td> 0.592</td> <td>   -0.264</td> <td>    0.463</td>\n",
       "</tr>\n",
       "<tr>\n",
       "  <th>cnt_max60</th>     <td>   -0.8021</td> <td>    0.536</td> <td>   -1.495</td> <td> 0.136</td> <td>   -1.856</td> <td>    0.252</td>\n",
       "</tr>\n",
       "<tr>\n",
       "  <th>cnt_std60</th>     <td>    0.8963</td> <td>    1.297</td> <td>    0.691</td> <td> 0.490</td> <td>   -1.652</td> <td>    3.444</td>\n",
       "</tr>\n",
       "<tr>\n",
       "  <th>cnt_mean140</th>   <td>    1.1031</td> <td>    1.125</td> <td>    0.981</td> <td> 0.327</td> <td>   -1.107</td> <td>    3.313</td>\n",
       "</tr>\n",
       "<tr>\n",
       "  <th>cnt_median140</th> <td>   -0.5611</td> <td>    0.519</td> <td>   -1.081</td> <td> 0.280</td> <td>   -1.581</td> <td>    0.459</td>\n",
       "</tr>\n",
       "<tr>\n",
       "  <th>cnt_min140</th>    <td>   -0.0567</td> <td>    0.125</td> <td>   -0.452</td> <td> 0.651</td> <td>   -0.303</td> <td>    0.190</td>\n",
       "</tr>\n",
       "<tr>\n",
       "  <th>cnt_max140</th>    <td>    0.8359</td> <td>    0.496</td> <td>    1.686</td> <td> 0.093</td> <td>   -0.139</td> <td>    1.810</td>\n",
       "</tr>\n",
       "<tr>\n",
       "  <th>cnt_std140</th>    <td>   -1.5500</td> <td>    1.308</td> <td>   -1.185</td> <td> 0.236</td> <td>   -4.119</td> <td>    1.020</td>\n",
       "</tr>\n",
       "<tr>\n",
       "  <th>diff_std140</th>   <td>    1.1177</td> <td>    1.184</td> <td>    0.944</td> <td> 0.345</td> <td>   -1.208</td> <td>    3.444</td>\n",
       "</tr>\n",
       "<tr>\n",
       "  <th>mean_15_dow</th>   <td>    0.0037</td> <td>    0.010</td> <td>    0.361</td> <td> 0.718</td> <td>   -0.016</td> <td>    0.024</td>\n",
       "</tr>\n",
       "<tr>\n",
       "  <th>week_num</th>      <td>  -34.1084</td> <td>   11.632</td> <td>   -2.932</td> <td> 0.004</td> <td>  -56.968</td> <td>  -11.249</td>\n",
       "</tr>\n",
       "<tr>\n",
       "  <th>mnth_1</th>        <td> -608.6657</td> <td>  628.332</td> <td>   -0.969</td> <td> 0.333</td> <td>-1843.415</td> <td>  626.084</td>\n",
       "</tr>\n",
       "<tr>\n",
       "  <th>mnth_2</th>        <td>   42.1579</td> <td>  717.092</td> <td>    0.059</td> <td> 0.953</td> <td>-1367.017</td> <td> 1451.332</td>\n",
       "</tr>\n",
       "<tr>\n",
       "  <th>mnth_3</th>        <td>  577.7326</td> <td>  555.759</td> <td>    1.040</td> <td> 0.299</td> <td> -514.402</td> <td> 1669.867</td>\n",
       "</tr>\n",
       "<tr>\n",
       "  <th>mnth_4</th>        <td>  639.7073</td> <td>  567.582</td> <td>    1.127</td> <td> 0.260</td> <td> -475.662</td> <td> 1755.077</td>\n",
       "</tr>\n",
       "<tr>\n",
       "  <th>mnth_5</th>        <td> -137.4405</td> <td>  628.837</td> <td>   -0.219</td> <td> 0.827</td> <td>-1373.184</td> <td> 1098.303</td>\n",
       "</tr>\n",
       "<tr>\n",
       "  <th>mnth_6</th>        <td> 1045.6366</td> <td>  632.299</td> <td>    1.654</td> <td> 0.099</td> <td> -196.909</td> <td> 2288.183</td>\n",
       "</tr>\n",
       "<tr>\n",
       "  <th>mnth_7</th>        <td>  284.0593</td> <td>  547.606</td> <td>    0.519</td> <td> 0.604</td> <td> -792.055</td> <td> 1360.174</td>\n",
       "</tr>\n",
       "<tr>\n",
       "  <th>mnth_8</th>        <td>  448.8415</td> <td>  432.207</td> <td>    1.038</td> <td> 0.300</td> <td> -400.498</td> <td> 1298.181</td>\n",
       "</tr>\n",
       "<tr>\n",
       "  <th>mnth_9</th>        <td>  683.3895</td> <td>  373.145</td> <td>    1.831</td> <td> 0.068</td> <td>  -49.886</td> <td> 1416.665</td>\n",
       "</tr>\n",
       "<tr>\n",
       "  <th>mnth_10</th>       <td>  416.1225</td> <td>  326.706</td> <td>    1.274</td> <td> 0.203</td> <td> -225.895</td> <td> 1058.141</td>\n",
       "</tr>\n",
       "<tr>\n",
       "  <th>mnth_11</th>       <td> -368.0702</td> <td>  313.489</td> <td>   -1.174</td> <td> 0.241</td> <td> -984.114</td> <td>  247.974</td>\n",
       "</tr>\n",
       "</table>\n",
       "<table class=\"simpletable\">\n",
       "<tr>\n",
       "  <th>Omnibus:</th>       <td>77.851</td> <th>  Durbin-Watson:     </th> <td>   1.359</td>\n",
       "</tr>\n",
       "<tr>\n",
       "  <th>Prob(Omnibus):</th> <td> 0.000</td> <th>  Jarque-Bera (JB):  </th> <td> 187.503</td>\n",
       "</tr>\n",
       "<tr>\n",
       "  <th>Skew:</th>          <td>-0.778</td> <th>  Prob(JB):          </th> <td>1.92e-41</td>\n",
       "</tr>\n",
       "<tr>\n",
       "  <th>Kurtosis:</th>      <td> 5.497</td> <th>  Cond. No.          </th> <td>2.25e+15</td>\n",
       "</tr>\n",
       "</table>"
      ],
      "text/plain": [
       "<class 'statsmodels.iolib.summary.Summary'>\n",
       "\"\"\"\n",
       "                            OLS Regression Results                            \n",
       "==============================================================================\n",
       "Dep. Variable:                    cnt   R-squared:                       0.981\n",
       "Model:                            OLS   Adj. R-squared:                  0.979\n",
       "Method:                 Least Squares   F-statistic:                     402.6\n",
       "Date:                Mon, 25 Feb 2019   Prob (F-statistic):               0.00\n",
       "Time:                        11:32:21   Log-Likelihood:                -4175.7\n",
       "No. Observations:                 520   AIC:                             8469.\n",
       "Df Residuals:                     461   BIC:                             8720.\n",
       "Df Model:                          59                                         \n",
       "Covariance Type:            nonrobust                                         \n",
       "=================================================================================\n",
       "                    coef    std err          t      P>|t|      [0.025      0.975]\n",
       "---------------------------------------------------------------------------------\n",
       "workingday      530.8023    220.446      2.408      0.016      97.599     964.006\n",
       "atemp          4736.9119    611.642      7.745      0.000    3534.959    5938.865\n",
       "hum           -2161.5171    403.853     -5.352      0.000   -2955.138   -1367.896\n",
       "windspeed     -2966.0798    516.274     -5.745      0.000   -3980.621   -1951.538\n",
       "weekday_0      -436.1034    136.978     -3.184      0.002    -705.282    -166.925\n",
       "weekday_1      -670.7328    229.932     -2.917      0.004   -1122.577    -218.889\n",
       "weekday_2      -564.2983    258.793     -2.180      0.030   -1072.859     -55.737\n",
       "weekday_3      -510.5342    256.165     -1.993      0.047   -1013.929      -7.139\n",
       "weekday_4      -542.5590    252.181     -2.151      0.032   -1038.126     -46.992\n",
       "weekday_5      -552.5025    253.203     -2.182      0.030   -1050.078     -54.927\n",
       "season_1       -663.1770    319.234     -2.077      0.038   -1290.510     -35.844\n",
       "season_2        932.5324    403.974      2.308      0.021     138.673    1726.391\n",
       "season_3       -372.0947    242.913     -1.532      0.126    -849.449     105.260\n",
       "weather_1      1907.9007    245.620      7.768      0.000    1425.228    2390.573\n",
       "weather_2      1466.5637    229.883      6.380      0.000    1014.815    1918.313\n",
       "cnt_mean1         0.0405      0.050      0.807      0.420      -0.058       0.139\n",
       "cnt_mean3        -0.0328      0.025     -1.318      0.188      -0.082       0.016\n",
       "cnt_median3       0.1693      0.109      1.550      0.122      -0.045       0.384\n",
       "cnt_min3          0.1456      0.640      0.227      0.820      -1.113       1.404\n",
       "cnt_max3         -0.4132      0.589     -0.701      0.483      -1.571       0.744\n",
       "cnt_std3          0.4883      1.186      0.412      0.681      -1.843       2.820\n",
       "cnt_mean7         0.1018      0.495      0.206      0.837      -0.870       1.074\n",
       "cnt_median7       0.0854      0.271      0.315      0.753      -0.448       0.619\n",
       "cnt_min7          0.1465      0.232      0.631      0.529      -0.310       0.603\n",
       "cnt_max7         -0.4326      0.317     -1.366      0.173      -1.055       0.190\n",
       "cnt_std7          0.7197      0.743      0.969      0.333      -0.740       2.179\n",
       "cnt_mean14        0.4049      0.619      0.654      0.513      -0.811       1.621\n",
       "cnt_median14     -0.3398      0.449     -0.757      0.449      -1.222       0.542\n",
       "cnt_min14         0.3917      0.163      2.396      0.017       0.070       0.713\n",
       "cnt_max14        -0.6359      0.264     -2.411      0.016      -1.154      -0.118\n",
       "cnt_std14         1.8758      0.764      2.454      0.014       0.374       3.378\n",
       "cnt_mean30        1.5686      0.969      1.619      0.106      -0.335       3.472\n",
       "cnt_median30     -0.3798      0.697     -0.545      0.586      -1.750       0.991\n",
       "cnt_min30         0.0179      0.163      0.110      0.913      -0.303       0.339\n",
       "cnt_max30         0.0101      0.273      0.037      0.970      -0.526       0.546\n",
       "cnt_std30        -0.4396      0.894     -0.491      0.623      -2.197       1.318\n",
       "cnt_mean60        0.0433      1.214      0.036      0.972      -2.343       2.429\n",
       "cnt_median60     -0.7261      0.812     -0.895      0.371      -2.321       0.869\n",
       "cnt_min60         0.0991      0.185      0.536      0.592      -0.264       0.463\n",
       "cnt_max60        -0.8021      0.536     -1.495      0.136      -1.856       0.252\n",
       "cnt_std60         0.8963      1.297      0.691      0.490      -1.652       3.444\n",
       "cnt_mean140       1.1031      1.125      0.981      0.327      -1.107       3.313\n",
       "cnt_median140    -0.5611      0.519     -1.081      0.280      -1.581       0.459\n",
       "cnt_min140       -0.0567      0.125     -0.452      0.651      -0.303       0.190\n",
       "cnt_max140        0.8359      0.496      1.686      0.093      -0.139       1.810\n",
       "cnt_std140       -1.5500      1.308     -1.185      0.236      -4.119       1.020\n",
       "diff_std140       1.1177      1.184      0.944      0.345      -1.208       3.444\n",
       "mean_15_dow       0.0037      0.010      0.361      0.718      -0.016       0.024\n",
       "week_num        -34.1084     11.632     -2.932      0.004     -56.968     -11.249\n",
       "mnth_1         -608.6657    628.332     -0.969      0.333   -1843.415     626.084\n",
       "mnth_2           42.1579    717.092      0.059      0.953   -1367.017    1451.332\n",
       "mnth_3          577.7326    555.759      1.040      0.299    -514.402    1669.867\n",
       "mnth_4          639.7073    567.582      1.127      0.260    -475.662    1755.077\n",
       "mnth_5         -137.4405    628.837     -0.219      0.827   -1373.184    1098.303\n",
       "mnth_6         1045.6366    632.299      1.654      0.099    -196.909    2288.183\n",
       "mnth_7          284.0593    547.606      0.519      0.604    -792.055    1360.174\n",
       "mnth_8          448.8415    432.207      1.038      0.300    -400.498    1298.181\n",
       "mnth_9          683.3895    373.145      1.831      0.068     -49.886    1416.665\n",
       "mnth_10         416.1225    326.706      1.274      0.203    -225.895    1058.141\n",
       "mnth_11        -368.0702    313.489     -1.174      0.241    -984.114     247.974\n",
       "==============================================================================\n",
       "Omnibus:                       77.851   Durbin-Watson:                   1.359\n",
       "Prob(Omnibus):                  0.000   Jarque-Bera (JB):              187.503\n",
       "Skew:                          -0.778   Prob(JB):                     1.92e-41\n",
       "Kurtosis:                       5.497   Cond. No.                     2.25e+15\n",
       "==============================================================================\n",
       "\n",
       "Warnings:\n",
       "[1] Standard Errors assume that the covariance matrix of the errors is correctly specified.\n",
       "[2] The smallest eigenvalue is 6.28e-19. This might indicate that there are\n",
       "strong multicollinearity problems or that the design matrix is singular.\n",
       "\"\"\""
      ]
     },
     "execution_count": 35,
     "metadata": {},
     "output_type": "execute_result"
    }
   ],
   "source": [
    "model.summary()"
   ]
  },
  {
   "cell_type": "code",
   "execution_count": 36,
   "metadata": {},
   "outputs": [
    {
     "ename": "ImportError",
     "evalue": "No module named lightgbm",
     "output_type": "error",
     "traceback": [
      "\u001b[0;31m---------------------------------------------------------------------------\u001b[0m",
      "\u001b[0;31mImportError\u001b[0m                               Traceback (most recent call last)",
      "\u001b[0;32m<ipython-input-36-2ae3725bef24>\u001b[0m in \u001b[0;36m<module>\u001b[0;34m()\u001b[0m\n\u001b[0;32m----> 1\u001b[0;31m \u001b[0;32mimport\u001b[0m \u001b[0mlightgbm\u001b[0m \u001b[0;32mas\u001b[0m \u001b[0mlgb\u001b[0m\u001b[0;34m\u001b[0m\u001b[0m\n\u001b[0m",
      "\u001b[0;31mImportError\u001b[0m: No module named lightgbm"
     ]
    }
   ],
   "source": [
    "import lightgbm as lgb"
   ]
  },
  {
   "cell_type": "code",
   "execution_count": null,
   "metadata": {},
   "outputs": [],
   "source": [
    "cate_vars = []\n",
    "params = {\n",
    "        'num_leaves': 10,\n",
    "        'objective': 'regression',\n",
    "        'min_data_in_leaf': 10,\n",
    "        'learning_rate': 0.1,\n",
    "        'feature_fraction': 0.8,\n",
    "        'bagging_fraction': 0.7,\n",
    "        'bagging_freq': 1,\n",
    "        'metric': 'l2',\n",
    "        'num_threads': 16\n",
    "}\n",
    "\n",
    "MAX_ROUNDS = 1500\n",
    "\n",
    "\n",
    "dtrain = lgb.Dataset(\n",
    "    new_train_df[feature_columns_to_use], label=new_train_df['cnt'],\n",
    "    categorical_feature=cate_vars\n",
    ")\n",
    "dval = lgb.Dataset(\n",
    "    new_test_df[feature_columns_to_use], label=new_test_df['cnt'], reference=dtrain,\n",
    "    categorical_feature=cate_vars)\n",
    "bst = lgb.train(\n",
    "    params, dtrain, num_boost_round=MAX_ROUNDS,\n",
    "    valid_sets=[dtrain, dval],  verbose_eval=50\n",
    ")\n",
    "print(\"\\n\".join((\"%s: %.2f\" % x) for x in sorted(\n",
    "    zip(new_train_df[feature_columns_to_use], bst.feature_importance(\"gain\")),\n",
    "    key=lambda x: x[1], reverse=True\n",
    ")))\n",
    "lgb_pred = bst.predict(\n",
    "    new_test_df[feature_columns_to_use], num_iteration=bst.best_iteration or MAX_ROUNDS)\n",
    "\n"
   ]
  },
  {
   "cell_type": "code",
   "execution_count": null,
   "metadata": {},
   "outputs": [],
   "source": [
    "np.mean(np.sqrt(np.square((new_test_df['cnt'].values-lgb_pred)/new_test_df['cnt'].values)))"
   ]
  },
  {
   "cell_type": "code",
   "execution_count": null,
   "metadata": {},
   "outputs": [],
   "source": [
    "print (lgb_pred)"
   ]
  },
  {
   "cell_type": "code",
   "execution_count": null,
   "metadata": {},
   "outputs": [],
   "source": [
    "plt.plot(new_test_df['dteday'].values, new_test_df['cnt'].values, label = \"Actual\") \n",
    "plt.plot(new_test_df['dteday'].values, lgb_pred, label = \"Forecast\") \n",
    "plt.legend() \n",
    "plt.show() "
   ]
  }
 ],
 "metadata": {
  "kernelspec": {
   "display_name": "Python 3",
   "language": "python",
   "name": "python3"
  },
  "language_info": {
   "codemirror_mode": {
    "name": "ipython",
    "version": 3
   },
   "file_extension": ".py",
   "mimetype": "text/x-python",
   "name": "python",
   "nbconvert_exporter": "python",
   "pygments_lexer": "ipython3",
   "version": "3.6.8"
  }
 },
 "nbformat": 4,
 "nbformat_minor": 2
}

{
 "cells": [
  {
   "cell_type": "code",
   "execution_count": 2,
   "metadata": {},
   "outputs": [],
   "source": [
    "import pandas as pd\n",
    "import numpy as np"
   ]
  },
  {
   "cell_type": "code",
   "execution_count": 3,
   "metadata": {},
   "outputs": [],
   "source": [
    "train = pd.read_csv('house-prices-advanced-regression-techniques/train.csv')"
   ]
  },
  {
   "cell_type": "code",
   "execution_count": 4,
   "metadata": {},
   "outputs": [
    {
     "name": "stdout",
     "output_type": "stream",
     "text": [
      "   Id  MSSubClass MSZoning  LotFrontage  LotArea Street Alley LotShape  \\\n",
      "0   1          60       RL         65.0     8450   Pave   NaN      Reg   \n",
      "1   2          20       RL         80.0     9600   Pave   NaN      Reg   \n",
      "2   3          60       RL         68.0    11250   Pave   NaN      IR1   \n",
      "3   4          70       RL         60.0     9550   Pave   NaN      IR1   \n",
      "4   5          60       RL         84.0    14260   Pave   NaN      IR1   \n",
      "\n",
      "  LandContour Utilities  ... PoolArea PoolQC Fence MiscFeature MiscVal MoSold  \\\n",
      "0         Lvl    AllPub  ...        0    NaN   NaN         NaN       0      2   \n",
      "1         Lvl    AllPub  ...        0    NaN   NaN         NaN       0      5   \n",
      "2         Lvl    AllPub  ...        0    NaN   NaN         NaN       0      9   \n",
      "3         Lvl    AllPub  ...        0    NaN   NaN         NaN       0      2   \n",
      "4         Lvl    AllPub  ...        0    NaN   NaN         NaN       0     12   \n",
      "\n",
      "  YrSold  SaleType  SaleCondition  SalePrice  \n",
      "0   2008        WD         Normal     208500  \n",
      "1   2007        WD         Normal     181500  \n",
      "2   2008        WD         Normal     223500  \n",
      "3   2006        WD        Abnorml     140000  \n",
      "4   2008        WD         Normal     250000  \n",
      "\n",
      "[5 rows x 81 columns]\n"
     ]
    }
   ],
   "source": [
    "print (train.head())"
   ]
  },
  {
   "cell_type": "code",
   "execution_count": 5,
   "metadata": {},
   "outputs": [
    {
     "name": "stdout",
     "output_type": "stream",
     "text": [
      "(1460, 81)\n"
     ]
    }
   ],
   "source": [
    "print (train.shape)"
   ]
  },
  {
   "cell_type": "code",
   "execution_count": 6,
   "metadata": {},
   "outputs": [],
   "source": [
    "test = pd.read_csv('house-prices-advanced-regression-techniques/test.csv')"
   ]
  },
  {
   "cell_type": "code",
   "execution_count": 7,
   "metadata": {},
   "outputs": [
    {
     "name": "stdout",
     "output_type": "stream",
     "text": [
      "     Id  MSSubClass MSZoning  LotFrontage  LotArea Street Alley LotShape  \\\n",
      "0  1461          20       RH         80.0    11622   Pave   NaN      Reg   \n",
      "1  1462          20       RL         81.0    14267   Pave   NaN      IR1   \n",
      "2  1463          60       RL         74.0    13830   Pave   NaN      IR1   \n",
      "3  1464          60       RL         78.0     9978   Pave   NaN      IR1   \n",
      "4  1465         120       RL         43.0     5005   Pave   NaN      IR1   \n",
      "\n",
      "  LandContour Utilities  ... ScreenPorch PoolArea PoolQC  Fence MiscFeature  \\\n",
      "0         Lvl    AllPub  ...         120        0    NaN  MnPrv         NaN   \n",
      "1         Lvl    AllPub  ...           0        0    NaN    NaN        Gar2   \n",
      "2         Lvl    AllPub  ...           0        0    NaN  MnPrv         NaN   \n",
      "3         Lvl    AllPub  ...           0        0    NaN    NaN         NaN   \n",
      "4         HLS    AllPub  ...         144        0    NaN    NaN         NaN   \n",
      "\n",
      "  MiscVal MoSold  YrSold  SaleType  SaleCondition  \n",
      "0       0      6    2010        WD         Normal  \n",
      "1   12500      6    2010        WD         Normal  \n",
      "2       0      3    2010        WD         Normal  \n",
      "3       0      6    2010        WD         Normal  \n",
      "4       0      1    2010        WD         Normal  \n",
      "\n",
      "[5 rows x 80 columns]\n"
     ]
    }
   ],
   "source": [
    "print (test.head())"
   ]
  },
  {
   "cell_type": "code",
   "execution_count": 8,
   "metadata": {},
   "outputs": [
    {
     "name": "stdout",
     "output_type": "stream",
     "text": [
      "(1459, 80)\n"
     ]
    }
   ],
   "source": [
    "print (test.shape)"
   ]
  },
  {
   "cell_type": "code",
   "execution_count": 10,
   "metadata": {},
   "outputs": [
    {
     "name": "stdout",
     "output_type": "stream",
     "text": [
      "<class 'pandas.core.frame.DataFrame'>\n",
      "RangeIndex: 1460 entries, 0 to 1459\n",
      "Data columns (total 81 columns):\n",
      "Id               1460 non-null int64\n",
      "MSSubClass       1460 non-null int64\n",
      "MSZoning         1460 non-null object\n",
      "LotFrontage      1201 non-null float64\n",
      "LotArea          1460 non-null int64\n",
      "Street           1460 non-null object\n",
      "Alley            91 non-null object\n",
      "LotShape         1460 non-null object\n",
      "LandContour      1460 non-null object\n",
      "Utilities        1460 non-null object\n",
      "LotConfig        1460 non-null object\n",
      "LandSlope        1460 non-null object\n",
      "Neighborhood     1460 non-null object\n",
      "Condition1       1460 non-null object\n",
      "Condition2       1460 non-null object\n",
      "BldgType         1460 non-null object\n",
      "HouseStyle       1460 non-null object\n",
      "OverallQual      1460 non-null int64\n",
      "OverallCond      1460 non-null int64\n",
      "YearBuilt        1460 non-null int64\n",
      "YearRemodAdd     1460 non-null int64\n",
      "RoofStyle        1460 non-null object\n",
      "RoofMatl         1460 non-null object\n",
      "Exterior1st      1460 non-null object\n",
      "Exterior2nd      1460 non-null object\n",
      "MasVnrType       1452 non-null object\n",
      "MasVnrArea       1452 non-null float64\n",
      "ExterQual        1460 non-null object\n",
      "ExterCond        1460 non-null object\n",
      "Foundation       1460 non-null object\n",
      "BsmtQual         1423 non-null object\n",
      "BsmtCond         1423 non-null object\n",
      "BsmtExposure     1422 non-null object\n",
      "BsmtFinType1     1423 non-null object\n",
      "BsmtFinSF1       1460 non-null int64\n",
      "BsmtFinType2     1422 non-null object\n",
      "BsmtFinSF2       1460 non-null int64\n",
      "BsmtUnfSF        1460 non-null int64\n",
      "TotalBsmtSF      1460 non-null int64\n",
      "Heating          1460 non-null object\n",
      "HeatingQC        1460 non-null object\n",
      "CentralAir       1460 non-null object\n",
      "Electrical       1459 non-null object\n",
      "1stFlrSF         1460 non-null int64\n",
      "2ndFlrSF         1460 non-null int64\n",
      "LowQualFinSF     1460 non-null int64\n",
      "GrLivArea        1460 non-null int64\n",
      "BsmtFullBath     1460 non-null int64\n",
      "BsmtHalfBath     1460 non-null int64\n",
      "FullBath         1460 non-null int64\n",
      "HalfBath         1460 non-null int64\n",
      "BedroomAbvGr     1460 non-null int64\n",
      "KitchenAbvGr     1460 non-null int64\n",
      "KitchenQual      1460 non-null object\n",
      "TotRmsAbvGrd     1460 non-null int64\n",
      "Functional       1460 non-null object\n",
      "Fireplaces       1460 non-null int64\n",
      "FireplaceQu      770 non-null object\n",
      "GarageType       1379 non-null object\n",
      "GarageYrBlt      1379 non-null float64\n",
      "GarageFinish     1379 non-null object\n",
      "GarageCars       1460 non-null int64\n",
      "GarageArea       1460 non-null int64\n",
      "GarageQual       1379 non-null object\n",
      "GarageCond       1379 non-null object\n",
      "PavedDrive       1460 non-null object\n",
      "WoodDeckSF       1460 non-null int64\n",
      "OpenPorchSF      1460 non-null int64\n",
      "EnclosedPorch    1460 non-null int64\n",
      "3SsnPorch        1460 non-null int64\n",
      "ScreenPorch      1460 non-null int64\n",
      "PoolArea         1460 non-null int64\n",
      "PoolQC           7 non-null object\n",
      "Fence            281 non-null object\n",
      "MiscFeature      54 non-null object\n",
      "MiscVal          1460 non-null int64\n",
      "MoSold           1460 non-null int64\n",
      "YrSold           1460 non-null int64\n",
      "SaleType         1460 non-null object\n",
      "SaleCondition    1460 non-null object\n",
      "SalePrice        1460 non-null int64\n",
      "dtypes: float64(3), int64(35), object(43)\n",
      "memory usage: 924.0+ KB\n",
      "None\n"
     ]
    }
   ],
   "source": [
    "print (train.info())"
   ]
  },
  {
   "cell_type": "code",
   "execution_count": 11,
   "metadata": {},
   "outputs": [
    {
     "name": "stdout",
     "output_type": "stream",
     "text": [
      "20     536\n",
      "60     299\n",
      "50     144\n",
      "120     87\n",
      "30      69\n",
      "160     63\n",
      "70      60\n",
      "80      58\n",
      "90      52\n",
      "190     30\n",
      "85      20\n",
      "75      16\n",
      "45      12\n",
      "180     10\n",
      "40       4\n",
      "Name: MSSubClass, dtype: int64\n"
     ]
    }
   ],
   "source": [
    "#lets do feature enggineering first\n",
    "print (train['MSSubClass'].value_counts())"
   ]
  },
  {
   "cell_type": "code",
   "execution_count": 16,
   "metadata": {},
   "outputs": [],
   "source": [
    "mssubclass = pd.get_dummies(train['MSSubClass'],drop_first=True,prefix='MSSubClass')"
   ]
  },
  {
   "cell_type": "code",
   "execution_count": 17,
   "metadata": {},
   "outputs": [
    {
     "name": "stdout",
     "output_type": "stream",
     "text": [
      "      MSSubClass_30  MSSubClass_40  MSSubClass_45  MSSubClass_50  \\\n",
      "0                 0              0              0              0   \n",
      "1                 0              0              0              0   \n",
      "2                 0              0              0              0   \n",
      "3                 0              0              0              0   \n",
      "4                 0              0              0              0   \n",
      "5                 0              0              0              1   \n",
      "6                 0              0              0              0   \n",
      "7                 0              0              0              0   \n",
      "8                 0              0              0              1   \n",
      "9                 0              0              0              0   \n",
      "10                0              0              0              0   \n",
      "11                0              0              0              0   \n",
      "12                0              0              0              0   \n",
      "13                0              0              0              0   \n",
      "14                0              0              0              0   \n",
      "15                0              0              1              0   \n",
      "16                0              0              0              0   \n",
      "17                0              0              0              0   \n",
      "18                0              0              0              0   \n",
      "19                0              0              0              0   \n",
      "20                0              0              0              0   \n",
      "21                0              0              1              0   \n",
      "22                0              0              0              0   \n",
      "23                0              0              0              0   \n",
      "24                0              0              0              0   \n",
      "25                0              0              0              0   \n",
      "26                0              0              0              0   \n",
      "27                0              0              0              0   \n",
      "28                0              0              0              0   \n",
      "29                1              0              0              0   \n",
      "...             ...            ...            ...            ...   \n",
      "1430              0              0              0              0   \n",
      "1431              0              0              0              0   \n",
      "1432              1              0              0              0   \n",
      "1433              0              0              0              0   \n",
      "1434              0              0              0              0   \n",
      "1435              0              0              0              0   \n",
      "1436              0              0              0              0   \n",
      "1437              0              0              0              0   \n",
      "1438              0              0              0              0   \n",
      "1439              0              0              0              0   \n",
      "1440              0              0              0              0   \n",
      "1441              0              0              0              0   \n",
      "1442              0              0              0              0   \n",
      "1443              1              0              0              0   \n",
      "1444              0              0              0              0   \n",
      "1445              0              0              0              0   \n",
      "1446              0              0              0              0   \n",
      "1447              0              0              0              0   \n",
      "1448              0              0              0              1   \n",
      "1449              0              0              0              0   \n",
      "1450              0              0              0              0   \n",
      "1451              0              0              0              0   \n",
      "1452              0              0              0              0   \n",
      "1453              0              0              0              0   \n",
      "1454              0              0              0              0   \n",
      "1455              0              0              0              0   \n",
      "1456              0              0              0              0   \n",
      "1457              0              0              0              0   \n",
      "1458              0              0              0              0   \n",
      "1459              0              0              0              0   \n",
      "\n",
      "      MSSubClass_60  MSSubClass_70  MSSubClass_75  MSSubClass_80  \\\n",
      "0                 1              0              0              0   \n",
      "1                 0              0              0              0   \n",
      "2                 1              0              0              0   \n",
      "3                 0              1              0              0   \n",
      "4                 1              0              0              0   \n",
      "5                 0              0              0              0   \n",
      "6                 0              0              0              0   \n",
      "7                 1              0              0              0   \n",
      "8                 0              0              0              0   \n",
      "9                 0              0              0              0   \n",
      "10                0              0              0              0   \n",
      "11                1              0              0              0   \n",
      "12                0              0              0              0   \n",
      "13                0              0              0              0   \n",
      "14                0              0              0              0   \n",
      "15                0              0              0              0   \n",
      "16                0              0              0              0   \n",
      "17                0              0              0              0   \n",
      "18                0              0              0              0   \n",
      "19                0              0              0              0   \n",
      "20                1              0              0              0   \n",
      "21                0              0              0              0   \n",
      "22                0              0              0              0   \n",
      "23                0              0              0              0   \n",
      "24                0              0              0              0   \n",
      "25                0              0              0              0   \n",
      "26                0              0              0              0   \n",
      "27                0              0              0              0   \n",
      "28                0              0              0              0   \n",
      "29                0              0              0              0   \n",
      "...             ...            ...            ...            ...   \n",
      "1430              1              0              0              0   \n",
      "1431              0              0              0              0   \n",
      "1432              0              0              0              0   \n",
      "1433              1              0              0              0   \n",
      "1434              0              0              0              0   \n",
      "1435              0              0              0              0   \n",
      "1436              0              0              0              0   \n",
      "1437              0              0              0              0   \n",
      "1438              0              0              0              0   \n",
      "1439              1              0              0              0   \n",
      "1440              0              1              0              0   \n",
      "1441              0              0              0              0   \n",
      "1442              1              0              0              0   \n",
      "1443              0              0              0              0   \n",
      "1444              0              0              0              0   \n",
      "1445              0              0              0              0   \n",
      "1446              0              0              0              0   \n",
      "1447              1              0              0              0   \n",
      "1448              0              0              0              0   \n",
      "1449              0              0              0              0   \n",
      "1450              0              0              0              0   \n",
      "1451              0              0              0              0   \n",
      "1452              0              0              0              0   \n",
      "1453              0              0              0              0   \n",
      "1454              0              0              0              0   \n",
      "1455              1              0              0              0   \n",
      "1456              0              0              0              0   \n",
      "1457              0              1              0              0   \n",
      "1458              0              0              0              0   \n",
      "1459              0              0              0              0   \n",
      "\n",
      "      MSSubClass_85  MSSubClass_90  MSSubClass_120  MSSubClass_160  \\\n",
      "0                 0              0               0               0   \n",
      "1                 0              0               0               0   \n",
      "2                 0              0               0               0   \n",
      "3                 0              0               0               0   \n",
      "4                 0              0               0               0   \n",
      "5                 0              0               0               0   \n",
      "6                 0              0               0               0   \n",
      "7                 0              0               0               0   \n",
      "8                 0              0               0               0   \n",
      "9                 0              0               0               0   \n",
      "10                0              0               0               0   \n",
      "11                0              0               0               0   \n",
      "12                0              0               0               0   \n",
      "13                0              0               0               0   \n",
      "14                0              0               0               0   \n",
      "15                0              0               0               0   \n",
      "16                0              0               0               0   \n",
      "17                0              1               0               0   \n",
      "18                0              0               0               0   \n",
      "19                0              0               0               0   \n",
      "20                0              0               0               0   \n",
      "21                0              0               0               0   \n",
      "22                0              0               0               0   \n",
      "23                0              0               1               0   \n",
      "24                0              0               0               0   \n",
      "25                0              0               0               0   \n",
      "26                0              0               0               0   \n",
      "27                0              0               0               0   \n",
      "28                0              0               0               0   \n",
      "29                0              0               0               0   \n",
      "...             ...            ...             ...             ...   \n",
      "1430              0              0               0               0   \n",
      "1431              0              0               1               0   \n",
      "1432              0              0               0               0   \n",
      "1433              0              0               0               0   \n",
      "1434              0              0               0               0   \n",
      "1435              0              0               0               0   \n",
      "1436              0              0               0               0   \n",
      "1437              0              0               0               0   \n",
      "1438              0              0               0               0   \n",
      "1439              0              0               0               0   \n",
      "1440              0              0               0               0   \n",
      "1441              0              0               1               0   \n",
      "1442              0              0               0               0   \n",
      "1443              0              0               0               0   \n",
      "1444              0              0               0               0   \n",
      "1445              1              0               0               0   \n",
      "1446              0              0               0               0   \n",
      "1447              0              0               0               0   \n",
      "1448              0              0               0               0   \n",
      "1449              0              0               0               0   \n",
      "1450              0              1               0               0   \n",
      "1451              0              0               0               0   \n",
      "1452              0              0               0               0   \n",
      "1453              0              0               0               0   \n",
      "1454              0              0               0               0   \n",
      "1455              0              0               0               0   \n",
      "1456              0              0               0               0   \n",
      "1457              0              0               0               0   \n",
      "1458              0              0               0               0   \n",
      "1459              0              0               0               0   \n",
      "\n",
      "      MSSubClass_180  MSSubClass_190  \n",
      "0                  0               0  \n",
      "1                  0               0  \n",
      "2                  0               0  \n",
      "3                  0               0  \n",
      "4                  0               0  \n",
      "5                  0               0  \n",
      "6                  0               0  \n",
      "7                  0               0  \n",
      "8                  0               0  \n",
      "9                  0               1  \n",
      "10                 0               0  \n",
      "11                 0               0  \n",
      "12                 0               0  \n",
      "13                 0               0  \n",
      "14                 0               0  \n",
      "15                 0               0  \n",
      "16                 0               0  \n",
      "17                 0               0  \n",
      "18                 0               0  \n",
      "19                 0               0  \n",
      "20                 0               0  \n",
      "21                 0               0  \n",
      "22                 0               0  \n",
      "23                 0               0  \n",
      "24                 0               0  \n",
      "25                 0               0  \n",
      "26                 0               0  \n",
      "27                 0               0  \n",
      "28                 0               0  \n",
      "29                 0               0  \n",
      "...              ...             ...  \n",
      "1430               0               0  \n",
      "1431               0               0  \n",
      "1432               0               0  \n",
      "1433               0               0  \n",
      "1434               0               0  \n",
      "1435               0               0  \n",
      "1436               0               0  \n",
      "1437               0               0  \n",
      "1438               0               0  \n",
      "1439               0               0  \n",
      "1440               0               0  \n",
      "1441               0               0  \n",
      "1442               0               0  \n",
      "1443               0               0  \n",
      "1444               0               0  \n",
      "1445               0               0  \n",
      "1446               0               0  \n",
      "1447               0               0  \n",
      "1448               0               0  \n",
      "1449               1               0  \n",
      "1450               0               0  \n",
      "1451               0               0  \n",
      "1452               1               0  \n",
      "1453               0               0  \n",
      "1454               0               0  \n",
      "1455               0               0  \n",
      "1456               0               0  \n",
      "1457               0               0  \n",
      "1458               0               0  \n",
      "1459               0               0  \n",
      "\n",
      "[1460 rows x 14 columns]\n"
     ]
    }
   ],
   "source": [
    "print (mssubclass)"
   ]
  },
  {
   "cell_type": "code",
   "execution_count": 18,
   "metadata": {},
   "outputs": [],
   "source": [
    "train = pd.concat([train,mssubclass],axis=1)"
   ]
  },
  {
   "cell_type": "code",
   "execution_count": 20,
   "metadata": {},
   "outputs": [
    {
     "name": "stdout",
     "output_type": "stream",
     "text": [
      "(1460, 95)\n"
     ]
    }
   ],
   "source": [
    "print (train.shape)"
   ]
  },
  {
   "cell_type": "code",
   "execution_count": 21,
   "metadata": {},
   "outputs": [
    {
     "name": "stdout",
     "output_type": "stream",
     "text": [
      "RL         1151\n",
      "RM          218\n",
      "FV           65\n",
      "RH           16\n",
      "C (all)      10\n",
      "Name: MSZoning, dtype: int64\n"
     ]
    }
   ],
   "source": [
    "print (train['MSZoning'].value_counts())"
   ]
  },
  {
   "cell_type": "code",
   "execution_count": 22,
   "metadata": {},
   "outputs": [],
   "source": [
    "MSZoning = pd.get_dummies(train['MSZoning'],drop_first=True,prefix='MSZoning')"
   ]
  },
  {
   "cell_type": "code",
   "execution_count": 23,
   "metadata": {},
   "outputs": [],
   "source": [
    "train = pd.concat([train,MSZoning],axis=1)"
   ]
  },
  {
   "cell_type": "code",
   "execution_count": 25,
   "metadata": {},
   "outputs": [
    {
     "name": "stdout",
     "output_type": "stream",
     "text": [
      "count    1201.000000\n",
      "mean       70.049958\n",
      "std        24.284752\n",
      "min        21.000000\n",
      "25%        59.000000\n",
      "50%        69.000000\n",
      "75%        80.000000\n",
      "max       313.000000\n",
      "Name: LotFrontage, dtype: float64\n"
     ]
    }
   ],
   "source": [
    "print (train['LotFrontage'].describe())"
   ]
  },
  {
   "cell_type": "code",
   "execution_count": 29,
   "metadata": {},
   "outputs": [
    {
     "name": "stdout",
     "output_type": "stream",
     "text": [
      "Empty DataFrame\n",
      "Columns: [Id, MSSubClass, MSZoning, LotFrontage, LotArea, Street, Alley, LotShape, LandContour, Utilities, LotConfig, LandSlope, Neighborhood, Condition1, Condition2, BldgType, HouseStyle, OverallQual, OverallCond, YearBuilt, YearRemodAdd, RoofStyle, RoofMatl, Exterior1st, Exterior2nd, MasVnrType, MasVnrArea, ExterQual, ExterCond, Foundation, BsmtQual, BsmtCond, BsmtExposure, BsmtFinType1, BsmtFinSF1, BsmtFinType2, BsmtFinSF2, BsmtUnfSF, TotalBsmtSF, Heating, HeatingQC, CentralAir, Electrical, 1stFlrSF, 2ndFlrSF, LowQualFinSF, GrLivArea, BsmtFullBath, BsmtHalfBath, FullBath, HalfBath, BedroomAbvGr, KitchenAbvGr, KitchenQual, TotRmsAbvGrd, Functional, Fireplaces, FireplaceQu, GarageType, GarageYrBlt, GarageFinish, GarageCars, GarageArea, GarageQual, GarageCond, PavedDrive, WoodDeckSF, OpenPorchSF, EnclosedPorch, 3SsnPorch, ScreenPorch, PoolArea, PoolQC, Fence, MiscFeature, MiscVal, MoSold, YrSold, SaleType, SaleCondition, SalePrice, MSSubClass_30, MSSubClass_40, MSSubClass_45, MSSubClass_50, MSSubClass_60, MSSubClass_70, MSSubClass_75, MSSubClass_80, MSSubClass_85, MSSubClass_90, MSSubClass_120, MSSubClass_160, MSSubClass_180, MSSubClass_190, MSZoning_FV, MSZoning_RH, MSZoning_RL, MSZoning_RM]\n",
      "Index: []\n",
      "\n",
      "[0 rows x 99 columns]\n"
     ]
    }
   ],
   "source": [
    "train['LotFrontage'].fillna(0,inplace=True)\n",
    "print (train[train.LotFrontage.isna()])\n"
   ]
  },
  {
   "cell_type": "code",
   "execution_count": 30,
   "metadata": {},
   "outputs": [
    {
     "name": "stdout",
     "output_type": "stream",
     "text": [
      "Pave    1454\n",
      "Grvl       6\n",
      "Name: Street, dtype: int64\n"
     ]
    }
   ],
   "source": [
    "print (train['Street'].value_counts())"
   ]
  },
  {
   "cell_type": "code",
   "execution_count": 31,
   "metadata": {},
   "outputs": [],
   "source": [
    "Street = pd.get_dummies(train['Street'],drop_first=True,prefix='Street')"
   ]
  },
  {
   "cell_type": "code",
   "execution_count": 32,
   "metadata": {},
   "outputs": [],
   "source": [
    "train = pd.concat([train,Street],axis=1)"
   ]
  },
  {
   "cell_type": "code",
   "execution_count": 33,
   "metadata": {},
   "outputs": [
    {
     "name": "stdout",
     "output_type": "stream",
     "text": [
      "Reg    925\n",
      "IR1    484\n",
      "IR2     41\n",
      "IR3     10\n",
      "Name: LotShape, dtype: int64\n"
     ]
    }
   ],
   "source": [
    "print (train['LotShape'].value_counts())"
   ]
  },
  {
   "cell_type": "code",
   "execution_count": 34,
   "metadata": {},
   "outputs": [],
   "source": [
    "LotShape = pd.get_dummies(train['LotShape'],drop_first=True,prefix='LotShape')"
   ]
  },
  {
   "cell_type": "code",
   "execution_count": 35,
   "metadata": {},
   "outputs": [],
   "source": [
    "train = pd.concat([train,LotShape],axis=1)"
   ]
  },
  {
   "cell_type": "code",
   "execution_count": 36,
   "metadata": {},
   "outputs": [
    {
     "name": "stdout",
     "output_type": "stream",
     "text": [
      "Lvl    1311\n",
      "Bnk      63\n",
      "HLS      50\n",
      "Low      36\n",
      "Name: LandContour, dtype: int64\n"
     ]
    }
   ],
   "source": [
    "print (train['LandContour'].value_counts())"
   ]
  },
  {
   "cell_type": "code",
   "execution_count": 37,
   "metadata": {},
   "outputs": [],
   "source": [
    "LandContour = pd.get_dummies(train['LandContour'],drop_first=True,prefix='LandContour')\n",
    "train = pd.concat([train,LandContour],axis=1)"
   ]
  },
  {
   "cell_type": "code",
   "execution_count": 38,
   "metadata": {},
   "outputs": [
    {
     "name": "stdout",
     "output_type": "stream",
     "text": [
      "AllPub    1459\n",
      "NoSeWa       1\n",
      "Name: Utilities, dtype: int64\n"
     ]
    }
   ],
   "source": [
    "print (train['Utilities'].value_counts())#useless feature"
   ]
  },
  {
   "cell_type": "code",
   "execution_count": 41,
   "metadata": {},
   "outputs": [],
   "source": [
    "train.drop(columns=['Utilities'],inplace=True)"
   ]
  },
  {
   "cell_type": "code",
   "execution_count": 42,
   "metadata": {},
   "outputs": [
    {
     "name": "stdout",
     "output_type": "stream",
     "text": [
      "Inside     1052\n",
      "Corner      263\n",
      "CulDSac      94\n",
      "FR2          47\n",
      "FR3           4\n",
      "Name: LotConfig, dtype: int64\n"
     ]
    }
   ],
   "source": [
    "print (train['LotConfig'].value_counts())"
   ]
  },
  {
   "cell_type": "code",
   "execution_count": 43,
   "metadata": {},
   "outputs": [],
   "source": [
    "LotConfig = pd.get_dummies(train['LotConfig'],drop_first=True,prefix='LotConfig')\n",
    "train = pd.concat([train,LotConfig],axis=1)"
   ]
  },
  {
   "cell_type": "code",
   "execution_count": 44,
   "metadata": {},
   "outputs": [
    {
     "name": "stdout",
     "output_type": "stream",
     "text": [
      "Gtl    1382\n",
      "Mod      65\n",
      "Sev      13\n",
      "Name: LandSlope, dtype: int64\n"
     ]
    }
   ],
   "source": [
    "print (train['LandSlope'].value_counts())"
   ]
  },
  {
   "cell_type": "code",
   "execution_count": 45,
   "metadata": {},
   "outputs": [],
   "source": [
    "LandSlope = pd.get_dummies(train['LandSlope'],drop_first=True,prefix='LandSlope')\n",
    "train = pd.concat([train,LandSlope],axis=1)"
   ]
  },
  {
   "cell_type": "code",
   "execution_count": 46,
   "metadata": {},
   "outputs": [
    {
     "name": "stdout",
     "output_type": "stream",
     "text": [
      "NAmes      225\n",
      "CollgCr    150\n",
      "OldTown    113\n",
      "Edwards    100\n",
      "Somerst     86\n",
      "Gilbert     79\n",
      "NridgHt     77\n",
      "Sawyer      74\n",
      "NWAmes      73\n",
      "SawyerW     59\n",
      "BrkSide     58\n",
      "Crawfor     51\n",
      "Mitchel     49\n",
      "NoRidge     41\n",
      "Timber      38\n",
      "IDOTRR      37\n",
      "ClearCr     28\n",
      "StoneBr     25\n",
      "SWISU       25\n",
      "MeadowV     17\n",
      "Blmngtn     17\n",
      "BrDale      16\n",
      "Veenker     11\n",
      "NPkVill      9\n",
      "Blueste      2\n",
      "Name: Neighborhood, dtype: int64\n"
     ]
    }
   ],
   "source": [
    "print (train['Neighborhood'].value_counts())"
   ]
  },
  {
   "cell_type": "code",
   "execution_count": 47,
   "metadata": {},
   "outputs": [],
   "source": [
    "Neighborhood = pd.get_dummies(train['Neighborhood'],drop_first=True,prefix='Neighborhood')\n",
    "train = pd.concat([train,Neighborhood],axis=1)"
   ]
  },
  {
   "cell_type": "code",
   "execution_count": null,
   "metadata": {},
   "outputs": [],
   "source": []
  }
 ],
 "metadata": {
  "kernelspec": {
   "display_name": "Python 3",
   "language": "python",
   "name": "python3"
  },
  "language_info": {
   "codemirror_mode": {
    "name": "ipython",
    "version": 3
   },
   "file_extension": ".py",
   "mimetype": "text/x-python",
   "name": "python",
   "nbconvert_exporter": "python",
   "pygments_lexer": "ipython3",
   "version": "3.6.8"
  }
 },
 "nbformat": 4,
 "nbformat_minor": 2
}
